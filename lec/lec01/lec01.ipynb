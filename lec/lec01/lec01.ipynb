{
 "cells": [
  {
   "cell_type": "markdown",
   "metadata": {},
   "source": [
    "# This is a Jupyter Notebook\n",
    "\n",
    "A Jupyter Notebook is a data-science environment that combines:\n",
    "\n",
    "1. **Narrative:** The text describing your analysis\n",
    "2. **Code:** The program that does the analysis\n",
    "3. **Results:** The output of the program\n",
    "\n",
    "The Jupyter environment was created by faculty at UC Berkeley (Fernando Perez). These ideas are now in a lot of different technologies (e.g., Google Collab, Microsoft DeepNote, GitHub Codespaces, etc.\n",
    "). \n",
    "\n",
    "<br/><br/>\n",
    "\n",
    "The link from Canvas sets up the notebook in an cloud environment, which allows you to work on any device. \n"
   ]
  },
  {
   "cell_type": "markdown",
   "metadata": {},
   "source": [
    "<br/><br/>\n",
    "\n",
    "---\n",
    "\n",
    "## Example\n",
    "\n",
    "**Note:** In this lecture there is a lot of code. You are not expected to know any of this yet. This is just a preview of the things you will see in the next few weeks. \n",
    "\n",
    "<br/><br/><br/>\n",
    "\n"
   ]
  },
  {
   "cell_type": "markdown",
   "metadata": {},
   "source": [
    "### Getting the Data\n",
    "\n",
    "We can use the tools of data science to study text.  For example, here we will do some basic analysis of *[\"Adventures of Huckleberry Finn\"](https://en.wikipedia.org/wiki/Adventures_of_Huckleberry_Finn)* (by Mark Twain) and from *[\"Little Women\"](https://en.wikipedia.org/wiki/Little_Women)* (by Louisa May Alcott).  \n",
    "\n",
    "Often the first step in data sciences is getting the data.  The following is a tiny program to download text from the web."
   ]
  },
  {
   "cell_type": "code",
   "execution_count": null,
   "metadata": {
    "tags": []
   },
   "outputs": [],
   "source": [
    "# A tiny program to download text from the web.\n",
    "def read_url(url): \n",
    "    from urllib.request import urlopen \n",
    "    import re\n",
    "    return re.sub('\\\\s+', ' ', urlopen(url).read().decode())"
   ]
  },
  {
   "cell_type": "markdown",
   "metadata": {},
   "source": [
    "We ran this code cell above by using: SHIFT+ENTER\n",
    "\n",
    "<br/><br/>\n",
    "\n",
    "Here we download the books from the [*Computational and Inferential Thinking* textbook website](https://inferentialthinking.com/chapters/intro.html).  This is the textbook you will be using for this class."
   ]
  },
  {
   "cell_type": "code",
   "execution_count": null,
   "metadata": {
    "tags": []
   },
   "outputs": [],
   "source": [
    "huck_finn_url = 'https://www.inferentialthinking.com/data/huck_finn.txt'\n",
    "huck_finn_text = read_url(huck_finn_url)\n",
    "huck_finn_chapters = huck_finn_text.split('CHAPTER ')[44:]"
   ]
  },
  {
   "cell_type": "code",
   "execution_count": null,
   "metadata": {
    "tags": []
   },
   "outputs": [],
   "source": [
    "little_women_url = 'https://www.inferentialthinking.com/data/little_women.txt'\n",
    "little_women_text = read_url(little_women_url)\n",
    "little_women_chapters = little_women_text.split('CHAPTER ')[1:]"
   ]
  },
  {
   "cell_type": "markdown",
   "metadata": {},
   "source": [
    "<br/><br/>\n",
    "\n",
    "Let's look at the text from the first chapter of Huckleberry Finn:"
   ]
  },
  {
   "cell_type": "code",
   "execution_count": null,
   "metadata": {
    "tags": []
   },
   "outputs": [],
   "source": [
    "# write some code here\n"
   ]
  },
  {
   "cell_type": "code",
   "execution_count": null,
   "metadata": {
    "tags": []
   },
   "outputs": [],
   "source": []
  },
  {
   "cell_type": "markdown",
   "metadata": {},
   "source": [
    "<br/><br/>\n",
    "# Working with Tables\n",
    "\n",
    "A lot of data science is about transforming data often to produce tables that we can more easily analyze.\n",
    "In this class you will use the `datascience` library to manipulate and data.  This Python package was developed at UC Berkeley to support data science education. "
   ]
  },
  {
   "cell_type": "code",
   "execution_count": null,
   "metadata": {
    "tags": []
   },
   "outputs": [],
   "source": [
    "import datascience\n",
    "datascience.__version__"
   ]
  },
  {
   "cell_type": "code",
   "execution_count": null,
   "metadata": {
    "tags": []
   },
   "outputs": [],
   "source": [
    "from datascience import *"
   ]
  },
  {
   "cell_type": "markdown",
   "metadata": {},
   "source": [
    "Take the text from the different chapters above and put it in a Table. "
   ]
  },
  {
   "cell_type": "code",
   "execution_count": null,
   "metadata": {
    "tags": []
   },
   "outputs": [],
   "source": [
    "Table().with_column('Chapters', huck_finn_chapters)"
   ]
  },
  {
   "cell_type": "markdown",
   "metadata": {},
   "source": [
    "<br/><br/>\n",
    "\n",
    "### Summaring Data \n",
    "\n",
    "We will explore data by extracting summaries. For example, we might ask, how often characters appeared in each chapter. We can use snippets of code to answer these questions."
   ]
  },
  {
   "cell_type": "code",
   "execution_count": null,
   "metadata": {
    "tags": []
   },
   "outputs": [],
   "source": [
    "import numpy as np"
   ]
  },
  {
   "cell_type": "markdown",
   "metadata": {},
   "source": [
    "_**Question**_  How often is Tom mentioned in each chapter? "
   ]
  },
  {
   "cell_type": "code",
   "execution_count": null,
   "metadata": {
    "tags": []
   },
   "outputs": [],
   "source": [
    "np.char.count(huck_finn_chapters, 'Tom')"
   ]
  },
  {
   "cell_type": "code",
   "execution_count": null,
   "metadata": {
    "tags": []
   },
   "outputs": [],
   "source": [
    "np.char.count(huck_finn_chapters, 'Jim')"
   ]
  },
  {
   "cell_type": "markdown",
   "metadata": {},
   "source": [
    "_**Question**_ *What can we say about these characters just from the numbers?* \n",
    "\n",
    "\n",
    "\n",
    "\n",
    "<br/><br/><br/>\n",
    "\n",
    "\n",
    "We can convert the results of the analysis above (more data) into tables."
   ]
  },
  {
   "cell_type": "code",
   "execution_count": null,
   "metadata": {
    "tags": []
   },
   "outputs": [],
   "source": [
    "counts = Table().with_columns([\n",
    "    'Tom', np.char.count(huck_finn_chapters, 'Tom'),\n",
    "    'Jim', np.char.count(huck_finn_chapters, 'Jim'),\n",
    "    'Huck', np.char.count(huck_finn_chapters, 'Huck'),\n",
    "])\n",
    "counts"
   ]
  },
  {
   "cell_type": "markdown",
   "metadata": {},
   "source": [
    "_**Question**_ The book is called the *Adventures of Huckleberry Finn*, but Huck does not seem to be mentioned often.  Why? \n",
    "\n",
    "\n",
    "<br/><br/><br/><br/>\n",
    "\n",
    "\n",
    "# We will Learn to Visualize Data"
   ]
  },
  {
   "cell_type": "markdown",
   "metadata": {},
   "source": [
    "Plot the cumulative counts:\n",
    "How many times in Chapter 1, how many times in Chapters 1 and 2, and so on.\n"
   ]
  },
  {
   "cell_type": "code",
   "execution_count": null,
   "metadata": {
    "tags": []
   },
   "outputs": [],
   "source": [
    "# %matplotlib inline\n",
    "# import matplotlib.pyplot as plt\n",
    "# plt.style.use('fivethirtyeight')\n",
    "# cum_counts = counts.cumsum().with_column('Chapter', np.arange(1, 44, 1))\n",
    "# cum_counts.plot(column_for_xticks=\"Chapter\")\n",
    "# plt.title('Cumulative Number of Times Name Appears');"
   ]
  },
  {
   "cell_type": "code",
   "execution_count": null,
   "metadata": {
    "tags": []
   },
   "outputs": [],
   "source": [
    "%matplotlib inline\n",
    "import matplotlib.pyplot as plt\n",
    "plt.style.use('fivethirtyeight')\n",
    "cum_counts = Table().with_columns([\n",
    "    'Tom', counts['Tom'].cumsum(), \n",
    "    'Jim', counts['Jim'].cumsum(), \n",
    "    'Huck', counts['Huck'].cumsum(), \n",
    "    'Chapter', np.arange(1, 44, 1),\n",
    "])\n",
    "cum_counts.plot(column_for_xticks = \"Chapter\")\n",
    "plt.title('Cumulative Number of Times Name Appears');"
   ]
  },
  {
   "cell_type": "markdown",
   "metadata": {},
   "source": [
    "_**Question**_ What can we tell from this visualization?  \n",
    "What questions does this raise?\n",
    "\n",
    "\n",
    "\n",
    "<br/><br/><br/>\n",
    "Let's examine this idea with another book, *Little Women*.\n",
    "<br/><br/><br/>"
   ]
  },
  {
   "cell_type": "code",
   "execution_count": null,
   "metadata": {
    "tags": []
   },
   "outputs": [],
   "source": [
    "# The chapters of Little Women\n",
    "Table().with_column('Chapters', little_women_chapters)"
   ]
  },
  {
   "cell_type": "markdown",
   "metadata": {},
   "source": [
    "<br/><br/><br/><br/><br/>\n",
    "\n",
    "We can explore the characters in Little Women using the same kind of analysis."
   ]
  },
  {
   "cell_type": "code",
   "execution_count": null,
   "metadata": {
    "tags": []
   },
   "outputs": [],
   "source": [
    "# Counts of names in the chapters of Little Women\n",
    "names = ['Amy', 'Beth', 'Jo', 'Laurie', 'Meg']\n",
    "mentions = {name: np.char.count(little_women_chapters, name) for name in names}\n",
    "counts = Table().with_columns([\n",
    "        'Amy', mentions['Amy'],\n",
    "        'Beth', mentions['Beth'],\n",
    "        'Jo', mentions['Jo'],\n",
    "        'Laurie', mentions['Laurie'],\n",
    "        'Meg', mentions['Meg']\n",
    "    ])"
   ]
  },
  {
   "cell_type": "code",
   "execution_count": null,
   "metadata": {
    "tags": []
   },
   "outputs": [],
   "source": [
    "# Look at the counts \n",
    "counts"
   ]
  },
  {
   "cell_type": "code",
   "execution_count": null,
   "metadata": {
    "tags": []
   },
   "outputs": [],
   "source": [
    "# Plot the cumulative counts\n",
    "Table.static_plots()\n",
    "#cum_counts = counts.cumsum().with_column('Chapter', np.arange(1, 48, 1))\n",
    "cum_counts = Table().with_columns([\n",
    "    'Amy', counts['Amy'].cumsum(), \n",
    "    'Beth', counts['Beth'].cumsum(), \n",
    "    'Jo', counts['Jo'].cumsum(), \n",
    "    'Laurie', counts['Laurie'].cumsum(),\n",
    "    'Meg', counts['Meg'].cumsum(), \n",
    "    'Chapter', np.arange(1, 48, 1),\n",
    "])\n",
    "cum_counts.plot(column_for_xticks=5)\n",
    "plt.title('Cumulative Number of Times Name Appears');"
   ]
  },
  {
   "cell_type": "markdown",
   "metadata": {},
   "source": [
    "Book is about 4 sisters: Amy, Beth, Jo and Meg.  Laurie is their neighbor.  \n",
    "\n",
    "_**Question**_ What can we say about the book and it's plot from just this graph? **SPOILERS**\n",
    "\n",
    "\n"
   ]
  },
  {
   "cell_type": "markdown",
   "metadata": {},
   "source": [
    "<br/><br/><br/>\n",
    "\n",
    "We can use interactive tools."
   ]
  },
  {
   "cell_type": "code",
   "execution_count": null,
   "metadata": {
    "tags": []
   },
   "outputs": [],
   "source": [
    "# Plot the cumulative counts\n",
    "Table.interactive_plots()\n",
    "cum_counts.plot(column_for_xticks=5)"
   ]
  },
  {
   "cell_type": "markdown",
   "metadata": {},
   "source": [
    "<br/><br/><br/><br/><br/> \n",
    "\n",
    "---\n",
    "\n",
    "# Examining Length\n",
    "\n",
    "How long are the books? How long are sentences?\n"
   ]
  },
  {
   "cell_type": "code",
   "execution_count": null,
   "metadata": {
    "tags": []
   },
   "outputs": [],
   "source": [
    "len(read_url(huck_finn_url))"
   ]
  },
  {
   "cell_type": "code",
   "execution_count": null,
   "metadata": {
    "tags": []
   },
   "outputs": [],
   "source": [
    "# In each chapter, count the number of all characters;\n",
    "# call this the \"length\" of the chapter.\n",
    "# Also count the number of periods.\n",
    "\n",
    "length_hf = Table().with_columns([\n",
    "        'Length', [len(s) for s in huck_finn_chapters],\n",
    "        'Periods', np.char.count(huck_finn_chapters, '.')\n",
    "    ])\n",
    "length_lw = Table().with_columns([\n",
    "        'Length', [len(s) for s in little_women_chapters],\n",
    "        'Periods', np.char.count(little_women_chapters, '.')\n",
    "    ])"
   ]
  },
  {
   "cell_type": "code",
   "execution_count": null,
   "metadata": {
    "tags": []
   },
   "outputs": [],
   "source": [
    "# The counts for Huckleberry Finn\n",
    "length_hf"
   ]
  },
  {
   "cell_type": "code",
   "execution_count": null,
   "metadata": {
    "tags": []
   },
   "outputs": [],
   "source": [
    "# The counts for Little Women\n",
    "length_lw"
   ]
  },
  {
   "cell_type": "code",
   "execution_count": null,
   "metadata": {
    "tags": []
   },
   "outputs": [],
   "source": [
    "Table.static_plots()\n",
    "plt.figure(figsize=(8,8))\n",
    "plt.scatter(length_hf[1], length_hf[0], color='darkblue', label='Adv.HuckFinn')\n",
    "plt.scatter(length_lw[1], length_lw[0], color='gold', label='LittleWomen')\n",
    "plt.xlabel('Number of periods in chapter')\n",
    "plt.ylabel('Number of characters in chapter');\n",
    "plt.legend();"
   ]
  },
  {
   "cell_type": "markdown",
   "metadata": {},
   "source": [
    "\n",
    "<br/><br/><br/><br/><br/>\n",
    "\n",
    "---\n",
    "\n",
    "## Examining distributions"
   ]
  },
  {
   "cell_type": "code",
   "execution_count": null,
   "metadata": {
    "tags": []
   },
   "outputs": [],
   "source": [
    "Table.static_plots()\n",
    "length_hf.with_columns(\"Sentence Length\", length_hf['Length']/length_hf['Periods']).hist(\"Sentence Length\")\n",
    "plt.title('Huckleberry Finn');"
   ]
  },
  {
   "cell_type": "code",
   "execution_count": null,
   "metadata": {
    "tags": []
   },
   "outputs": [],
   "source": [
    "Table.static_plots()\n",
    "length_lw.with_columns(\"Sentence Length\", length_lw['Length']/length_lw['Periods']).hist(\"Sentence Length\")\n",
    "plt.title('Little Women');"
   ]
  },
  {
   "cell_type": "code",
   "execution_count": null,
   "metadata": {},
   "outputs": [],
   "source": []
  },
  {
   "cell_type": "code",
   "execution_count": null,
   "metadata": {},
   "outputs": [],
   "source": []
  }
 ],
 "metadata": {
  "anaconda-cloud": {},
  "celltoolbar": "Raw Cell Format",
  "kernelspec": {
   "display_name": "Python [conda env:un5550] *",
   "language": "python",
   "name": "conda-env-un5550-py"
  },
  "language_info": {
   "codemirror_mode": {
    "name": "ipython",
    "version": 3
   },
   "file_extension": ".py",
   "mimetype": "text/x-python",
   "name": "python",
   "nbconvert_exporter": "python",
   "pygments_lexer": "ipython3",
   "version": "3.10.12"
  }
 },
 "nbformat": 4,
 "nbformat_minor": 4
}
