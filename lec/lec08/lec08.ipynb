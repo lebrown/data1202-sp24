{
 "cells": [
  {
   "cell_type": "markdown",
   "id": "11250d24-b701-4b31-8aee-ce26c70396d9",
   "metadata": {},
   "source": [
    "# Lecture 8: Functions \n",
    "\n",
    "\n",
    "\n"
   ]
  },
  {
   "cell_type": "code",
   "execution_count": null,
   "id": "d643ba35-4800-4b62-9c90-5b9f8fc52344",
   "metadata": {},
   "outputs": [],
   "source": [
    "from datascience import *\n",
    "import numpy as np\n",
    "\n",
    "%matplotlib inline\n",
    "import matplotlib.pyplot as plots\n",
    "plots.style.use('fivethirtyeight')"
   ]
  },
  {
   "cell_type": "markdown",
   "id": "f5f4b1da-e02a-4125-97ab-41251ceb47a0",
   "metadata": {},
   "source": [
    "## Histogram Review \n",
    "\n",
    "Let's review looking at a histograms a tool for visualizing distributions of numerical data. \n",
    "\n",
    "We will revisit movies data again. "
   ]
  },
  {
   "cell_type": "code",
   "execution_count": null,
   "id": "720c0361-8f54-498b-bb23-44d23af886a2",
   "metadata": {},
   "outputs": [],
   "source": [
    "top_movies = Table.read_table('top_movies_2017.csv')\n",
    "top_movies"
   ]
  },
  {
   "cell_type": "markdown",
   "id": "74212d5a-91cc-430a-854e-a4d83be7ec30",
   "metadata": {},
   "source": [
    "Specifically, we can look at the \"Age\" of the movies. "
   ]
  },
  {
   "cell_type": "code",
   "execution_count": null,
   "id": "3497bb54-618e-4cad-8cbc-54c6962d03d8",
   "metadata": {},
   "outputs": [],
   "source": [
    "ages = 2024 - top_movies.column('Year')\n",
    "top_movies = top_movies.with_column('Age', ages)"
   ]
  },
  {
   "cell_type": "markdown",
   "id": "483bedb3-3976-4bd7-90d0-e8f676b83e7d",
   "metadata": {},
   "source": [
    "<br/>\n",
    "\n",
    "**Exercise**: We can explore the range of values we see with `Age`. "
   ]
  },
  {
   "cell_type": "code",
   "execution_count": null,
   "id": "90035919-35ab-4c74-9c82-69b1f9f6f0cd",
   "metadata": {},
   "outputs": [],
   "source": []
  },
  {
   "cell_type": "markdown",
   "id": "5de1bb8c-5264-46fd-b957-78b602a484b1",
   "metadata": {},
   "source": [
    "<details><summary>Click to Expand Solution</summary>\n",
    "    \n",
    "\n",
    "```python\n",
    "print(min(top_movies.column('Age')))\n",
    "print(max(top_movies.column('Age')))\n",
    "```\n",
    "\n",
    "</details>"
   ]
  },
  {
   "cell_type": "markdown",
   "id": "09cc7ab7-ee46-47ef-b8c1-01891c90d3e0",
   "metadata": {},
   "source": [
    "<br/><br/>\n",
    "\n",
    "**Exercise:** Use `np.arange` to create histograms with regularly spaced bins (every 10 years) that include the range of values. "
   ]
  },
  {
   "cell_type": "code",
   "execution_count": null,
   "id": "bf903e62-1953-4459-a1f7-3c8591785994",
   "metadata": {},
   "outputs": [],
   "source": []
  },
  {
   "cell_type": "markdown",
   "id": "831b67ee-d044-4b79-9190-4ea4bd4c9d6e",
   "metadata": {},
   "source": [
    "<details><summary>Click to Expand Solution</summary>\n",
    "    \n",
    "\n",
    "```python\n",
    "top_movies.hist('Age', bins = np.arange(0, 110, 10))\n",
    "```\n",
    "\n",
    "</details>"
   ]
  },
  {
   "cell_type": "markdown",
   "id": "ba588d45-e2bd-43bf-9789-0e76ee00b407",
   "metadata": {},
   "source": [
    "<br/><br/>\n",
    "\n",
    "**Exercise:** Let's specify the bins as in `my_bins`.  Split the \"Age\" column into these bins.  "
   ]
  },
  {
   "cell_type": "code",
   "execution_count": null,
   "id": "c1e8110c-9d04-4d34-b6da-2833f5087547",
   "metadata": {},
   "outputs": [],
   "source": [
    "my_bins = make_array(0, 5, 10, 15, 25, 40, 65, 105)\n",
    "binned_data = ..."
   ]
  },
  {
   "cell_type": "markdown",
   "id": "e071a90c-cb5b-4e16-821d-abc145413e56",
   "metadata": {},
   "source": [
    "<details><summary>Click to Expand Solution</summary>\n",
    "    \n",
    "\n",
    "```python\n",
    "my_bins = make_array(0, 5, 10, 15, 25, 40, 65, 105)\n",
    "binned_data = top_movies.bin('Age', bins = my_bins)\n",
    "binned_data\n",
    "```\n",
    "\n",
    "</details>"
   ]
  },
  {
   "cell_type": "markdown",
   "id": "11b6b708-c7df-4414-9495-d23fc7f24f4f",
   "metadata": {},
   "source": [
    "We can confirm that the number of movies in the bins equals the number of rows of data in the original Table `top_movies`"
   ]
  },
  {
   "cell_type": "code",
   "execution_count": null,
   "id": "56cf3fb5-50cd-4007-9ecb-14db1a3543ce",
   "metadata": {},
   "outputs": [],
   "source": [
    "num_movies = sum(binned_data.column(\"Age count\"))\n",
    "num_movies == top_movies.num_rows"
   ]
  },
  {
   "cell_type": "markdown",
   "id": "43e33031-12d0-4ac3-8df3-2ca13a7b41ff",
   "metadata": {},
   "source": [
    "<br/>\n",
    "\n",
    "**Exercise:** Show the movies in each bin as a percent rather than a count. "
   ]
  },
  {
   "cell_type": "code",
   "execution_count": null,
   "id": "926b4686-ffbd-43f2-987a-c8a1211a11d3",
   "metadata": {},
   "outputs": [],
   "source": [
    "percents = ...\n",
    "binned_data = binned_data.with_column('Percent', percents)\n",
    "binned_data"
   ]
  },
  {
   "cell_type": "markdown",
   "id": "c5b1032c-cf59-4ecd-8ced-0c1a4e0982b0",
   "metadata": {},
   "source": [
    "<details><summary>Click to Expand Solution</summary>\n",
    "    \n",
    "\n",
    "```python\n",
    "percents = binned_data.column('Age count')/num_movies * 100 \n",
    "binned_data = binned_data.with_column('Percent', percents)\n",
    "binned_data\n",
    "```\n",
    "\n",
    "</details>"
   ]
  },
  {
   "cell_type": "markdown",
   "id": "4b362c39-e937-4409-80ba-3aff8a2ae7de",
   "metadata": {},
   "source": [
    "<br/>\n",
    "\n",
    "**Exercise:** Create a histogram of `Age` using the `my_bins` bins also specifying the unit as \"Year\"."
   ]
  },
  {
   "cell_type": "code",
   "execution_count": null,
   "id": "444c5cb2-a90c-4043-8774-ad90ec5c7922",
   "metadata": {},
   "outputs": [],
   "source": []
  },
  {
   "cell_type": "markdown",
   "id": "61376a21-506c-4b12-8621-6075a651e021",
   "metadata": {},
   "source": [
    "<details><summary>Click to Expand Solution</summary>\n",
    "    \n",
    "\n",
    "```python\n",
    "top_movies.hist('Age', bins = my_bins, unit = 'Year')\n",
    "```\n",
    "\n",
    "</details>"
   ]
  },
  {
   "cell_type": "markdown",
   "id": "932ee353-fcac-4fbd-b121-35993d15569a",
   "metadata": {},
   "source": [
    "<br/>\n",
    "\n",
    "**Exercise:** What is the height of the [40, 65) bin?\n",
    "\n",
    "*Recall*  Area of bar = % in bin = height x width of bin \n",
    "\n",
    "height = % in bin / width"
   ]
  },
  {
   "cell_type": "code",
   "execution_count": null,
   "id": "60ba9058-e4a4-49f0-bd00-14dbe80fc93e",
   "metadata": {},
   "outputs": [],
   "source": [
    "percent = ...\n",
    "width = ...\n",
    "\n",
    "height = ...\n",
    "height"
   ]
  },
  {
   "cell_type": "markdown",
   "id": "d28f3034-4f47-4b61-9919-834b09e8e873",
   "metadata": {},
   "source": [
    "<details><summary>Click to Expand Solution</summary>\n",
    "    \n",
    "\n",
    "```python\n",
    "percent = binned_data.where('bin', 40).column('Percent').item(0)\n",
    "width = 65 - 40 \n",
    "\n",
    "height = percent / width\n",
    "height\n",
    "```\n",
    "\n",
    "</details>"
   ]
  },
  {
   "cell_type": "markdown",
   "id": "71c6bf42-135d-4a36-8e90-a7eb6e78f613",
   "metadata": {},
   "source": [
    "<br><br><br><br>\n",
    "\n",
    "---\n",
    "\n",
    "<center> Return to Slides </center>\n",
    "\n",
    "---\n",
    "\n",
    "<br><br><br><br><br><br><br>"
   ]
  },
  {
   "cell_type": "markdown",
   "id": "a1e11bb9-fd48-4370-9b09-610c3f33de49",
   "metadata": {},
   "source": [
    "<br/>\n",
    "\n",
    "# Defining Functions \n",
    "\n",
    "The purpose of defining a function is to give a name to a computational process that may be applied multiple times.\n",
    "\n",
    "<br>\n",
    "\n",
    "**Example:** Create a function that takes a numerical input and triples it: \n",
    "$\\textsf{triple}(x) = 3x $"
   ]
  },
  {
   "cell_type": "code",
   "execution_count": null,
   "id": "8427228f-0e70-4d91-92a7-81e9e4c9eace",
   "metadata": {},
   "outputs": [],
   "source": [
    "def triple(x):\n",
    "    return 3 * x "
   ]
  },
  {
   "cell_type": "code",
   "execution_count": null,
   "id": "4c8bb851-6e0e-497a-a876-a41417ab9fc9",
   "metadata": {},
   "outputs": [],
   "source": [
    "triple(3)"
   ]
  },
  {
   "cell_type": "markdown",
   "id": "910f2a28-dd5c-4e1a-995b-b673b5b666c8",
   "metadata": {},
   "source": [
    "We can also assign a value to a name, and call the function on the name:"
   ]
  },
  {
   "cell_type": "code",
   "execution_count": null,
   "id": "0dca34ce-5406-47d8-b71b-22cbf8633486",
   "metadata": {},
   "outputs": [],
   "source": [
    "num = 4\n",
    "triple(num)"
   ]
  },
  {
   "cell_type": "code",
   "execution_count": null,
   "id": "92ea88f9-f158-4d6c-914b-21bbcdfe421e",
   "metadata": {},
   "outputs": [],
   "source": [
    "triple(num * 5)"
   ]
  },
  {
   "cell_type": "markdown",
   "id": "6c644d39-01a7-4256-b3d2-c469301e66ea",
   "metadata": {},
   "source": [
    "## The Anatomy of a Function\n",
    "    \n",
    "```python\n",
    "def functionname(Arguments_Parameters_Expressions_or_Values):     \n",
    "      return return_expression\n",
    "```"
   ]
  },
  {
   "cell_type": "markdown",
   "id": "aaf31391-e060-4e23-9f94-6cf775614c52",
   "metadata": {},
   "source": [
    "### Functions are Type-Agnostic "
   ]
  },
  {
   "cell_type": "code",
   "execution_count": null,
   "id": "e1897818-4e10-40df-8fa9-3b8ba0789461",
   "metadata": {},
   "outputs": [],
   "source": [
    "triple(3)"
   ]
  },
  {
   "cell_type": "code",
   "execution_count": null,
   "id": "b25bd8da-feec-4dcb-a0c6-2b068d01b243",
   "metadata": {},
   "outputs": [],
   "source": [
    "triple(3.4)"
   ]
  },
  {
   "cell_type": "code",
   "execution_count": null,
   "id": "1bf4441d-4b94-4058-aa6e-734b5bdf70d5",
   "metadata": {},
   "outputs": [],
   "source": [
    "triple('ha')"
   ]
  },
  {
   "cell_type": "markdown",
   "id": "b69da27d-0080-44b8-9329-321f7ed63014",
   "metadata": {},
   "source": [
    "<br/> \n",
    "\n",
    "**Exercise** Feed an array into the function `triple` to see what is produced. "
   ]
  },
  {
   "cell_type": "code",
   "execution_count": null,
   "id": "f7586358-7847-4b77-8855-640e66e2cd85",
   "metadata": {},
   "outputs": [],
   "source": [
    "np.arange(4)"
   ]
  },
  {
   "cell_type": "code",
   "execution_count": null,
   "id": "478144c9-194f-43ca-b6e8-e9257f20307a",
   "metadata": {},
   "outputs": [],
   "source": [
    "triple(np.arange(4))"
   ]
  },
  {
   "cell_type": "markdown",
   "id": "350b26b6-fde8-4a39-a225-88685c7eefc8",
   "metadata": {},
   "source": [
    "<details><summary>Click to Expand Solution</summary>\n",
    "    \n",
    "\n",
    "```python\n",
    "triple(np.arange(4))\n",
    "```\n",
    "\n",
    "</details>"
   ]
  },
  {
   "cell_type": "markdown",
   "id": "9f901274-d3aa-4062-a816-0415fb12590a",
   "metadata": {},
   "source": [
    "<br><br><br><br>\n",
    "\n",
    "---\n",
    "\n",
    "<center> Return to Slides </center>\n",
    "\n",
    "---\n",
    "\n",
    "<br><br><br><br><br><br><br>"
   ]
  },
  {
   "cell_type": "markdown",
   "id": "848b6d5b-f59c-4059-a36b-6cff0b060c73",
   "metadata": {},
   "source": [
    "<br/><br/>\n",
    "\n",
    "### Discussion Question \n",
    "\n",
    "```python\n",
    "def f(s):     \n",
    "      return np.round(s / sum(s) * 100, 2)\n",
    "```"
   ]
  },
  {
   "cell_type": "code",
   "execution_count": null,
   "id": "d1cda4a9-63f3-4234-a4cf-440ab1da0e1f",
   "metadata": {},
   "outputs": [],
   "source": [
    "def percent_of_total(s):\n",
    "    return np.round(s / sum(s) * 100, 2)"
   ]
  },
  {
   "cell_type": "code",
   "execution_count": null,
   "id": "dcf3add6-e7c4-4c8f-9ec7-fb9686071167",
   "metadata": {},
   "outputs": [],
   "source": [
    "first_four=make_array(1,2,3,4)\n",
    "first_four"
   ]
  },
  {
   "cell_type": "code",
   "execution_count": null,
   "id": "a596fffc-99c7-4dbb-8e9e-df5f2d7c4831",
   "metadata": {},
   "outputs": [],
   "source": [
    "percent_of_total(first_four)"
   ]
  },
  {
   "cell_type": "code",
   "execution_count": null,
   "id": "f7772ccd-15b2-424e-9cdd-aea35c55feba",
   "metadata": {},
   "outputs": [],
   "source": []
  },
  {
   "cell_type": "code",
   "execution_count": null,
   "id": "f019bd20-b2bc-48fe-9ce9-7812d0a753f5",
   "metadata": {},
   "outputs": [],
   "source": []
  },
  {
   "cell_type": "markdown",
   "id": "460b12e2-06c4-4097-83fc-8f32db3716f4",
   "metadata": {},
   "source": [
    "<br> \n",
    "\n",
    "### Functions Can Take Multiple Arguments ###"
   ]
  },
  {
   "cell_type": "markdown",
   "id": "22791cd5-b274-48b9-bca3-ff35402692b8",
   "metadata": {},
   "source": [
    "**Example:** Calculate the Hypotenuse Length of a Right Triangle\n",
    "\n",
    "\n",
    "Pythagoras's Theorem: If $x$ and $y$ denote the lengths of the right-angle sides, then the hypotenuse length $h$ satisfies:\n",
    "\n",
    "$$ h^2 = x^2 + y^2 \\qquad \\text{which implies}\\qquad \\hspace{20 pt} h = \\sqrt{ x^2 + y^2 } $$"
   ]
  },
  {
   "cell_type": "code",
   "execution_count": null,
   "id": "2d999439-1ad9-4d9f-bb66-2dd10cbc74cd",
   "metadata": {},
   "outputs": [],
   "source": [
    "def hypotenuse(x, y):\n",
    "    hypot_squared = (x ** 2 + y ** 2)\n",
    "    hypot = hypot_squared ** 0.5\n",
    "    return hypot"
   ]
  },
  {
   "cell_type": "code",
   "execution_count": null,
   "id": "9a79a460-bded-4651-bba8-8b737961b816",
   "metadata": {},
   "outputs": [],
   "source": []
  },
  {
   "cell_type": "code",
   "execution_count": null,
   "id": "fbe9adf6-9527-49af-a1f5-c94a1ca19163",
   "metadata": {},
   "outputs": [],
   "source": []
  },
  {
   "cell_type": "markdown",
   "id": "6c25e7a6-31d5-4260-9f18-685566d1f197",
   "metadata": {},
   "source": [
    "<br>\n",
    "\n",
    "*Note:* We could've typed the body all in one line. Do you find this more readable or less readable than the original version?"
   ]
  },
  {
   "cell_type": "code",
   "execution_count": null,
   "id": "c214c62f-c91d-4b73-87a9-990a9d94b455",
   "metadata": {},
   "outputs": [],
   "source": [
    "def hypotenuse(x,y):\n",
    "    return (x ** 2 + y ** 2) ** 0.5"
   ]
  },
  {
   "cell_type": "code",
   "execution_count": null,
   "id": "02a7fae5-097e-442c-8287-59cff400e23e",
   "metadata": {},
   "outputs": [],
   "source": []
  },
  {
   "cell_type": "code",
   "execution_count": null,
   "id": "c9b87fbb-9ba5-429b-8860-a38ad0cdd226",
   "metadata": {},
   "outputs": [],
   "source": []
  },
  {
   "cell_type": "markdown",
   "id": "b971e567-7e2c-4eca-9f05-8ab1e1bfd73a",
   "metadata": {},
   "source": [
    "<br>\n",
    "\n",
    "**Example:**  Write a function that takes the year of birth of a person and produces their age in years."
   ]
  },
  {
   "cell_type": "code",
   "execution_count": null,
   "id": "f0eae99a-941d-4a0c-b3e5-a71d3848bea0",
   "metadata": {},
   "outputs": [],
   "source": [
    "def age(year):\n",
    "    age = 2024 - year\n",
    "    return age"
   ]
  },
  {
   "cell_type": "code",
   "execution_count": null,
   "id": "34eec583-3f8c-4ae2-aa0a-17a127be2777",
   "metadata": {},
   "outputs": [],
   "source": [
    "age(1942)"
   ]
  },
  {
   "cell_type": "markdown",
   "id": "1faf2f24-d2ff-46dc-823c-be72f5123a3c",
   "metadata": {},
   "source": [
    "<br>\n",
    "\n",
    "**Exercise:**  Now add some bells and whistles: Take person's name and year of birth (two arguments). Produce a sentence that states how old they are."
   ]
  },
  {
   "cell_type": "code",
   "execution_count": null,
   "id": "e7f6ea22-c33e-44f3-a761-6745f5560cb1",
   "metadata": {},
   "outputs": [],
   "source": []
  },
  {
   "cell_type": "code",
   "execution_count": null,
   "id": "1e1a12fc-9c9b-4839-b049-c030a0660c3d",
   "metadata": {},
   "outputs": [],
   "source": [
    "name_and_age('Joe', 1942)"
   ]
  },
  {
   "cell_type": "markdown",
   "id": "152ca7d4-278b-4129-8130-caf41a7c8d1e",
   "metadata": {},
   "source": [
    "<details><summary>Click to Expand Solution</summary>\n",
    "    \n",
    "\n",
    "```python\n",
    "def name_and_age(name, year):\n",
    "    return name + ' is ' + str(age(year)) + ' years old.'\n",
    "```\n",
    "\n",
    "</details>"
   ]
  },
  {
   "cell_type": "markdown",
   "id": "c6ba9182-5125-4194-8489-257a7c51c1c4",
   "metadata": {},
   "source": [
    "<br><br><br><br>\n",
    "\n",
    "---\n",
    "\n",
    "<center> Return to Slides </center>\n",
    "\n",
    "---\n",
    "\n",
    "<br><br><br><br><br><br><br>"
   ]
  },
  {
   "cell_type": "markdown",
   "id": "06486d09-9702-46c0-bc5a-f31518858220",
   "metadata": {},
   "source": [
    "# Apply \n",
    "\n",
    "Let's create a sample data set using characters from the Office. "
   ]
  },
  {
   "cell_type": "code",
   "execution_count": null,
   "id": "08fe05b4-2921-4107-bf57-479e15a235b6",
   "metadata": {},
   "outputs": [],
   "source": [
    "staff = Table().with_columns(\n",
    "    'Person', make_array('Jim', 'Pam', 'Michael', 'Dwight'),\n",
    "    'Birth Year', make_array(1978, 1979, 1967, 1970)\n",
    ")\n",
    "staff"
   ]
  },
  {
   "cell_type": "markdown",
   "id": "41eab4f3-69a7-42a1-9efe-bdfb0f3836fb",
   "metadata": {},
   "source": [
    "<br>\n",
    "\n",
    "**Exercise:** Calculate the current age of each person using the `age` function created above. "
   ]
  },
  {
   "cell_type": "code",
   "execution_count": null,
   "id": "b296aebf-6d4e-42ac-9c9f-d76a24ad7e65",
   "metadata": {},
   "outputs": [],
   "source": []
  },
  {
   "cell_type": "markdown",
   "id": "dc20a4a5-1938-4879-8cf2-11cc41406d3b",
   "metadata": {},
   "source": [
    "<details><summary>Click to Expand Solution</summary>\n",
    "    \n",
    "\n",
    "```python\n",
    "staff.apply(age, 'Birth Year')\n",
    "```\n",
    "\n",
    "</details>"
   ]
  },
  {
   "cell_type": "markdown",
   "id": "5915c8bd-026e-403c-b5a1-727878f0a3a9",
   "metadata": {},
   "source": [
    "<br><br>\n",
    "\n",
    "We can check this by running the `age` function for each item in the `Birth Year` column of the table. "
   ]
  },
  {
   "cell_type": "code",
   "execution_count": null,
   "id": "9872eb00-acc4-48c6-8c71-afc7e3117bf8",
   "metadata": {},
   "outputs": [],
   "source": [
    "make_array(age(staff.column('Birth Year').item(0)),\n",
    "           age(staff.column('Birth Year').item(1)),\n",
    "           age(staff.column('Birth Year').item(2)),\n",
    "           age(staff.column('Birth Year').item(3)))"
   ]
  },
  {
   "cell_type": "markdown",
   "id": "86c7ca42-2a79-4e35-be5a-9d7cddfb81f9",
   "metadata": {},
   "source": [
    "<br><br> \n",
    "\n",
    "**Exercise:** Use the `name_and_age` function to produce the sentence for each Office character."
   ]
  },
  {
   "cell_type": "code",
   "execution_count": null,
   "id": "0be8c74a-7040-4409-b09f-c5d217f1cdd0",
   "metadata": {},
   "outputs": [],
   "source": []
  },
  {
   "cell_type": "markdown",
   "id": "d22c4abb-6973-4fe1-973a-5a49a9602fec",
   "metadata": {},
   "source": [
    "<details><summary>Click to Expand Solution</summary>\n",
    "    \n",
    "\n",
    "```python\n",
    "staff.apply(name_and_age, 'Person', 'Birth Year')\n",
    "```\n",
    "\n",
    "</details>"
   ]
  }
 ],
 "metadata": {
  "kernelspec": {
   "display_name": "Python [conda env:data1202] *",
   "language": "python",
   "name": "conda-env-data1202-py"
  },
  "language_info": {
   "codemirror_mode": {
    "name": "ipython",
    "version": 3
   },
   "file_extension": ".py",
   "mimetype": "text/x-python",
   "name": "python",
   "nbconvert_exporter": "python",
   "pygments_lexer": "ipython3",
   "version": "3.10.12"
  }
 },
 "nbformat": 4,
 "nbformat_minor": 5
}
