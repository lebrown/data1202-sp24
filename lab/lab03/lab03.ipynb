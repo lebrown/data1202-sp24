{
 "cells": [
  {
   "cell_type": "code",
   "execution_count": null,
   "id": "aa68eebb",
   "metadata": {
    "deletable": false,
    "editable": false
   },
   "outputs": [],
   "source": [
    "# Initialize Otter\n",
    "import otter\n",
    "grader = otter.Notebook(\"lab03.ipynb\")"
   ]
  },
  {
   "cell_type": "markdown",
   "id": "fd8a573c",
   "metadata": {},
   "source": [
    "# Lab 3: Data Types, Arrays, and Tables\n",
    "Welcome to Lab 3!\n",
    "\n",
    "So far, we've used Python to manipulate numbers and work with tables. But we need to discuss data types to deepen our understanding of how to work with data in Python.\n",
    "\n",
    "In this lab, you'll first see how to represent and manipulate another fundamental type of data: text.  A piece of text is called a *string* in Python. You'll also see how to work with *arrays* of data. An array could contain all the numbers between 0 and 100 or all the words in the chapter of a book. Lastly, you'll create tables and practice analyzing them with your knowledge of table operations. The [Python Reference](https://pages.mtu.edu/~lebrown/data1202-s24/reference/index.html) has information that will be useful for this lab.\n",
    "\n",
    "\n",
    "**Submission**: Once you’re finished, run all cells besides the last one, select File > Save Notebook, and then execute the final cell. Then submit the downloaded zip file, that includes your notebook,  according to your instructor's directions."
   ]
  },
  {
   "cell_type": "markdown",
   "id": "c222c683",
   "metadata": {},
   "source": [
    "Set up the tests and imports by running the cell below."
   ]
  },
  {
   "cell_type": "code",
   "execution_count": null,
   "id": "af9dc53d",
   "metadata": {
    "deletable": false,
    "tags": []
   },
   "outputs": [],
   "source": [
    "# Just run this cell\n",
    "import numpy as np\n",
    "import math\n",
    "from datascience import *\n",
    "import d8error"
   ]
  },
  {
   "cell_type": "markdown",
   "id": "64c03458",
   "metadata": {},
   "source": [
    "# 1. Text\n",
    "Programming doesn't just concern numbers. Text is one of the most common data types used in programs. \n",
    "\n",
    "Text is represented by a **string value** in Python. The word \"string\" is a programming term for a sequence of characters. A string might contain a single character, a word, a sentence, or a whole book.\n",
    "\n",
    "To distinguish text data from actual code, we demarcate strings by putting quotation marks around them. Single quotes (`'`) and double quotes (`\"`) are both valid, but the types of opening and closing quotation marks must match. The contents can be any sequence of characters, including numbers and symbols. \n",
    "\n",
    "We've seen strings before in `print` statements.  Below, two different strings are passed as arguments to the `print` function."
   ]
  },
  {
   "cell_type": "code",
   "execution_count": null,
   "id": "2dba5537",
   "metadata": {
    "tags": []
   },
   "outputs": [],
   "source": [
    "print(\"I <3\", 'Data Science')"
   ]
  },
  {
   "cell_type": "markdown",
   "id": "5b80b218",
   "metadata": {},
   "source": [
    "Just as names can be given to numbers, names can be given to string values.  The names and strings aren't required to be similar in any way. Any name can be assigned to any string."
   ]
  },
  {
   "cell_type": "code",
   "execution_count": null,
   "id": "a9c75678",
   "metadata": {
    "tags": []
   },
   "outputs": [],
   "source": [
    "one = 'two'\n",
    "plus = '*'\n",
    "print(one, plus, one)"
   ]
  },
  {
   "cell_type": "markdown",
   "id": "f0f8e61a",
   "metadata": {},
   "source": [
    "**Question 1.1.** Yuri Gagarin was the first person to travel through outer space.  When he emerged from his capsule upon landing on Earth, he [reportedly](https://en.wikiquote.org/wiki/Yuri_Gagarin) had the following conversation with a woman and girl who saw the landing:\n",
    "\n",
    "    The woman asked: \"Can it be that you have come from outer space?\"\n",
    "    Gagarin replied: \"As a matter of fact, I have!\"\n",
    "\n",
    "The cell below contains unfinished code.  Fill in the `...`s so that it prints out this conversation *exactly* as it appears above.\n"
   ]
  },
  {
   "cell_type": "code",
   "execution_count": null,
   "id": "8b93181f",
   "metadata": {
    "deletable": false,
    "tags": []
   },
   "outputs": [],
   "source": [
    "woman_asking = ...\n",
    "woman_quote = '\"Can it be that you have come from outer space?\"'\n",
    "gagarin_reply = 'Gagarin replied:'\n",
    "gagarin_quote = ...\n",
    "\n",
    "print(woman_asking, woman_quote)\n",
    "print(gagarin_reply, gagarin_quote)"
   ]
  },
  {
   "cell_type": "code",
   "execution_count": null,
   "id": "73211619",
   "metadata": {
    "deletable": false,
    "editable": false
   },
   "outputs": [],
   "source": [
    "grader.check(\"q11\")"
   ]
  },
  {
   "cell_type": "markdown",
   "id": "e1295425",
   "metadata": {},
   "source": [
    "## 1.1. String Methods"
   ]
  },
  {
   "cell_type": "markdown",
   "id": "fc53936f",
   "metadata": {},
   "source": [
    "Strings can be transformed using **methods**. Recall that methods and functions are not the same thing. Here is the textbook section on string methods: [4.2.1 String Methods](https://inferentialthinking.com/chapters/04/2/1/String_Methods.html?highlight=methods). \n",
    "\n",
    "Here's a sketch of how to call methods on a string:\n",
    "\n",
    "    <expression that evaluates to a string>.<method name>(<argument>, <argument>, ...)\n",
    "    \n",
    "One example of a string method is `replace`, which replaces all instances of some part of the original string (or a *substring*) with a new string. \n",
    "\n",
    "    <original string>.replace(<old substring>, <new substring>)\n",
    "    \n",
    "`replace` returns (evaluates to) a new string, leaving the original string unchanged.\n",
    "    \n",
    "Try to predict the output of this example, then run the cell!"
   ]
  },
  {
   "cell_type": "code",
   "execution_count": null,
   "id": "b9715ff5",
   "metadata": {
    "tags": []
   },
   "outputs": [],
   "source": [
    "# Replace one letter\n",
    "bag = 'bag'\n",
    "print(bag.replace('g', 't'), bag)"
   ]
  },
  {
   "cell_type": "markdown",
   "id": "82d8a362",
   "metadata": {},
   "source": [
    "You can call functions on the results of other functions.  For example, `max(abs(-5), abs(3))` evaluates to 5.  Similarly, you can call methods on the results of other method or function calls.\n",
    "\n",
    "You may have already noticed one difference between functions and methods - a function like `max` does not require a `.` before it's called, but a string method like `replace` does. Here's a handy [Python reference](https://pages.mtu.edu/~lebrown/data1202-s24/reference/index.html) online for this class. It's a good idea to refer to this whenever you're unsure of how to call a function or method."
   ]
  },
  {
   "cell_type": "code",
   "execution_count": null,
   "id": "0e741a1c",
   "metadata": {
    "scrolled": true,
    "tags": []
   },
   "outputs": [],
   "source": [
    "# Calling replace on the output of another call to replace\n",
    "'train'.replace('t', 'ing').replace('in', 'de')"
   ]
  },
  {
   "cell_type": "markdown",
   "id": "58d1cd78",
   "metadata": {},
   "source": [
    "Here's a picture of how Python evaluates a \"chained\" method call like that:\n",
    "\n",
    "<img src=\"chaining_method_calls.png\"/>"
   ]
  },
  {
   "cell_type": "markdown",
   "id": "24334a09",
   "metadata": {},
   "source": [
    "**Question 1.1.1.** Use `replace` to transform the string `'hitchhiker'` into `'matchmaker'`. Assign your result to `new_word`.\n"
   ]
  },
  {
   "cell_type": "code",
   "execution_count": null,
   "id": "a5896391",
   "metadata": {
    "deletable": false,
    "tags": []
   },
   "outputs": [],
   "source": [
    "new_word = ...\n",
    "new_word"
   ]
  },
  {
   "cell_type": "code",
   "execution_count": null,
   "id": "4714949d",
   "metadata": {
    "deletable": false,
    "editable": false
   },
   "outputs": [],
   "source": [
    "grader.check(\"q111\")"
   ]
  },
  {
   "cell_type": "markdown",
   "id": "86aca8ac",
   "metadata": {},
   "source": [
    "There are many more string methods in Python, but most programmers don't memorize their names or how to use them.  In the \"real world,\" people usually just search the internet for documentation and examples. A complete [list of string methods](https://docs.python.org/3/library/stdtypes.html#string-methods) appears in the Python language documentation. [Stack Overflow](http://stackoverflow.com) has a huge database of answered questions that often demonstrate how to use these methods to achieve various ends. Material covered in these resources that haven't already been introduced in this class will be out of scope. "
   ]
  },
  {
   "cell_type": "markdown",
   "id": "85beefad",
   "metadata": {},
   "source": [
    "## 1.2. Converting to and from Strings"
   ]
  },
  {
   "cell_type": "markdown",
   "id": "49d3cf38",
   "metadata": {},
   "source": [
    "Strings and numbers are different *types* of values, even when a string contains the digits of a number. For example, evaluating the following cell causes an error because an integer cannot be added to a string."
   ]
  },
  {
   "cell_type": "code",
   "execution_count": null,
   "id": "0a36013d",
   "metadata": {
    "tags": [
     "raises-exception"
    ]
   },
   "outputs": [],
   "source": [
    "8 + \"8\""
   ]
  },
  {
   "cell_type": "markdown",
   "id": "3c48f426",
   "metadata": {},
   "source": [
    "However, there are built-in functions to convert numbers to strings and strings to numbers. Some of these built-in functions have restrictions on the type of argument they take:\n",
    "\n",
    "|Function |Description|\n",
    "|-|-|\n",
    "|`int`|Converts a string of digits or a float to an integer (\"int\") value|\n",
    "|`float`|Converts a string of digits (perhaps with a decimal point) or an int to a decimal (\"float\") value|\n",
    "|`str`|Converts any value to a string|"
   ]
  },
  {
   "cell_type": "markdown",
   "id": "adf05a75",
   "metadata": {},
   "source": [
    "Try to predict what data type and value `example` evaluates to, then run the cell."
   ]
  },
  {
   "cell_type": "code",
   "execution_count": null,
   "id": "67cad267",
   "metadata": {
    "tags": []
   },
   "outputs": [],
   "source": [
    "example = 8 + int(\"10\") + float(\"8\")\n",
    "\n",
    "print(example)\n",
    "print(\"This example returned a \" + str(type(example)) + \"!\")"
   ]
  },
  {
   "cell_type": "markdown",
   "id": "c5fbac43",
   "metadata": {},
   "source": [
    "Suppose you're writing a program that looks for dates in a text, and you want your program to find the amount of time that elapsed between two years it has identified.  It doesn't make sense to subtract two texts, but you can first convert the text containing the years into numbers.\n",
    "\n",
    "**Question 1.2.1.** Finish the code below to compute the number of years that elapsed between `one_year` and `another_year`.  Don't just write the numbers `1618` and `1648` (or `30`); use a conversion function to turn the given text data into numbers.\n"
   ]
  },
  {
   "cell_type": "code",
   "execution_count": null,
   "id": "f4bfa4a6",
   "metadata": {
    "deletable": false,
    "tags": []
   },
   "outputs": [],
   "source": [
    "# Some text data:\n",
    "one_year = \"1618\"\n",
    "another_year = \"1648\"\n",
    "\n",
    "# Complete the next line.  Note that we can't just write:\n",
    "#   another_year - one_year\n",
    "# If you don't see why, try seeing what happens when you\n",
    "# write that here.\n",
    "difference = ...\n",
    "difference"
   ]
  },
  {
   "cell_type": "code",
   "execution_count": null,
   "id": "67a946f7",
   "metadata": {
    "deletable": false,
    "editable": false
   },
   "outputs": [],
   "source": [
    "grader.check(\"q121\")"
   ]
  },
  {
   "cell_type": "markdown",
   "id": "9bad35d9",
   "metadata": {},
   "source": [
    "## 1.3. Passing strings to functions\n",
    "\n",
    "String values, like numbers, can be arguments to functions and can be returned by functions. \n",
    "\n",
    "The function `len` (derived from the word \"length\") takes a single string as its argument and returns the number of characters (including spaces) in the string.\n",
    "\n",
    "Note that it doesn't count *words*. `len(\"one small step for man\")` evaluates to 22 characters, not 5 words.\n",
    "\n",
    "**Question 1.3.1.**  Use `len` to find the number of characters in the long string in the next cell.  Characters include things like spaces and punctuation. Assign `sentence_length` to that number.\n",
    "\n",
    "(The string is the first sentence of the English translation of the French [Declaration of the Rights of Man](http://avalon.law.yale.edu/18th_century/rightsof.asp).)  \n"
   ]
  },
  {
   "cell_type": "code",
   "execution_count": null,
   "id": "fb33a0cb",
   "metadata": {
    "deletable": false,
    "tags": []
   },
   "outputs": [],
   "source": [
    "a_very_long_sentence = \"The representatives of the French people, organized as a National Assembly, believing that the ignorance, neglect, or contempt of the rights of man are the sole cause of public calamities and of the corruption of governments, have determined to set forth in a solemn declaration the natural, unalienable, and sacred rights of man, in order that this declaration, being constantly before all the members of the Social body, shall remind them continually of their rights and duties; in order that the acts of the legislative power, as well as those of the executive power, may be compared at any moment with the objects and purposes of all political institutions and may thus be more respected, and, lastly, in order that the grievances of the citizens, based hereafter upon simple and incontestable principles, shall tend to the maintenance of the constitution and redound to the happiness of all.\"\n",
    "sentence_length = ...\n",
    "sentence_length"
   ]
  },
  {
   "cell_type": "code",
   "execution_count": null,
   "id": "25231a13",
   "metadata": {
    "deletable": false,
    "editable": false
   },
   "outputs": [],
   "source": [
    "grader.check(\"q131\")"
   ]
  },
  {
   "cell_type": "markdown",
   "id": "288ebeb5",
   "metadata": {},
   "source": [
    "## 1.4 Other String Methods"
   ]
  },
  {
   "cell_type": "markdown",
   "id": "24d25cbc",
   "metadata": {},
   "source": [
    "String methods are often used in Data Science to prepare, preprocess, or clean text data.  Meaning to get it into a more regular form. \n",
    "\n",
    "For example, examine the following method to remove white space from the end of a string. "
   ]
  },
  {
   "cell_type": "code",
   "execution_count": null,
   "id": "da59bc59",
   "metadata": {},
   "outputs": [],
   "source": [
    "extra_spaces = '  Hello!  Welcome to class.    '\n",
    "extra_spaces"
   ]
  },
  {
   "cell_type": "code",
   "execution_count": null,
   "id": "169d58a2",
   "metadata": {},
   "outputs": [],
   "source": [
    "len(extra_spaces)"
   ]
  },
  {
   "cell_type": "code",
   "execution_count": null,
   "id": "c6479b16",
   "metadata": {},
   "outputs": [],
   "source": [
    "trimmed_extra_spaces = extra_spaces.strip()\n",
    "trimmed_extra_spaces"
   ]
  },
  {
   "cell_type": "code",
   "execution_count": null,
   "id": "dfb90f23",
   "metadata": {},
   "outputs": [],
   "source": [
    "len(trimmed_extra_spaces)"
   ]
  },
  {
   "cell_type": "markdown",
   "id": "a84ee301",
   "metadata": {},
   "source": [
    "**Question 1.4.1** \n",
    "Select how you would convert the following initial strings to the final form. \n",
    "\n",
    "Exercise A. \n",
    "```\n",
    "initial_string = '   Let it be' \n",
    "end_string = 'Let it be'\n",
    "```\n",
    "\n",
    "Exercise B. \n",
    "```\n",
    "initial_string = 'hello darkness my old friend'\n",
    "end_string = 'Hello darkness my old friend'\n",
    "```\n",
    "\n",
    "Exercise C. \n",
    "```\n",
    "initial_string = '  Yesterday all my troubles ...'\n",
    "end_string = '  Yesterday all my troubles ...   '\n",
    "```\n",
    "\n",
    "In the cell below, indicate which string methods where used to convert `intial_string` to `end_string`. \n",
    " \n",
    "1. `end_string = initial_string.capitalize()`\n",
    "2. `end_string = initial_string.center(34)`\n",
    "3. `end_string = initial_string.lower()`\n",
    "4. `end_string = initial_string.lstrip()`\n",
    "5. `end_string = initial_string.title()`"
   ]
  },
  {
   "cell_type": "code",
   "execution_count": null,
   "id": "5809e000",
   "metadata": {
    "tags": []
   },
   "outputs": [],
   "source": [
    "exA_command = ...\n",
    "exB_command = ...\n",
    "exC_command = ..."
   ]
  },
  {
   "cell_type": "code",
   "execution_count": null,
   "id": "f79fb0b3",
   "metadata": {
    "deletable": false,
    "editable": false
   },
   "outputs": [],
   "source": [
    "grader.check(\"q141\")"
   ]
  },
  {
   "cell_type": "markdown",
   "id": "1cece3cc",
   "metadata": {},
   "source": [
    "**Question 1.4.2**  \n",
    "Fill in the string method(s) to conver the following initial string to the ending string. \n",
    "\n",
    "*Note* you may want to use multiple commands. \n",
    "\n",
    "```\n",
    "initial_string = 'PicTURE yourSELF in a BOat on a RIver'\n",
    "end_string = 'Picture Yourself In A Boat On A River'\n",
    "```"
   ]
  },
  {
   "cell_type": "code",
   "execution_count": null,
   "id": "b1b0a806",
   "metadata": {
    "tags": []
   },
   "outputs": [],
   "source": [
    "initial_string = 'PicTURE yourSELF in a BOat on a RIver'\n",
    "end_string = ...\n",
    "end_string"
   ]
  },
  {
   "cell_type": "code",
   "execution_count": null,
   "id": "2623d37f",
   "metadata": {
    "deletable": false,
    "editable": false
   },
   "outputs": [],
   "source": [
    "grader.check(\"q142\")"
   ]
  },
  {
   "cell_type": "markdown",
   "id": "420b33f2",
   "metadata": {},
   "source": [
    "# 2. Arrays\n",
    "\n",
    "Computers are most useful when you can use a small amount of code to *do the same action* to *many different things*.\n",
    "\n",
    "For example, in the time it takes you to calculate the 18% tip on a restaurant bill, a laptop can calculate 18% tips for every restaurant bill paid by every human on Earth that day.  (That's if you're pretty fast at doing arithmetic in your head!)\n",
    "\n",
    "**Arrays** are how we put many values in one place so that we can operate on them as a group. For example, if `billions_of_numbers` is an array of numbers, the expression\n",
    "\n",
    "    .18 * billions_of_numbers\n",
    "\n",
    "gives a new array of numbers that contains the result of multiplying **each number** in `billions_of_numbers` by .18.  Arrays are not limited to numbers; we can also put all the words in a book into an array of strings.\n",
    "\n",
    "Concretely, an array is a **collection of values of the same type**. "
   ]
  },
  {
   "cell_type": "markdown",
   "id": "9d9f44f0",
   "metadata": {},
   "source": [
    "## 2.1. Making arrays\n",
    "\n",
    "First, let's learn how to manually input values into an array. This typically isn't how programs work. Normally, we create arrays by loading them from an external source, like a data file.\n",
    "\n",
    "To create an array by hand, call the function `make_array`.  Each argument you pass to `make_array` will be in the array it returns.  Run this cell to see an example:"
   ]
  },
  {
   "cell_type": "code",
   "execution_count": null,
   "id": "2224236a",
   "metadata": {
    "scrolled": true,
    "tags": []
   },
   "outputs": [],
   "source": [
    "make_array(0.125, 4.75, -1.3)"
   ]
  },
  {
   "cell_type": "markdown",
   "id": "3ad05d82",
   "metadata": {},
   "source": [
    "Each value in an array (in the above case, the numbers 0.125, 4.75, and -1.3) is called an *element* of that array.\n",
    "\n",
    "Arrays themselves are also values, just like numbers and strings.  That means you can assign them to names or use them as arguments to functions. For example, `len(<some_array>)` returns the number of elements in `some_array`."
   ]
  },
  {
   "cell_type": "markdown",
   "id": "268ec962",
   "metadata": {},
   "source": [
    "**Question 2.1.1.** Make an array containing the numbers 0, 1, -1, and $\\pi$, in that order.  Name it `interesting_numbers`.  \n",
    "\n",
    "*Hint:* How did you get the value $\\pi$ in lab 2?  You can refer to it the same way here. The `math` module has been imported at the top of this notebook.\n"
   ]
  },
  {
   "cell_type": "code",
   "execution_count": null,
   "id": "349f32d3",
   "metadata": {
    "deletable": false,
    "tags": []
   },
   "outputs": [],
   "source": [
    "interesting_numbers = ...\n",
    "interesting_numbers"
   ]
  },
  {
   "cell_type": "code",
   "execution_count": null,
   "id": "2225b444",
   "metadata": {
    "deletable": false,
    "editable": false
   },
   "outputs": [],
   "source": [
    "grader.check(\"q211\")"
   ]
  },
  {
   "cell_type": "markdown",
   "id": "57b85682",
   "metadata": {},
   "source": [
    "**Question 2.1.2.** Make an array containing the five strings `\"Hello\"`, `\",\"`, `\" \"`, `\"world\"`, and `\"!\"`.  (The third one is a single space inside quotes.)  Name it `hello_world_components`.\n",
    "\n",
    "*Note:* If you evaluate `hello_world_components`, you'll notice some extra information in addition to its contents: `dtype='<U5'`.  That's just NumPy's extremely cryptic way of saying that the data types in the array are strings.\n"
   ]
  },
  {
   "cell_type": "code",
   "execution_count": null,
   "id": "c5bb72ec",
   "metadata": {
    "deletable": false,
    "tags": []
   },
   "outputs": [],
   "source": [
    "hello_world_components = ...\n",
    "hello_world_components"
   ]
  },
  {
   "cell_type": "code",
   "execution_count": null,
   "id": "63899743",
   "metadata": {
    "deletable": false,
    "editable": false
   },
   "outputs": [],
   "source": [
    "grader.check(\"q212\")"
   ]
  },
  {
   "cell_type": "markdown",
   "id": "98d65485",
   "metadata": {},
   "source": [
    "###  `np.arange`\n",
    "Arrays are provided by a package called [NumPy](http://www.numpy.org/) (pronounced \"NUM-pie\"). The package is called `numpy`, but it's standard to rename it `np` for brevity.  You can do that with:\n",
    "\n",
    "    import numpy as np\n",
    "\n",
    "Very often in data science, we want to work with many numbers that are evenly spaced within some range.  NumPy provides a special function for this called `arange`.  The line of code `np.arange(start, stop, step)` evaluates to an array with all the numbers starting at `start` and counting up by `step`, stopping **before** `stop` is reached.\n",
    "\n",
    "Run the following cells to see some examples!"
   ]
  },
  {
   "cell_type": "code",
   "execution_count": null,
   "id": "4221f4c1",
   "metadata": {
    "tags": []
   },
   "outputs": [],
   "source": [
    "# This array starts at 1 and counts up by 2\n",
    "# and then stops before 6\n",
    "np.arange(1, 6, 2)"
   ]
  },
  {
   "cell_type": "code",
   "execution_count": null,
   "id": "e1e36e5f",
   "metadata": {
    "tags": []
   },
   "outputs": [],
   "source": [
    "# This array doesn't contain 9\n",
    "# because np.arange stops *before* the stop value is reached\n",
    "np.arange(4, 9, 1)"
   ]
  },
  {
   "cell_type": "markdown",
   "id": "9b9f5105",
   "metadata": {},
   "source": [
    "**Question 2.1.3.** Import `numpy` as `np` and then use `np.arange` to create an array with the multiples of 99 from 0 up to (**and including**) 9999.  (So its elements are 0, 99, 198, 297, etc.)\n"
   ]
  },
  {
   "cell_type": "code",
   "execution_count": null,
   "id": "39a40469",
   "metadata": {
    "deletable": false,
    "tags": []
   },
   "outputs": [],
   "source": [
    "...\n",
    "multiples_of_99 = ...\n",
    "multiples_of_99"
   ]
  },
  {
   "cell_type": "code",
   "execution_count": null,
   "id": "c670de8c",
   "metadata": {
    "deletable": false,
    "editable": false
   },
   "outputs": [],
   "source": [
    "grader.check(\"q213\")"
   ]
  },
  {
   "cell_type": "markdown",
   "id": "ebba06fd",
   "metadata": {
    "deletable": false
   },
   "source": [
    "## 2.2. Working with single elements of arrays (\"indexing\")\n",
    "Let's work with a more interesting dataset.  The next cell creates an array called `population_amounts` that includes estimated world populations of every year from **1950** to roughly the present.  (The estimates come from the US Census Bureau website.)\n",
    "\n",
    "Rather than type in the data manually, we've loaded them from a file on your computer called `world_population.csv`.  We'll cover this later in this lab!"
   ]
  },
  {
   "cell_type": "code",
   "execution_count": null,
   "id": "c25323e1",
   "metadata": {
    "deletable": false,
    "tags": []
   },
   "outputs": [],
   "source": [
    "population_amounts = Table.read_table(\"world_population.csv\").column(\"Population\")\n",
    "population_amounts"
   ]
  },
  {
   "cell_type": "markdown",
   "id": "c53ec44a",
   "metadata": {},
   "source": [
    "Here's how we get the first element of `population_amounts`, which is the world population in the first year in the dataset, 1950."
   ]
  },
  {
   "cell_type": "code",
   "execution_count": null,
   "id": "2edda338",
   "metadata": {
    "tags": []
   },
   "outputs": [],
   "source": [
    "population_amounts.item(0)"
   ]
  },
  {
   "cell_type": "markdown",
   "id": "77a44d9f",
   "metadata": {},
   "source": [
    "The value of that expression is the number 2,557,628,654 (around 2.5 billion), because that's the first thing in the array `population_amounts`.\n",
    "\n",
    "Notice that we wrote `.item(0)`, not `.item(1)`, to get the first element.  This is a weird convention in computer science.  **0 is called the *index* of the first item.**  It's the number of elements that appear *before* that item.  So 3 is the index of the 4th item.\n",
    "\n",
    "Here are some more examples.  In the examples, we've given names to the things we get out of `population_amounts`.  Read and run each cell."
   ]
  },
  {
   "cell_type": "code",
   "execution_count": null,
   "id": "856aeca7",
   "metadata": {
    "tags": []
   },
   "outputs": [],
   "source": [
    "# The 13th element in the array is the population\n",
    "# in 1962 (which is 1950 + 12).\n",
    "population_1962 = population_amounts.item(12)\n",
    "population_1962"
   ]
  },
  {
   "cell_type": "code",
   "execution_count": null,
   "id": "2352d587",
   "metadata": {
    "tags": []
   },
   "outputs": [],
   "source": [
    "# The 66th element is the population in 2015.\n",
    "population_2015 = population_amounts.item(65)\n",
    "population_2015"
   ]
  },
  {
   "cell_type": "code",
   "execution_count": null,
   "id": "762d1a51",
   "metadata": {
    "tags": [
     "raises-exception"
    ]
   },
   "outputs": [],
   "source": [
    "# The array has only 66 elements, so this doesn't work.\n",
    "# (There's no element with 66 other elements before it.)\n",
    "population_2016 = population_amounts.item(66)\n",
    "population_2016"
   ]
  },
  {
   "cell_type": "markdown",
   "id": "bec6409b",
   "metadata": {},
   "source": [
    "Since `make_array` returns an array, we can call `.item(3)` on its output to get its 4th element, just like we \"chained\" together calls to the method `replace` earlier."
   ]
  },
  {
   "cell_type": "code",
   "execution_count": null,
   "id": "7aa3fdeb",
   "metadata": {
    "tags": []
   },
   "outputs": [],
   "source": [
    "make_array(-1, -3, 4, -2).item(3)"
   ]
  },
  {
   "cell_type": "markdown",
   "id": "ed4393ad",
   "metadata": {},
   "source": [
    "**Question 2.2.1.** Set `population_1973` to the world population in 1973, by getting the appropriate element from `population_amounts` using `item`.\n"
   ]
  },
  {
   "cell_type": "code",
   "execution_count": null,
   "id": "c7d6ebfe",
   "metadata": {
    "deletable": false,
    "tags": []
   },
   "outputs": [],
   "source": [
    "population_1973 = ...\n",
    "population_1973"
   ]
  },
  {
   "cell_type": "code",
   "execution_count": null,
   "id": "f5f7042b",
   "metadata": {
    "deletable": false,
    "editable": false
   },
   "outputs": [],
   "source": [
    "grader.check(\"q221\")"
   ]
  },
  {
   "cell_type": "markdown",
   "id": "d583dfd8",
   "metadata": {},
   "source": [
    "## 2.3. Doing something to every element of an array\n",
    "Arrays are primarily useful for doing the same operation many times, so we don't often have to use `.item` and work with single elements.\n",
    "\n",
    "#### Rounding\n",
    "Here is one simple question we might ask about world population:\n",
    "\n",
    "> How big was the population in each year, rounded to the nearest million?\n",
    "\n",
    "Rounding is often used with large numbers when we don't need as much precision in our numbers. One example of this is when we present data in tables and visualizations. \n",
    "\n",
    "We could try to answer our question using the `round` function that is built into Python and the `item` method you just saw. \n",
    "\n",
    "**Note:** the `round` function takes in two arguments: the number to be rounded, and the number of decimal places to round to. The second argument can be thought of as how many steps right or left you move from the decimal point. Negative numbers tell us to move left, and positive numbers tell us to move right. So, if we have `round(1234.5, -2)`, it means that we should move two places left, and then make all numbers to the right of this place zeroes. This would output the number 1200.0. On the other hand, if we have `round(6.789, 1)`, we should move one place right, and then make all numbers to the right of this place zeroes. This would output the number 6.8."
   ]
  },
  {
   "cell_type": "code",
   "execution_count": null,
   "id": "0523c589",
   "metadata": {
    "scrolled": true,
    "tags": []
   },
   "outputs": [],
   "source": [
    "population_1950_magnitude = round(population_amounts.item(0), -6)\n",
    "population_1951_magnitude = round(population_amounts.item(1), -6)\n",
    "population_1952_magnitude = round(population_amounts.item(2), -6)\n",
    "population_1953_magnitude = round(population_amounts.item(3), -6)\n",
    "print(\"1950 population magnitude: \", population_1950_magnitude)"
   ]
  },
  {
   "cell_type": "markdown",
   "id": "6be84669",
   "metadata": {},
   "source": [
    "But this is tedious and doesn't really take advantage of the fact that we are using a computer.\n",
    "\n",
    "Instead, NumPy provides its own version of `round` that rounds each element of an array.  It takes in two arguments: a single array of numbers, and the number of decimal places to round to.  It returns an array of the same length, where the first element of the result is the first element of the argument rounded, and so on.\n",
    "\n",
    "**Question 2.3.1.** Use `np.round` to compute the world population in every year, rounded to the nearest million (6 zeroes).  Give the result (an array of 66 numbers) the name `population_rounded`.  Your code should be very short.\n"
   ]
  },
  {
   "cell_type": "code",
   "execution_count": null,
   "id": "8c45d82f",
   "metadata": {
    "deletable": false,
    "tags": []
   },
   "outputs": [],
   "source": [
    "population_rounded = ...\n",
    "population_rounded"
   ]
  },
  {
   "cell_type": "code",
   "execution_count": null,
   "id": "a57c7a7f",
   "metadata": {
    "deletable": false,
    "editable": false
   },
   "outputs": [],
   "source": [
    "grader.check(\"q231\")"
   ]
  },
  {
   "cell_type": "markdown",
   "id": "5a7dde61",
   "metadata": {},
   "source": [
    "What you just did is called **elementwise** application of `np.round`, since `np.round` operates separately on each element of the array that it's called on. Here's a picture of what's going on:"
   ]
  },
  {
   "cell_type": "markdown",
   "id": "0f2c666e",
   "metadata": {},
   "source": [
    "<img src=\"array_round.jpg\">\n",
    "\n",
    "The textbook's [section](https://www.inferentialthinking.com/chapters/05/1/Arrays)  on arrays has a useful list of NumPy functions that are designed to work elementwise, like `np.round`."
   ]
  },
  {
   "cell_type": "markdown",
   "id": "964a0061",
   "metadata": {},
   "source": [
    "#### Arithmetic\n",
    "Arithmetic also works elementwise on arrays, meaning that if you perform an arithmetic operation (like subtraction, division, etc) on an array, Python will do the operation to every element of the array individually and return an array of all of the results. For example, you can divide all the population numbers by 1 billion to get numbers in billions:"
   ]
  },
  {
   "cell_type": "code",
   "execution_count": null,
   "id": "054d5b2a",
   "metadata": {
    "tags": []
   },
   "outputs": [],
   "source": [
    "population_in_billions = population_amounts / 1000000000\n",
    "population_in_billions"
   ]
  },
  {
   "cell_type": "markdown",
   "id": "93da72bb",
   "metadata": {},
   "source": [
    "You can do the same with addition, subtraction, multiplication, and exponentiation (`**`).\n"
   ]
  },
  {
   "cell_type": "markdown",
   "id": "c9467776",
   "metadata": {
    "deletable": false
   },
   "source": [
    "# 3. Creating Tables\n",
    "\n",
    "An array is useful for describing a single attribute of each element in a collection. For example, let's say our collection is all US States. Then an array could describe the land area of each state. \n",
    "\n",
    "Tables extend this idea by containing multiple columns stored and represented as arrays, each one describing a different attribute for every element of a collection. In this way, tables allow us to not only store data about many entities but to also contain several kinds of data about each entity. \n",
    "\n",
    "For example, in the cell below we have two arrays. The first one, `population_amounts`, was defined above in section 3.2 and contains the world population in each year (estimated by the US Census Bureau). The second array, `years`, contains the years themselves. These elements are in order, so the year and the world population for that year have the same index in their corresponding arrays."
   ]
  },
  {
   "cell_type": "code",
   "execution_count": null,
   "id": "6b538655",
   "metadata": {
    "deletable": false,
    "scrolled": true,
    "tags": []
   },
   "outputs": [],
   "source": [
    "# Just run this cell\n",
    "\n",
    "years = np.arange(1950, 2015+1)\n",
    "print(\"Population column:\", population_amounts)\n",
    "print(\"Years column:\", years)"
   ]
  },
  {
   "cell_type": "markdown",
   "id": "8c5fa472",
   "metadata": {
    "deletable": false
   },
   "source": [
    "Suppose we want to answer this question:\n",
    "\n",
    "> In which year did the world's population cross 6 billion?\n",
    "\n",
    "You could technically answer this question just from staring at the arrays, but it's a bit convoluted, since you would have to count the position where the population first crossed 6 billion, then find the corresponding element in the years array. In cases like these, it might be easier to put the data into a *`Table`*, a 2-dimensional type of dataset. \n",
    "\n",
    "The expression below:\n",
    "\n",
    "- creates an empty table using the expression `Table()`,\n",
    "- adds two columns by calling `with_columns` with four arguments,\n",
    "- assigns the result to the name `population`, and finally\n",
    "- evaluates `population` so that we can see the table.\n",
    "\n",
    "The strings `\"Year\"` and `\"Population\"` are column labels that we have chosen. The names `population_amounts` and `years` were assigned above to two arrays of the **same length**. The function `with_columns` (you can find the documentation [here](https://pages.mtu.edu/~lebrown/data1202-s24/reference/index.html)) takes in alternating strings (to represent column labels) and arrays (representing the data in those columns). The strings and arrays are separated by commas."
   ]
  },
  {
   "cell_type": "code",
   "execution_count": null,
   "id": "1d5b52cc",
   "metadata": {
    "deletable": false,
    "tags": []
   },
   "outputs": [],
   "source": [
    "population = Table().with_columns(\n",
    "    \"Population\", population_amounts,\n",
    "    \"Year\", years\n",
    ")\n",
    "population"
   ]
  },
  {
   "cell_type": "markdown",
   "id": "bb26885a",
   "metadata": {
    "deletable": false
   },
   "source": [
    "Now the data is combined into a single table! It's much easier to parse this data. If you need to know what the population was in 1959, for example, you can tell from a single glance."
   ]
  },
  {
   "cell_type": "markdown",
   "id": "cdcae6bb",
   "metadata": {},
   "source": [
    "**Question 3.1.** In the cell below, we've created 2 arrays. Using the steps above, assign `top_10_movies` to a table that has two columns called \"Name\" and \"Rating\", which hold `top_10_movie_names` and `top_10_movie_ratings` respectively.\n"
   ]
  },
  {
   "cell_type": "code",
   "execution_count": null,
   "id": "bb704eb4",
   "metadata": {
    "deletable": false,
    "tags": []
   },
   "outputs": [],
   "source": [
    "top_10_movie_names = make_array(\n",
    "        'The Shawshank Redemption (1994)',\n",
    "        'The Godfather (1972)',\n",
    "        'The Godfather: Part II (1974)',\n",
    "        'Pulp Fiction (1994)',\n",
    "        \"Schindler's List (1993)\",\n",
    "        'The Lord of the Rings: The Return of the King (2003)',\n",
    "        '12 Angry Men (1957)',\n",
    "        'The Dark Knight (2008)',\n",
    "        'Il buono, il brutto, il cattivo (1966)',\n",
    "        'The Lord of the Rings: The Fellowship of the Ring (2001)')\n",
    "top_10_movie_ratings = make_array(9.2, 9.2, 9., 8.9, 8.9, 8.9, 8.9, 8.9, 8.9, 8.8)\n",
    "\n",
    "top_10_movies = ...\n",
    "\n",
    "# We've put this next line here \n",
    "# so your table will get printed out \n",
    "# when you run this cell.\n",
    "top_10_movies"
   ]
  },
  {
   "cell_type": "code",
   "execution_count": null,
   "id": "6d023cf1",
   "metadata": {
    "deletable": false,
    "editable": false
   },
   "outputs": [],
   "source": [
    "grader.check(\"q31\")"
   ]
  },
  {
   "cell_type": "markdown",
   "id": "68de11f9",
   "metadata": {},
   "source": [
    "#### Loading a table from a file\n",
    "\n",
    "In most cases, we aren't going to go through the trouble of typing in all the data manually. Instead, we load them in from an external source, like a data file. There are many formats for data files, but CSV (\"comma-separated values\") is the most common.\n",
    "\n",
    "`Table.read_table(...)` takes one argument (a path to a data file in **string** format) and returns a table.  \n",
    "\n",
    "**Question 3.2.** `imdb.csv` contains a table of information about the 250 highest-rated movies on IMDb.  Load it as a table called `imdb`.\n",
    "\n",
    "(You may remember working with this table in Lab 2!)\n"
   ]
  },
  {
   "cell_type": "code",
   "execution_count": null,
   "id": "32d5c948",
   "metadata": {
    "deletable": false,
    "tags": []
   },
   "outputs": [],
   "source": [
    "imdb = ...\n",
    "imdb.show(10)"
   ]
  },
  {
   "cell_type": "code",
   "execution_count": null,
   "id": "b00b259d",
   "metadata": {
    "deletable": false,
    "editable": false
   },
   "outputs": [],
   "source": [
    "grader.check(\"q32\")"
   ]
  },
  {
   "cell_type": "markdown",
   "id": "7e3ff922",
   "metadata": {},
   "source": [
    "Where did `imdb.csv` come from? Take a look at the folder for this lab. You should see a file called `imdb.csv`.\n",
    "\n",
    "If you don't know how to do this ask your TA. \n",
    "\n",
    "Open up the `imdb.csv` file in that folder and look at the format. What do you notice? The `.csv` filename ending says that this file is in the [CSV (comma-separated value) format](http://edoceo.com/utilitas/csv-file-format)."
   ]
  },
  {
   "cell_type": "markdown",
   "id": "56ae07ab",
   "metadata": {},
   "source": [
    "# 4. More Table Operations!\n",
    "\n",
    "Now that you've worked with arrays, let's add a few more methods to the list of table operations that you saw in Lab 2.\n",
    "\n",
    "### `column`\n",
    "\n",
    "`column` takes the column name of a table (in string format) as its argument and returns the values in that column as an **array**. "
   ]
  },
  {
   "cell_type": "code",
   "execution_count": null,
   "id": "f28dacd7",
   "metadata": {
    "scrolled": true,
    "tags": []
   },
   "outputs": [],
   "source": [
    "# Returns an array of movie names\n",
    "top_10_movies.column('Name')"
   ]
  },
  {
   "cell_type": "markdown",
   "id": "c8f55bdf",
   "metadata": {},
   "source": [
    "### `take`\n",
    "The table method `take` takes as its argument an array of numbers.  Each number should be the index of a row in the table.  It returns a **new table** with only those rows. \n",
    "\n",
    "You'll usually want to use `take` in conjunction with `np.arange` to take the first few rows of a table."
   ]
  },
  {
   "cell_type": "code",
   "execution_count": null,
   "id": "cd4b9cb4",
   "metadata": {
    "scrolled": true,
    "tags": []
   },
   "outputs": [],
   "source": [
    "# Take first 5 movies of top_10_movies\n",
    "top_10_movies.take(np.arange(0, 5, 1))"
   ]
  },
  {
   "cell_type": "markdown",
   "id": "0e6a2135",
   "metadata": {},
   "source": [
    "The next three questions will give you practice with combining the operations from this lab and the prior lab about the `population` and `imdb` tables.  First, look at the `population` table from section 2. "
   ]
  },
  {
   "cell_type": "code",
   "execution_count": null,
   "id": "d2531e13",
   "metadata": {},
   "outputs": [],
   "source": [
    "# Run this cell to display the table \n",
    "population.show(10)"
   ]
  },
  {
   "cell_type": "markdown",
   "id": "3364634c",
   "metadata": {},
   "source": [
    "**Question 4.1** Check out the `population` table from section 2 of this lab.  Compute the year when the world population first went above 6 billion. Assign the year to `year_population_crossed_6_billion`.\n",
    "\n",
    "*Hint* Look at using `where` with the `are.___` predicates. \n",
    "[DATA 1202 Reference](https://pages.mtu.edu/~lebrown/data1202-s24/reference/index.html#tablewhere-predicates)"
   ]
  },
  {
   "cell_type": "code",
   "execution_count": null,
   "id": "8d45968f",
   "metadata": {
    "tags": []
   },
   "outputs": [],
   "source": [
    "year_population_crossed_6_billion = ...\n",
    "year_population_crossed_6_billion"
   ]
  },
  {
   "cell_type": "code",
   "execution_count": null,
   "id": "4b72a5c6",
   "metadata": {
    "deletable": false,
    "editable": false
   },
   "outputs": [],
   "source": [
    "grader.check(\"q41\")"
   ]
  },
  {
   "cell_type": "markdown",
   "id": "4571a622",
   "metadata": {},
   "source": [
    "**Question 4.2.** Find the average rating for movies released before the year 2000 and the average rating for movies released in the year 2000 or after for the movies in `imdb`.\n",
    "\n",
    "*Hint*: Think of the steps you need to do (take the average, find the ratings, find movies released in 20th/21st centuries), and try to put them in an order that makes sense."
   ]
  },
  {
   "cell_type": "code",
   "execution_count": null,
   "id": "7b5aea81",
   "metadata": {
    "tags": []
   },
   "outputs": [],
   "source": [
    "before_2000 = ...\n",
    "after_or_in_2000 = ...\n",
    "print(\"Average before 2000 rating:\", before_2000)\n",
    "print(\"Average after or in 2000 rating:\", after_or_in_2000)"
   ]
  },
  {
   "cell_type": "code",
   "execution_count": null,
   "id": "e8ea049f",
   "metadata": {
    "deletable": false,
    "editable": false
   },
   "outputs": [],
   "source": [
    "grader.check(\"q42\")"
   ]
  },
  {
   "cell_type": "markdown",
   "id": "253f7423",
   "metadata": {},
   "source": [
    "**Question 4.3.** Here's a challenge: Find the number of movies that came out in *even* years.\n",
    "\n",
    "*Hint:* The operator `%` computes the remainder when dividing by a number.  So `5 % 2` is 1 and `6 % 2` is 0.  A number is even if the remainder is 0 when you divide by 2.\n",
    "\n",
    "*Hint 2:* `%` can be used on arrays, operating elementwise like `+` or `*`.  So `make_array(5, 6, 7) % 2` is `array([1, 0, 1])`.\n",
    "\n",
    "*Hint 3:* Add a new column called \"Year Remainder\" that's the remainder when each movie's release year is divided by 2. To do this, you can use `tbl.with_column(col_name, col_values)`: a table method that takes in the name of the new column and an array of values and returns a copy of the original `tbl` with the new column.  Then, use `where` to find rows where that new column is equal to 0.  Finally, use `num_rows` to count the number of such rows.\n",
    "\n",
    "*Note:* These steps can be chained in one single statement, or broken up across several lines with intermediate names assigned. You’re always welcome to break down problems however you wish!"
   ]
  },
  {
   "cell_type": "code",
   "execution_count": null,
   "id": "21172645",
   "metadata": {
    "tags": []
   },
   "outputs": [],
   "source": [
    "num_even_year_movies = ...\n",
    "num_even_year_movies"
   ]
  },
  {
   "cell_type": "code",
   "execution_count": null,
   "id": "58fb8122",
   "metadata": {
    "deletable": false,
    "editable": false
   },
   "outputs": [],
   "source": [
    "grader.check(\"q43\")"
   ]
  },
  {
   "cell_type": "markdown",
   "id": "54bf3b62",
   "metadata": {},
   "source": [
    "# 5. More Array Practice\n",
    "\n",
    "The following questions will be great practice for learning how to generate arrays in different ways, as well as executing different methods of array arithmetic!"
   ]
  },
  {
   "cell_type": "markdown",
   "id": "e0466209",
   "metadata": {},
   "source": [
    "##  5.1 `np.arange` (cont.)"
   ]
  },
  {
   "cell_type": "markdown",
   "id": "dff41070",
   "metadata": {},
   "source": [
    "##### Temperature readings\n",
    "NOAA (the US National Oceanic and Atmospheric Administration) operates weather stations that measure surface temperatures at different sites around the United States.  The hourly readings are [publicly available](http://www.ncdc.noaa.gov/qclcd/QCLCD?prior=N).\n",
    "\n",
    "Suppose we download all the hourly data from the Oakland, California site for the month of December 2015.  To analyze the data, we want to know when each reading was taken, but we find that the data don't include the timestamps of the readings (the time at which each one was taken).\n",
    "\n",
    "However, we know the first reading was taken at the first instant of December 2015 (midnight on December 1st) and each subsequent reading was taken exactly 1 hour after the last.\n",
    "\n",
    "**Question 5.1.1.** Create an array of the *time, in seconds, since the start of the month* at which **each hourly reading** was taken.  Name it `collection_times`.\n",
    "\n",
    "*Hint 1:* There were 31 days in December, which is equivalent to ($31 \\times 24$) hours or ($31 \\times 24 \\times 60 \\times 60$) seconds.  So your array should have $31 \\times 24$ elements in it.\n",
    "\n",
    "*Hint 2:* The `len` function works on arrays, too!  If your `collection_times` isn't passing the tests, check its length and make sure it has $31 \\times 24$ elements.\n"
   ]
  },
  {
   "cell_type": "code",
   "execution_count": null,
   "id": "765168a8",
   "metadata": {
    "tags": []
   },
   "outputs": [],
   "source": [
    "collection_times = ...\n",
    "# collection_times"
   ]
  },
  {
   "cell_type": "code",
   "execution_count": null,
   "id": "8bd2152e",
   "metadata": {
    "deletable": false,
    "editable": false
   },
   "outputs": [],
   "source": [
    "grader.check(\"q511\")"
   ]
  },
  {
   "cell_type": "markdown",
   "id": "75a661a2",
   "metadata": {},
   "source": [
    "## 5.2 Doing something to every element of an array (cont.)\n",
    "\n",
    "Calculate a tip on several restaurant bills at once (in this case just 3):"
   ]
  },
  {
   "cell_type": "code",
   "execution_count": null,
   "id": "50b35aef",
   "metadata": {
    "tags": []
   },
   "outputs": [],
   "source": [
    "restaurant_bills = make_array(20.12, 39.90, 31.01)\n",
    "print(\"Restaurant bills:\\t\", restaurant_bills)\n",
    "\n",
    "# Array multiplication\n",
    "tips = .2 * restaurant_bills\n",
    "print(\"Tips:\\t\\t\\t\", tips)"
   ]
  },
  {
   "cell_type": "markdown",
   "id": "28b88136",
   "metadata": {},
   "source": [
    "<img src=\"array_multiplication.jpg\">\n",
    "\n",
    "**Question 5.2.1** Suppose the total charge at a restaurant is the original bill plus the tip. If the tip is 20%, that means we can multiply the original bill by 1.2 to get the total charge.  Compute the total charge for each bill in `restaurant_bills`, and assign the resulting array to `total_charges`.\n"
   ]
  },
  {
   "cell_type": "code",
   "execution_count": null,
   "id": "5a7846cd",
   "metadata": {
    "tags": []
   },
   "outputs": [],
   "source": [
    "total_charges = ...\n",
    "total_charges"
   ]
  },
  {
   "cell_type": "code",
   "execution_count": null,
   "id": "14bdf1c4",
   "metadata": {
    "deletable": false,
    "editable": false
   },
   "outputs": [],
   "source": [
    "grader.check(\"q521\")"
   ]
  },
  {
   "cell_type": "markdown",
   "id": "d0f1cdf7",
   "metadata": {},
   "source": [
    "**Question 5.2.2.** The array `more_restaurant_bills` contains 100,000 bills!  Compute the total charge for each one in `more_restaurant_bills`.  How is your code different?\n"
   ]
  },
  {
   "cell_type": "code",
   "execution_count": null,
   "id": "43238f9f",
   "metadata": {
    "tags": []
   },
   "outputs": [],
   "source": [
    "more_restaurant_bills = Table.read_table(\"more_restaurant_bills.csv\").column(\"Bill\")\n",
    "more_total_charges = ...\n",
    "more_total_charges"
   ]
  },
  {
   "cell_type": "code",
   "execution_count": null,
   "id": "5978f2c1",
   "metadata": {
    "deletable": false,
    "editable": false
   },
   "outputs": [],
   "source": [
    "grader.check(\"q522\")"
   ]
  },
  {
   "cell_type": "markdown",
   "id": "021e1ed9",
   "metadata": {},
   "source": [
    "The function `sum` takes a single array of numbers as its argument.  It returns the sum of all the numbers in that array (so it returns a single number, not an array).\n",
    "\n",
    "**Question 5.2.3.** What was the sum of all the bills in `more_restaurant_bills`, *including tips*?\n"
   ]
  },
  {
   "cell_type": "code",
   "execution_count": null,
   "id": "26bf2cbb",
   "metadata": {
    "tags": []
   },
   "outputs": [],
   "source": [
    "sum_of_bills = ...\n",
    "sum_of_bills"
   ]
  },
  {
   "cell_type": "code",
   "execution_count": null,
   "id": "042b86df",
   "metadata": {
    "deletable": false,
    "editable": false
   },
   "outputs": [],
   "source": [
    "grader.check(\"q523\")"
   ]
  },
  {
   "cell_type": "markdown",
   "id": "9de89981",
   "metadata": {},
   "source": [
    "**Question 5.2.4.** The powers of 2 ($2^0 = 1$, $2^1 = 2$, $2^2 = 4$, etc) arise frequently in computer science.  (For example, you may have noticed that storage on smartphones or USBs come in powers of 2, like 16 GB, 32 GB, or 64 GB.)  Use `np.arange` and the exponentiation operator `**` to compute the first 30 powers of 2, starting from `2^0`.\n",
    "\n",
    "*Hint 1:* `np.arange(1, 2**30, 1)` creates an array with $2^{30}$ elements and **will crash your kernel**.\n",
    "\n",
    "*Hint 2:* Part of your solution will involve `np.arange`, but your array shouldn't have more than 30 elements.\n"
   ]
  },
  {
   "cell_type": "code",
   "execution_count": null,
   "id": "c2a5e30c",
   "metadata": {
    "tags": []
   },
   "outputs": [],
   "source": [
    "powers_of_2 = ...\n",
    "powers_of_2"
   ]
  },
  {
   "cell_type": "code",
   "execution_count": null,
   "id": "4fc9c620",
   "metadata": {
    "deletable": false,
    "editable": false
   },
   "outputs": [],
   "source": [
    "grader.check(\"q524\")"
   ]
  },
  {
   "cell_type": "markdown",
   "id": "704817fe",
   "metadata": {},
   "source": [
    "---\n",
    "\n",
    "🎉     🎉     🎉  \n",
    "\n",
    "\n",
    "Congratulations on finishing Lab 3!!\n",
    "\n",
    "To double-check your work, the cell below will rerun all of the autograder tests.\n"
   ]
  },
  {
   "cell_type": "markdown",
   "id": "f6004249",
   "metadata": {},
   "source": [
    "#  Submission \n",
    "\n",
    "**Important submission steps:** \n",
    "1. Run the tests and verify that they all pass.\n",
    "2. Choose **Save Notebook** from the **File** menu, then **run the final cell**. \n",
    "3. Click the link to download the zip file.\n",
    "4. Then submit the zip file to the corresponding assignment according to your instructor's directions. \n",
    "\n",
    "**It is your responsibility to make sure your work is saved before running the last cell.**"
   ]
  },
  {
   "cell_type": "markdown",
   "id": "540ed008",
   "metadata": {
    "deletable": false,
    "editable": false
   },
   "source": [
    "## Submission\n",
    "\n",
    "Make sure you have run all cells in your notebook in order before running the cell below, so that all images/graphs appear in the output. The cell below will generate a zip file for you to submit. **Please save before exporting!**"
   ]
  },
  {
   "cell_type": "code",
   "execution_count": null,
   "id": "290de05b",
   "metadata": {
    "deletable": false,
    "editable": false
   },
   "outputs": [],
   "source": [
    "# Save your notebook first, then run this cell to export your submission.\n",
    "grader.export(pdf=False, run_tests=True)"
   ]
  },
  {
   "cell_type": "markdown",
   "id": "4ee11f76",
   "metadata": {},
   "source": [
    " "
   ]
  }
 ],
 "metadata": {
  "kernelspec": {
   "display_name": "Python [conda env:data1202] *",
   "language": "python",
   "name": "conda-env-data1202-py"
  },
  "language_info": {
   "codemirror_mode": {
    "name": "ipython",
    "version": 3
   },
   "file_extension": ".py",
   "mimetype": "text/x-python",
   "name": "python",
   "nbconvert_exporter": "python",
   "pygments_lexer": "ipython3",
   "version": "3.10.12"
  },
  "otter": {
   "OK_FORMAT": true,
   "tests": {
    "q11": {
     "name": "q11",
     "points": null,
     "suites": [
      {
       "cases": [
        {
         "code": ">>> woman_asking == 'The woman asked:'\nTrue",
         "hidden": false,
         "locked": false
        },
        {
         "code": ">>> gagarin_quote == '\"As a matter of fact, I have!\"'\nTrue",
         "hidden": false,
         "locked": false
        }
       ],
       "scored": true,
       "setup": "",
       "teardown": "",
       "type": "doctest"
      }
     ]
    },
    "q111": {
     "name": "q111",
     "points": null,
     "suites": [
      {
       "cases": [
        {
         "code": ">>> new_word == 'matchmaker'\nTrue",
         "hidden": false,
         "locked": false
        }
       ],
       "scored": true,
       "setup": "",
       "teardown": "",
       "type": "doctest"
      }
     ]
    },
    "q121": {
     "name": "q121",
     "points": null,
     "suites": [
      {
       "cases": [
        {
         "code": ">>> abs(difference) == 30 or abs(difference) == 30.0\nTrue",
         "hidden": false,
         "locked": false
        }
       ],
       "scored": true,
       "setup": "",
       "teardown": "",
       "type": "doctest"
      }
     ]
    },
    "q131": {
     "name": "q131",
     "points": null,
     "suites": [
      {
       "cases": [
        {
         "code": ">>> sentence_length == 896\nTrue",
         "hidden": false,
         "locked": false
        }
       ],
       "scored": true,
       "setup": "",
       "teardown": "",
       "type": "doctest"
      }
     ]
    },
    "q141": {
     "name": "q141",
     "points": null,
     "suites": [
      {
       "cases": [
        {
         "code": ">>> exA_command in [1, 2, 3, 4, 5]\nTrue",
         "hidden": false,
         "locked": false
        },
        {
         "code": ">>> exB_command in [1, 2, 3, 4, 5]\nTrue",
         "hidden": false,
         "locked": false
        },
        {
         "code": ">>> exC_command in [1, 2, 3, 4, 5]\nTrue",
         "hidden": false,
         "locked": false
        }
       ],
       "scored": true,
       "setup": "",
       "teardown": "",
       "type": "doctest"
      }
     ]
    },
    "q142": {
     "name": "q142",
     "points": null,
     "suites": [
      {
       "cases": [
        {
         "code": ">>> end_string == 'Picture Yourself In A Boat On A River'\nTrue",
         "hidden": false,
         "locked": false
        }
       ],
       "scored": true,
       "setup": "",
       "teardown": "",
       "type": "doctest"
      }
     ]
    },
    "q211": {
     "name": "q211",
     "points": 0,
     "suites": [
      {
       "cases": [
        {
         "code": ">>> type(interesting_numbers) == np.ndarray\nTrue",
         "hidden": false,
         "locked": false
        },
        {
         "code": ">>> len(interesting_numbers) == 4\nTrue",
         "hidden": false,
         "locked": false
        },
        {
         "code": ">>> all(interesting_numbers == np.array([0, 1, -1, math.pi]))\nTrue",
         "hidden": false,
         "locked": false
        }
       ],
       "scored": true,
       "setup": "",
       "teardown": "",
       "type": "doctest"
      }
     ]
    },
    "q212": {
     "name": "q212",
     "points": null,
     "suites": [
      {
       "cases": [
        {
         "code": ">>> type(hello_world_components) == np.ndarray\nTrue",
         "hidden": false,
         "locked": false
        },
        {
         "code": ">>> len(hello_world_components) == 5\nTrue",
         "hidden": false,
         "locked": false
        },
        {
         "code": ">>> all(hello_world_components == np.array([\"Hello\", \",\", \" \", \"world\", \"!\"]))\nTrue",
         "hidden": false,
         "locked": false
        }
       ],
       "scored": true,
       "setup": "",
       "teardown": "",
       "type": "doctest"
      }
     ]
    },
    "q213": {
     "name": "q213",
     "points": null,
     "suites": [
      {
       "cases": [
        {
         "code": ">>> type(multiples_of_99) == np.ndarray\nTrue",
         "hidden": false,
         "locked": false
        },
        {
         "code": ">>> len(multiples_of_99) == 102\nTrue",
         "hidden": false,
         "locked": false
        },
        {
         "code": ">>> all(multiples_of_99 == np.arange(0, 9999+99, 99))\nTrue",
         "hidden": false,
         "locked": false
        }
       ],
       "scored": true,
       "setup": "",
       "teardown": "",
       "type": "doctest"
      }
     ]
    },
    "q221": {
     "name": "q221",
     "points": null,
     "suites": [
      {
       "cases": [
        {
         "code": ">>> population_1973 == 3942096442\nTrue",
         "hidden": false,
         "locked": false
        }
       ],
       "scored": true,
       "setup": "",
       "teardown": "",
       "type": "doctest"
      }
     ]
    },
    "q231": {
     "name": "q231",
     "points": null,
     "suites": [
      {
       "cases": [
        {
         "code": ">>> # It looks like you're not making an array.  You shouldn't need to\n>>> # use .item anywhere in your solution.\n>>> type(population_rounded) == np.ndarray\nTrue",
         "hidden": false,
         "locked": false
        },
        {
         "code": ">>> # You made an array, but it doesn't have the right numbers in it.\n>>> sum(population_rounded) == 312868000000\nTrue",
         "hidden": false,
         "locked": false
        }
       ],
       "scored": true,
       "setup": "",
       "teardown": "",
       "type": "doctest"
      }
     ]
    },
    "q31": {
     "name": "q31",
     "points": null,
     "suites": [
      {
       "cases": [
        {
         "code": ">>> type(top_10_movies) == tables.Table\nTrue",
         "hidden": false,
         "locked": false
        },
        {
         "code": ">>> top_10_movies.column(1).item(4) == 8.9\nTrue",
         "hidden": false,
         "locked": false
        },
        {
         "code": ">>> top_10_movies.column(0).item(7) == 'The Dark Knight (2008)'\nTrue",
         "hidden": false,
         "locked": false
        }
       ],
       "scored": true,
       "setup": "",
       "teardown": "",
       "type": "doctest"
      }
     ]
    },
    "q32": {
     "name": "q32",
     "points": null,
     "suites": [
      {
       "cases": [
        {
         "code": ">>> type(imdb) == tables.Table\nTrue",
         "hidden": false,
         "locked": false
        },
        {
         "code": ">>> imdb.num_rows == 250\nTrue",
         "hidden": false,
         "locked": false
        },
        {
         "code": ">>> imdb.select('Votes').sort(0).take(range(2,5)).column(0).item(0) == 31003 and \\\n... imdb.select('Votes').sort(0).take(range(2,5)).column(0).item(1) == 32385 and \\\n... imdb.select('Votes').sort(0).take(range(2,5)).column(0).item(2) == 35983\nTrue",
         "hidden": false,
         "locked": false
        }
       ],
       "scored": true,
       "setup": "",
       "teardown": "",
       "type": "doctest"
      }
     ]
    },
    "q41": {
     "name": "q41",
     "points": null,
     "suites": [
      {
       "cases": [
        {
         "code": ">>> type(year_population_crossed_6_billion) == int or \\\n... type(year_population_crossed_6_billion) == np.int64\nTrue",
         "hidden": false,
         "locked": false
        },
        {
         "code": ">>> year_population_crossed_6_billion == 1999\nTrue",
         "hidden": false,
         "locked": false
        }
       ],
       "scored": true,
       "setup": "",
       "teardown": "",
       "type": "doctest"
      }
     ]
    },
    "q42": {
     "name": "q42",
     "points": null,
     "suites": [
      {
       "cases": [
        {
         "code": ">>> abs(before_2000 - 8.2783625730994146) < 1e-5\nTrue",
         "hidden": false,
         "locked": false
        },
        {
         "code": ">>> abs(after_or_in_2000 - 8.2379746835443033) < 1e-5\nTrue",
         "hidden": false,
         "locked": false
        }
       ],
       "scored": true,
       "setup": "",
       "teardown": "",
       "type": "doctest"
      }
     ]
    },
    "q43": {
     "name": "q43",
     "points": null,
     "suites": [
      {
       "cases": [
        {
         "code": ">>> num_even_year_movies == 127\nTrue",
         "hidden": false,
         "locked": false
        }
       ],
       "scored": true,
       "setup": "",
       "teardown": "",
       "type": "doctest"
      }
     ]
    },
    "q511": {
     "name": "q511",
     "points": null,
     "suites": [
      {
       "cases": [
        {
         "code": ">>> type(collection_times) == np.ndarray\nTrue",
         "hidden": false,
         "locked": false
        },
        {
         "code": ">>> len(collection_times) == 31*24\nTrue",
         "hidden": false,
         "locked": false
        },
        {
         "code": ">>> collection_times.item(12) == 43200\nTrue",
         "hidden": false,
         "locked": false
        },
        {
         "code": ">>> collection_times.item(37) == 133200\nTrue",
         "hidden": false,
         "locked": false
        }
       ],
       "scored": true,
       "setup": "",
       "teardown": "",
       "type": "doctest"
      }
     ]
    },
    "q521": {
     "name": "q521",
     "points": null,
     "suites": [
      {
       "cases": [
        {
         "code": ">>> # It looks like you're not making an array.  You shouldn't need to\n>>> # use .item anywhere in your solution.\n>>> type(total_charges) == np.ndarray\nTrue",
         "hidden": false,
         "locked": false
        },
        {
         "code": ">>> # You made an array, but it doesn't have the right numbers in it.\n>>> sum(abs(total_charges - np.array([24.144, 47.88, 37.212]))) < 1e-6\nTrue",
         "hidden": false,
         "locked": false
        }
       ],
       "scored": true,
       "setup": "",
       "teardown": "",
       "type": "doctest"
      }
     ]
    },
    "q522": {
     "name": "q522",
     "points": null,
     "suites": [
      {
       "cases": [
        {
         "code": ">>> # It looks like you're not making an array.  You shouldn't need to\n>>> # use .item anywhere in your solution.\n>>> type(more_total_charges) == np.ndarray\nTrue",
         "hidden": false,
         "locked": false
        },
        {
         "code": ">>> # You made an array, but it doesn't have the right numbers in it.\n>>> sum(abs(more_total_charges - 1.2 * more_restaurant_bills)) < 1e-6\nTrue",
         "hidden": false,
         "locked": false
        },
        {
         "code": ">>> len(more_restaurant_bills) == 100000\nTrue",
         "hidden": false,
         "locked": false
        }
       ],
       "scored": true,
       "setup": "",
       "teardown": "",
       "type": "doctest"
      }
     ]
    },
    "q523": {
     "name": "q523",
     "points": null,
     "suites": [
      {
       "cases": [
        {
         "code": ">>> round(sum_of_bills, 2) == 1795730.06\nTrue",
         "hidden": false,
         "locked": false
        }
       ],
       "scored": true,
       "setup": "",
       "teardown": "",
       "type": "doctest"
      }
     ]
    },
    "q524": {
     "name": "q524",
     "points": null,
     "suites": [
      {
       "cases": [
        {
         "code": ">>> all(powers_of_2 == 2 ** np.arange(30))\nTrue",
         "hidden": false,
         "locked": false
        }
       ],
       "scored": true,
       "setup": "",
       "teardown": "",
       "type": "doctest"
      }
     ]
    }
   }
  },
  "widgets": {
   "application/vnd.jupyter.widget-state+json": {
    "state": {
     "08f02aff24f645dd8c2ab422ab9d094d": {
      "model_module": "@jupyter-widgets/controls",
      "model_module_version": "1.5.0",
      "model_name": "VBoxModel",
      "state": {
       "_dom_classes": [],
       "_model_module": "@jupyter-widgets/controls",
       "_model_module_version": "1.5.0",
       "_model_name": "VBoxModel",
       "_view_count": null,
       "_view_module": "@jupyter-widgets/controls",
       "_view_module_version": "1.5.0",
       "_view_name": "VBoxView",
       "box_style": "",
       "children": [
        "IPY_MODEL_c2212997a6ac41c69a60f59cb5ff80d2",
        "IPY_MODEL_877fa111af934bee8aed0a3510686498"
       ],
       "layout": "IPY_MODEL_f22e874e7d6e4a85823273a5a74391e6"
      }
     },
     "10add0c50e294f3dbd4f4028e7dc00ca": {
      "model_module": "@jupyter-widgets/controls",
      "model_module_version": "1.5.0",
      "model_name": "DescriptionStyleModel",
      "state": {
       "_model_module": "@jupyter-widgets/controls",
       "_model_module_version": "1.5.0",
       "_model_name": "DescriptionStyleModel",
       "_view_count": null,
       "_view_module": "@jupyter-widgets/base",
       "_view_module_version": "1.2.0",
       "_view_name": "StyleView",
       "description_width": ""
      }
     },
     "137bee1936854940a2cc7f762405209d": {
      "model_module": "@jupyter-widgets/controls",
      "model_module_version": "1.5.0",
      "model_name": "DescriptionStyleModel",
      "state": {
       "_model_module": "@jupyter-widgets/controls",
       "_model_module_version": "1.5.0",
       "_model_name": "DescriptionStyleModel",
       "_view_count": null,
       "_view_module": "@jupyter-widgets/base",
       "_view_module_version": "1.2.0",
       "_view_name": "StyleView",
       "description_width": ""
      }
     },
     "24927c5632da41cd9ed1ca6f93d0e831": {
      "model_module": "@jupyter-widgets/base",
      "model_module_version": "1.2.0",
      "model_name": "LayoutModel",
      "state": {
       "_model_module": "@jupyter-widgets/base",
       "_model_module_version": "1.2.0",
       "_model_name": "LayoutModel",
       "_view_count": null,
       "_view_module": "@jupyter-widgets/base",
       "_view_module_version": "1.2.0",
       "_view_name": "LayoutView",
       "align_content": null,
       "align_items": null,
       "align_self": null,
       "border": null,
       "bottom": null,
       "display": null,
       "flex": null,
       "flex_flow": null,
       "grid_area": null,
       "grid_auto_columns": null,
       "grid_auto_flow": null,
       "grid_auto_rows": null,
       "grid_column": null,
       "grid_gap": null,
       "grid_row": null,
       "grid_template_areas": null,
       "grid_template_columns": null,
       "grid_template_rows": null,
       "height": null,
       "justify_content": null,
       "justify_items": null,
       "left": null,
       "margin": null,
       "max_height": null,
       "max_width": null,
       "min_height": null,
       "min_width": "80px",
       "object_fit": null,
       "object_position": null,
       "order": null,
       "overflow": null,
       "overflow_x": null,
       "overflow_y": null,
       "padding": null,
       "right": null,
       "top": null,
       "visibility": null,
       "width": "10%"
      }
     },
     "271d528792054294b5cf8de58e422894": {
      "model_module": "@jupyter-widgets/controls",
      "model_module_version": "1.5.0",
      "model_name": "VBoxModel",
      "state": {
       "_dom_classes": [],
       "_model_module": "@jupyter-widgets/controls",
       "_model_module_version": "1.5.0",
       "_model_name": "VBoxModel",
       "_view_count": null,
       "_view_module": "@jupyter-widgets/controls",
       "_view_module_version": "1.5.0",
       "_view_name": "VBoxView",
       "box_style": "",
       "children": [
        "IPY_MODEL_c0980d346e7f466c965a3182bcd4c6a0",
        "IPY_MODEL_08f02aff24f645dd8c2ab422ab9d094d"
       ],
       "layout": "IPY_MODEL_82ab8e60d2f049e88ba3fa4b70d04a5c"
      }
     },
     "2e4b3375e55a4a1286c52508cc154c5d": {
      "model_module": "@jupyter-widgets/controls",
      "model_module_version": "1.5.0",
      "model_name": "ButtonStyleModel",
      "state": {
       "_model_module": "@jupyter-widgets/controls",
       "_model_module_version": "1.5.0",
       "_model_name": "ButtonStyleModel",
       "_view_count": null,
       "_view_module": "@jupyter-widgets/base",
       "_view_module_version": "1.2.0",
       "_view_name": "StyleView",
       "button_color": null,
       "font_weight": ""
      }
     },
     "34a123d8a58f4944a3fde013a70e6d84": {
      "model_module": "@jupyter-widgets/controls",
      "model_module_version": "1.5.0",
      "model_name": "LabelModel",
      "state": {
       "_dom_classes": [],
       "_model_module": "@jupyter-widgets/controls",
       "_model_module_version": "1.5.0",
       "_model_name": "LabelModel",
       "_view_count": null,
       "_view_module": "@jupyter-widgets/controls",
       "_view_module_version": "1.5.0",
       "_view_name": "LabelView",
       "description": "",
       "description_tooltip": null,
       "layout": "IPY_MODEL_7abcdfc1278c47eb8c62df5513729149",
       "placeholder": "​",
       "style": "IPY_MODEL_59e2d8a674634d09bb6b93961c9ec1cf",
       "value": "Was the message you saw useful?"
      }
     },
     "393ddfae9ce740d0b0694ab4d82058a6": {
      "model_module": "@jupyter-widgets/base",
      "model_module_version": "1.2.0",
      "model_name": "LayoutModel",
      "state": {
       "_model_module": "@jupyter-widgets/base",
       "_model_module_version": "1.2.0",
       "_model_name": "LayoutModel",
       "_view_count": null,
       "_view_module": "@jupyter-widgets/base",
       "_view_module_version": "1.2.0",
       "_view_name": "LayoutView",
       "align_content": null,
       "align_items": null,
       "align_self": null,
       "border": null,
       "bottom": null,
       "display": null,
       "flex": null,
       "flex_flow": null,
       "grid_area": null,
       "grid_auto_columns": null,
       "grid_auto_flow": null,
       "grid_auto_rows": null,
       "grid_column": null,
       "grid_gap": null,
       "grid_row": null,
       "grid_template_areas": null,
       "grid_template_columns": null,
       "grid_template_rows": null,
       "height": null,
       "justify_content": null,
       "justify_items": null,
       "left": null,
       "margin": "0px 8px 0px 0px",
       "max_height": null,
       "max_width": null,
       "min_height": null,
       "min_width": null,
       "object_fit": null,
       "object_position": null,
       "order": null,
       "overflow": null,
       "overflow_x": null,
       "overflow_y": null,
       "padding": "0px",
       "right": null,
       "top": null,
       "visibility": null,
       "width": "50%"
      }
     },
     "40c17a99d53d408b8844d7667c001b60": {
      "model_module": "@jupyter-widgets/controls",
      "model_module_version": "1.5.0",
      "model_name": "DescriptionStyleModel",
      "state": {
       "_model_module": "@jupyter-widgets/controls",
       "_model_module_version": "1.5.0",
       "_model_name": "DescriptionStyleModel",
       "_view_count": null,
       "_view_module": "@jupyter-widgets/base",
       "_view_module_version": "1.2.0",
       "_view_name": "StyleView",
       "description_width": ""
      }
     },
     "4620ff2dac804aa0a581aebb90512f96": {
      "model_module": "@jupyter-widgets/base",
      "model_module_version": "1.2.0",
      "model_name": "LayoutModel",
      "state": {
       "_model_module": "@jupyter-widgets/base",
       "_model_module_version": "1.2.0",
       "_model_name": "LayoutModel",
       "_view_count": null,
       "_view_module": "@jupyter-widgets/base",
       "_view_module_version": "1.2.0",
       "_view_name": "LayoutView",
       "align_content": null,
       "align_items": null,
       "align_self": null,
       "border": null,
       "bottom": null,
       "display": null,
       "flex": null,
       "flex_flow": null,
       "grid_area": null,
       "grid_auto_columns": null,
       "grid_auto_flow": null,
       "grid_auto_rows": null,
       "grid_column": null,
       "grid_gap": null,
       "grid_row": null,
       "grid_template_areas": null,
       "grid_template_columns": null,
       "grid_template_rows": null,
       "height": null,
       "justify_content": null,
       "justify_items": null,
       "left": null,
       "margin": null,
       "max_height": null,
       "max_width": null,
       "min_height": null,
       "min_width": null,
       "object_fit": null,
       "object_position": null,
       "order": null,
       "overflow": null,
       "overflow_x": null,
       "overflow_y": null,
       "padding": null,
       "right": null,
       "top": null,
       "visibility": null,
       "width": null
      }
     },
     "4c5685b2cb254f74bed59f59bbbbbcda": {
      "model_module": "@jupyter-widgets/controls",
      "model_module_version": "1.5.0",
      "model_name": "ButtonModel",
      "state": {
       "_dom_classes": [],
       "_model_module": "@jupyter-widgets/controls",
       "_model_module_version": "1.5.0",
       "_model_name": "ButtonModel",
       "_view_count": null,
       "_view_module": "@jupyter-widgets/controls",
       "_view_module_version": "1.5.0",
       "_view_name": "ButtonView",
       "button_style": "",
       "description": "Submit",
       "disabled": false,
       "icon": "",
       "layout": "IPY_MODEL_24927c5632da41cd9ed1ca6f93d0e831",
       "style": "IPY_MODEL_2e4b3375e55a4a1286c52508cc154c5d",
       "tooltip": ""
      }
     },
     "59e2d8a674634d09bb6b93961c9ec1cf": {
      "model_module": "@jupyter-widgets/controls",
      "model_module_version": "1.5.0",
      "model_name": "DescriptionStyleModel",
      "state": {
       "_model_module": "@jupyter-widgets/controls",
       "_model_module_version": "1.5.0",
       "_model_name": "DescriptionStyleModel",
       "_view_count": null,
       "_view_module": "@jupyter-widgets/base",
       "_view_module_version": "1.2.0",
       "_view_name": "StyleView",
       "description_width": ""
      }
     },
     "73da8147dd424df08565f291be114947": {
      "model_module": "@jupyter-widgets/controls",
      "model_module_version": "1.5.0",
      "model_name": "TextModel",
      "state": {
       "_dom_classes": [],
       "_model_module": "@jupyter-widgets/controls",
       "_model_module_version": "1.5.0",
       "_model_name": "TextModel",
       "_view_count": null,
       "_view_module": "@jupyter-widgets/controls",
       "_view_module_version": "1.5.0",
       "_view_name": "TextView",
       "continuous_update": true,
       "description": "",
       "description_tooltip": null,
       "disabled": false,
       "layout": "IPY_MODEL_393ddfae9ce740d0b0694ab4d82058a6",
       "placeholder": "Press enter to submit.",
       "style": "IPY_MODEL_137bee1936854940a2cc7f762405209d",
       "value": ""
      }
     },
     "7abcdfc1278c47eb8c62df5513729149": {
      "model_module": "@jupyter-widgets/base",
      "model_module_version": "1.2.0",
      "model_name": "LayoutModel",
      "state": {
       "_model_module": "@jupyter-widgets/base",
       "_model_module_version": "1.2.0",
       "_model_name": "LayoutModel",
       "_view_count": null,
       "_view_module": "@jupyter-widgets/base",
       "_view_module_version": "1.2.0",
       "_view_name": "LayoutView",
       "align_content": null,
       "align_items": null,
       "align_self": null,
       "border": null,
       "bottom": null,
       "display": null,
       "flex": null,
       "flex_flow": null,
       "grid_area": null,
       "grid_auto_columns": null,
       "grid_auto_flow": null,
       "grid_auto_rows": null,
       "grid_column": null,
       "grid_gap": null,
       "grid_row": null,
       "grid_template_areas": null,
       "grid_template_columns": null,
       "grid_template_rows": null,
       "height": null,
       "justify_content": null,
       "justify_items": null,
       "left": null,
       "margin": null,
       "max_height": null,
       "max_width": null,
       "min_height": null,
       "min_width": null,
       "object_fit": null,
       "object_position": null,
       "order": null,
       "overflow": null,
       "overflow_x": null,
       "overflow_y": null,
       "padding": null,
       "right": null,
       "top": null,
       "visibility": null,
       "width": null
      }
     },
     "82ab8e60d2f049e88ba3fa4b70d04a5c": {
      "model_module": "@jupyter-widgets/base",
      "model_module_version": "1.2.0",
      "model_name": "LayoutModel",
      "state": {
       "_model_module": "@jupyter-widgets/base",
       "_model_module_version": "1.2.0",
       "_model_name": "LayoutModel",
       "_view_count": null,
       "_view_module": "@jupyter-widgets/base",
       "_view_module_version": "1.2.0",
       "_view_name": "LayoutView",
       "align_content": null,
       "align_items": null,
       "align_self": null,
       "border": null,
       "bottom": null,
       "display": null,
       "flex": null,
       "flex_flow": null,
       "grid_area": null,
       "grid_auto_columns": null,
       "grid_auto_flow": null,
       "grid_auto_rows": null,
       "grid_column": null,
       "grid_gap": null,
       "grid_row": null,
       "grid_template_areas": null,
       "grid_template_columns": null,
       "grid_template_rows": null,
       "height": null,
       "justify_content": null,
       "justify_items": null,
       "left": null,
       "margin": null,
       "max_height": null,
       "max_width": null,
       "min_height": null,
       "min_width": null,
       "object_fit": null,
       "object_position": null,
       "order": null,
       "overflow": null,
       "overflow_x": null,
       "overflow_y": null,
       "padding": null,
       "right": null,
       "top": null,
       "visibility": null,
       "width": null
      }
     },
     "877fa111af934bee8aed0a3510686498": {
      "model_module": "@jupyter-widgets/controls",
      "model_module_version": "1.5.0",
      "model_name": "HBoxModel",
      "state": {
       "_dom_classes": [],
       "_model_module": "@jupyter-widgets/controls",
       "_model_module_version": "1.5.0",
       "_model_name": "HBoxModel",
       "_view_count": null,
       "_view_module": "@jupyter-widgets/controls",
       "_view_module_version": "1.5.0",
       "_view_name": "HBoxView",
       "box_style": "",
       "children": [
        "IPY_MODEL_73da8147dd424df08565f291be114947",
        "IPY_MODEL_4c5685b2cb254f74bed59f59bbbbbcda"
       ],
       "layout": "IPY_MODEL_ed0983003a4d4044adf8e07c32446a99"
      }
     },
     "a0225a91b96342e7ba4013ff6955295f": {
      "model_module": "@jupyter-widgets/controls",
      "model_module_version": "1.5.0",
      "model_name": "DropdownModel",
      "state": {
       "_dom_classes": [],
       "_model_module": "@jupyter-widgets/controls",
       "_model_module_version": "1.5.0",
       "_model_name": "DropdownModel",
       "_options_labels": [
        "",
        "Extremely useful",
        "Very useful",
        "Somewhat useful",
        "Slightly useful",
        "Not at all useful"
       ],
       "_view_count": null,
       "_view_module": "@jupyter-widgets/controls",
       "_view_module_version": "1.5.0",
       "_view_name": "DropdownView",
       "description": "",
       "description_tooltip": null,
       "disabled": false,
       "index": 0,
       "layout": "IPY_MODEL_e553213fe6df4b7fb0f4f6eec8e417a9",
       "style": "IPY_MODEL_40c17a99d53d408b8844d7667c001b60"
      }
     },
     "b7117ca6b7bd4fa0b5fd55dfdd77c955": {
      "model_module": "@jupyter-widgets/base",
      "model_module_version": "1.2.0",
      "model_name": "LayoutModel",
      "state": {
       "_model_module": "@jupyter-widgets/base",
       "_model_module_version": "1.2.0",
       "_model_name": "LayoutModel",
       "_view_count": null,
       "_view_module": "@jupyter-widgets/base",
       "_view_module_version": "1.2.0",
       "_view_name": "LayoutView",
       "align_content": null,
       "align_items": null,
       "align_self": null,
       "border": null,
       "bottom": null,
       "display": null,
       "flex": null,
       "flex_flow": null,
       "grid_area": null,
       "grid_auto_columns": null,
       "grid_auto_flow": null,
       "grid_auto_rows": null,
       "grid_column": null,
       "grid_gap": null,
       "grid_row": null,
       "grid_template_areas": null,
       "grid_template_columns": null,
       "grid_template_rows": null,
       "height": null,
       "justify_content": null,
       "justify_items": null,
       "left": null,
       "margin": null,
       "max_height": null,
       "max_width": null,
       "min_height": null,
       "min_width": null,
       "object_fit": null,
       "object_position": null,
       "order": null,
       "overflow": null,
       "overflow_x": null,
       "overflow_y": null,
       "padding": null,
       "right": null,
       "top": null,
       "visibility": null,
       "width": null
      }
     },
     "c0980d346e7f466c965a3182bcd4c6a0": {
      "model_module": "@jupyter-widgets/controls",
      "model_module_version": "1.5.0",
      "model_name": "VBoxModel",
      "state": {
       "_dom_classes": [],
       "_model_module": "@jupyter-widgets/controls",
       "_model_module_version": "1.5.0",
       "_model_name": "VBoxModel",
       "_view_count": null,
       "_view_module": "@jupyter-widgets/controls",
       "_view_module_version": "1.5.0",
       "_view_name": "VBoxView",
       "box_style": "",
       "children": [
        "IPY_MODEL_34a123d8a58f4944a3fde013a70e6d84",
        "IPY_MODEL_a0225a91b96342e7ba4013ff6955295f"
       ],
       "layout": "IPY_MODEL_b7117ca6b7bd4fa0b5fd55dfdd77c955"
      }
     },
     "c2212997a6ac41c69a60f59cb5ff80d2": {
      "model_module": "@jupyter-widgets/controls",
      "model_module_version": "1.5.0",
      "model_name": "LabelModel",
      "state": {
       "_dom_classes": [],
       "_model_module": "@jupyter-widgets/controls",
       "_model_module_version": "1.5.0",
       "_model_name": "LabelModel",
       "_view_count": null,
       "_view_module": "@jupyter-widgets/controls",
       "_view_module_version": "1.5.0",
       "_view_name": "LabelView",
       "description": "",
       "description_tooltip": null,
       "layout": "IPY_MODEL_edcdde18265544978f8b4dafb455cc87",
       "placeholder": "​",
       "style": "IPY_MODEL_10add0c50e294f3dbd4f4028e7dc00ca",
       "value": "Any other feedback?"
      }
     },
     "cad58b81145a4613a0b67b2d4e912818": {
      "model_module": "@jupyter-widgets/controls",
      "model_module_version": "1.5.0",
      "model_name": "AccordionModel",
      "state": {
       "_dom_classes": [],
       "_model_module": "@jupyter-widgets/controls",
       "_model_module_version": "1.5.0",
       "_model_name": "AccordionModel",
       "_titles": {
        "0": "  Feedback Form"
       },
       "_view_count": null,
       "_view_module": "@jupyter-widgets/controls",
       "_view_module_version": "1.5.0",
       "_view_name": "AccordionView",
       "box_style": "",
       "children": [
        "IPY_MODEL_271d528792054294b5cf8de58e422894"
       ],
       "layout": "IPY_MODEL_4620ff2dac804aa0a581aebb90512f96",
       "selected_index": 0
      }
     },
     "e553213fe6df4b7fb0f4f6eec8e417a9": {
      "model_module": "@jupyter-widgets/base",
      "model_module_version": "1.2.0",
      "model_name": "LayoutModel",
      "state": {
       "_model_module": "@jupyter-widgets/base",
       "_model_module_version": "1.2.0",
       "_model_name": "LayoutModel",
       "_view_count": null,
       "_view_module": "@jupyter-widgets/base",
       "_view_module_version": "1.2.0",
       "_view_name": "LayoutView",
       "align_content": null,
       "align_items": null,
       "align_self": null,
       "border": null,
       "bottom": null,
       "display": null,
       "flex": null,
       "flex_flow": null,
       "grid_area": null,
       "grid_auto_columns": null,
       "grid_auto_flow": null,
       "grid_auto_rows": null,
       "grid_column": null,
       "grid_gap": null,
       "grid_row": null,
       "grid_template_areas": null,
       "grid_template_columns": null,
       "grid_template_rows": null,
       "height": null,
       "justify_content": null,
       "justify_items": null,
       "left": null,
       "margin": null,
       "max_height": null,
       "max_width": null,
       "min_height": null,
       "min_width": null,
       "object_fit": null,
       "object_position": null,
       "order": null,
       "overflow": null,
       "overflow_x": null,
       "overflow_y": null,
       "padding": null,
       "right": null,
       "top": null,
       "visibility": null,
       "width": null
      }
     },
     "ed0983003a4d4044adf8e07c32446a99": {
      "model_module": "@jupyter-widgets/base",
      "model_module_version": "1.2.0",
      "model_name": "LayoutModel",
      "state": {
       "_model_module": "@jupyter-widgets/base",
       "_model_module_version": "1.2.0",
       "_model_name": "LayoutModel",
       "_view_count": null,
       "_view_module": "@jupyter-widgets/base",
       "_view_module_version": "1.2.0",
       "_view_name": "LayoutView",
       "align_content": null,
       "align_items": "center",
       "align_self": null,
       "border": null,
       "bottom": null,
       "display": null,
       "flex": null,
       "flex_flow": null,
       "grid_area": null,
       "grid_auto_columns": null,
       "grid_auto_flow": null,
       "grid_auto_rows": null,
       "grid_column": null,
       "grid_gap": null,
       "grid_row": null,
       "grid_template_areas": null,
       "grid_template_columns": null,
       "grid_template_rows": null,
       "height": null,
       "justify_content": null,
       "justify_items": null,
       "left": null,
       "margin": null,
       "max_height": null,
       "max_width": null,
       "min_height": null,
       "min_width": null,
       "object_fit": null,
       "object_position": null,
       "order": null,
       "overflow": null,
       "overflow_x": null,
       "overflow_y": null,
       "padding": null,
       "right": null,
       "top": null,
       "visibility": null,
       "width": null
      }
     },
     "edcdde18265544978f8b4dafb455cc87": {
      "model_module": "@jupyter-widgets/base",
      "model_module_version": "1.2.0",
      "model_name": "LayoutModel",
      "state": {
       "_model_module": "@jupyter-widgets/base",
       "_model_module_version": "1.2.0",
       "_model_name": "LayoutModel",
       "_view_count": null,
       "_view_module": "@jupyter-widgets/base",
       "_view_module_version": "1.2.0",
       "_view_name": "LayoutView",
       "align_content": null,
       "align_items": null,
       "align_self": null,
       "border": null,
       "bottom": null,
       "display": null,
       "flex": null,
       "flex_flow": null,
       "grid_area": null,
       "grid_auto_columns": null,
       "grid_auto_flow": null,
       "grid_auto_rows": null,
       "grid_column": null,
       "grid_gap": null,
       "grid_row": null,
       "grid_template_areas": null,
       "grid_template_columns": null,
       "grid_template_rows": null,
       "height": null,
       "justify_content": null,
       "justify_items": null,
       "left": null,
       "margin": null,
       "max_height": null,
       "max_width": null,
       "min_height": null,
       "min_width": null,
       "object_fit": null,
       "object_position": null,
       "order": null,
       "overflow": null,
       "overflow_x": null,
       "overflow_y": null,
       "padding": null,
       "right": null,
       "top": null,
       "visibility": null,
       "width": null
      }
     },
     "f22e874e7d6e4a85823273a5a74391e6": {
      "model_module": "@jupyter-widgets/base",
      "model_module_version": "1.2.0",
      "model_name": "LayoutModel",
      "state": {
       "_model_module": "@jupyter-widgets/base",
       "_model_module_version": "1.2.0",
       "_model_name": "LayoutModel",
       "_view_count": null,
       "_view_module": "@jupyter-widgets/base",
       "_view_module_version": "1.2.0",
       "_view_name": "LayoutView",
       "align_content": null,
       "align_items": null,
       "align_self": null,
       "border": null,
       "bottom": null,
       "display": null,
       "flex": null,
       "flex_flow": null,
       "grid_area": null,
       "grid_auto_columns": null,
       "grid_auto_flow": null,
       "grid_auto_rows": null,
       "grid_column": null,
       "grid_gap": null,
       "grid_row": null,
       "grid_template_areas": null,
       "grid_template_columns": null,
       "grid_template_rows": null,
       "height": null,
       "justify_content": null,
       "justify_items": null,
       "left": null,
       "margin": null,
       "max_height": null,
       "max_width": null,
       "min_height": null,
       "min_width": null,
       "object_fit": null,
       "object_position": null,
       "order": null,
       "overflow": null,
       "overflow_x": null,
       "overflow_y": null,
       "padding": null,
       "right": null,
       "top": null,
       "visibility": null,
       "width": null
      }
     }
    },
    "version_major": 2,
    "version_minor": 0
   }
  }
 },
 "nbformat": 4,
 "nbformat_minor": 5
}
