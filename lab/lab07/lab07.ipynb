{
 "cells": [
  {
   "cell_type": "code",
   "execution_count": null,
   "id": "84e0a099",
   "metadata": {
    "deletable": false,
    "editable": false
   },
   "outputs": [],
   "source": [
    "# Initialize Otter\n",
    "import otter\n",
    "grader = otter.Notebook(\"lab07.ipynb\")"
   ]
  },
  {
   "cell_type": "markdown",
   "id": "c142baa7",
   "metadata": {},
   "source": [
    "# Lab 7: Conditionals, Iteration, and Chance\n",
    "\n",
    "Welcome to Lab 7! \n",
    "\n",
    "We will go over [iteration](https://www.inferentialthinking.com/chapters/09/2/Iteration.html) and [simulations](https://www.inferentialthinking.com/chapters/09/3/Simulation.html), as well as introduce the concept of [randomness](https://www.inferentialthinking.com/chapters/09/Randomness.html).\n",
    "\n",
    "\n",
    "**Submission**: Once you’re finished, run all cells besides the last one, select File > Save Notebook, and then execute the final cell. Then submit the downloaded zip file, that includes your notebook,  according to your instructor's directions.\n",
    "\n",
    "First, set up the notebook by running the cell below."
   ]
  },
  {
   "cell_type": "code",
   "execution_count": null,
   "id": "57bc9983",
   "metadata": {},
   "outputs": [],
   "source": [
    "# Run this cell, but please don't change it.\n",
    "\n",
    "# These lines import the Numpy and Datascience modules.\n",
    "import numpy as np\n",
    "from datascience import *\n",
    "\n",
    "# These lines do some fancy plotting magic\n",
    "import matplotlib\n",
    "%matplotlib inline\n",
    "import matplotlib.pyplot as plt\n",
    "plt.style.use('fivethirtyeight')\n",
    "\n",
    "import d8error"
   ]
  },
  {
   "cell_type": "markdown",
   "id": "73816398",
   "metadata": {},
   "source": [
    "## 1. Nachos and Conditionals"
   ]
  },
  {
   "cell_type": "markdown",
   "id": "6f01780a",
   "metadata": {},
   "source": [
    "In Python, the boolean data type contains only two unique values:  `True` and `False`. Expressions containing comparison operators such as `<` (less than), `>` (greater than), and `==` (equal to) evaluate to Boolean values. A list of common comparison operators can be found below!\n",
    "\n",
    "<img src=\"comparisons.png\">"
   ]
  },
  {
   "cell_type": "markdown",
   "id": "5f0f8b8a",
   "metadata": {},
   "source": [
    "Run the cell below to see an example of a comparison operator in action."
   ]
  },
  {
   "cell_type": "code",
   "execution_count": null,
   "id": "b47d4bf6",
   "metadata": {},
   "outputs": [],
   "source": [
    "3 > (1 + 1)"
   ]
  },
  {
   "cell_type": "markdown",
   "id": "ddea9867",
   "metadata": {},
   "source": [
    "We can even assign the result of a comparison operation to a variable."
   ]
  },
  {
   "cell_type": "code",
   "execution_count": null,
   "id": "9dc07676",
   "metadata": {},
   "outputs": [],
   "source": [
    "result = 10 / 2 == 5\n",
    "result"
   ]
  },
  {
   "cell_type": "markdown",
   "id": "12fe2459",
   "metadata": {},
   "source": [
    "Arrays are compatible with comparison operators. The output is an array of boolean values."
   ]
  },
  {
   "cell_type": "code",
   "execution_count": null,
   "id": "25a1fe94",
   "metadata": {},
   "outputs": [],
   "source": [
    "make_array(1, 5, 7, 8, 3, -1) > 3"
   ]
  },
  {
   "cell_type": "markdown",
   "id": "4c729ed2",
   "metadata": {},
   "source": [
    "One day, when you come home after a long week, you see a hot bowl of nachos waiting on the dining table! Let's say that whenever you take a nacho from the bowl, it will either have only **cheese**, only **salsa**, **both** cheese and salsa, or **neither** cheese nor salsa (a sad tortilla chip indeed). \n",
    "\n",
    "Let's try and simulate taking nachos from the bowl at random using the function, `np.random.choice(...)`."
   ]
  },
  {
   "cell_type": "markdown",
   "id": "a1abc51d",
   "metadata": {},
   "source": [
    "### `np.random.choice`\n",
    "\n",
    "`np.random.choice` picks one item at random from the given array. It is equally likely to pick any of the items. Run the cell below several times, and observe how the results change."
   ]
  },
  {
   "cell_type": "code",
   "execution_count": null,
   "id": "9f37d381",
   "metadata": {},
   "outputs": [],
   "source": [
    "nachos = make_array('cheese', 'salsa', 'both', 'neither')\n",
    "np.random.choice(nachos)"
   ]
  },
  {
   "cell_type": "markdown",
   "id": "caaa498c",
   "metadata": {},
   "source": [
    "To repeat this process multiple times, pass in an int `n` as the second argument to return `n` different random choices. By default, `np.random.choice` samples **with replacement** and returns an *array* of items. Sampling **with replacement** means if we sample `n` times, each time, every element has an equal chance of being selected.\n",
    "\n",
    "Run the next cell to see an example of sampling with replacement 10 times from the `nachos` array."
   ]
  },
  {
   "cell_type": "code",
   "execution_count": null,
   "id": "1ea433a2",
   "metadata": {},
   "outputs": [],
   "source": [
    "np.random.choice(nachos, 10)"
   ]
  },
  {
   "cell_type": "markdown",
   "id": "32a5db35",
   "metadata": {},
   "source": [
    "To count the number of times a certain type of nacho is randomly chosen, we can use `np.count_nonzero`"
   ]
  },
  {
   "cell_type": "markdown",
   "id": "cb2b2c35",
   "metadata": {},
   "source": [
    "### `np.count_nonzero`\n",
    "\n",
    "`np.count_nonzero` counts the number of non-zero values that appear in an array. When an array of boolean values are passed through the function, it will count the number of `True` values (remember that in Python, `True` is coded as 1 and `False` is coded as 0.)\n",
    "\n",
    "Run the next cell to see an example that uses `np.count_nonzero`."
   ]
  },
  {
   "cell_type": "code",
   "execution_count": null,
   "id": "6a1aab84",
   "metadata": {},
   "outputs": [],
   "source": [
    "np.count_nonzero(make_array(True, False, False, True, True))"
   ]
  },
  {
   "cell_type": "markdown",
   "id": "8bdf45c7",
   "metadata": {},
   "source": [
    "**Question 1.1** Assume we took ten nachos at random, and stored the results in an array called `ten_nachos` as done below. Find the number of nachos with only cheese using code (do not hardcode the answer).  \n",
    "\n",
    "*Hint:* Our solution involves a comparison operator (e.g. `==`, `<`, ...) and the `np.count_nonzero` method.\n"
   ]
  },
  {
   "cell_type": "code",
   "execution_count": null,
   "id": "c687d886",
   "metadata": {
    "tags": []
   },
   "outputs": [],
   "source": [
    "ten_nachos = make_array('neither', 'cheese', 'both', 'both', 'cheese', 'salsa', 'both', 'neither', 'cheese', 'both')\n",
    "number_cheese = ...\n",
    "number_cheese"
   ]
  },
  {
   "cell_type": "code",
   "execution_count": null,
   "id": "ab24dccb",
   "metadata": {
    "deletable": false,
    "editable": false
   },
   "outputs": [],
   "source": [
    "grader.check(\"q11\")"
   ]
  },
  {
   "cell_type": "markdown",
   "id": "5ed4c2af",
   "metadata": {},
   "source": [
    "**Conditional Statements**\n",
    "\n",
    "A conditional statement is a multi-line statement that allows Python to choose among different alternatives based on the truth value of an expression.\n",
    "\n",
    "Here is a basic example.\n",
    "\n",
    "```\n",
    "def sign(x):\n",
    "    if x > 0:\n",
    "        return 'Positive'\n",
    "    else:\n",
    "        return 'Negative'\n",
    "```\n",
    "\n",
    "If the input `x` is greater than `0`, we return the string `'Positive'`. Otherwise, we return `'Negative'`.\n",
    "\n",
    "If we want to test multiple conditions at once, we use the following general format.\n",
    "\n",
    "```\n",
    "if <if expression>:\n",
    "    <if body>\n",
    "elif <elif expression 0>:\n",
    "    <elif body 0>\n",
    "elif <elif expression 1>:\n",
    "    <elif body 1>\n",
    "...\n",
    "else:\n",
    "    <else body>\n",
    "```\n",
    "\n",
    "Only the body for the first conditional expression that is true will be evaluated. Each `if` and `elif` expression is evaluated and considered in order, starting at the top. `elif` can only be used if an `if` clause precedes it. As soon as a true value is found, the corresponding body is executed, and the rest of the conditional statement is skipped. If none of the `if` or `elif` expressions are true, then the `else body` is executed. \n",
    "\n",
    "For more examples and explanation, refer to the section on conditional statements [here](https://inferentialthinking.com/chapters/09/1/Conditional_Statements.html)."
   ]
  },
  {
   "cell_type": "markdown",
   "id": "4bd45ef1",
   "metadata": {},
   "source": [
    "**Question 1.2** Complete the following conditional statement so that the string `'More please'` is assigned to the variable `say_please` if the number of nachos with cheese in `ten_nachos` is less than `5`. Use the if statement to do this (do not directly reassign the variable `say_please`). \n",
    "\n",
    "*Hint*: You should be using `number_cheese` from Question 1.\n"
   ]
  },
  {
   "cell_type": "code",
   "execution_count": null,
   "id": "30d3da0b",
   "metadata": {
    "for_assignment_type": "student",
    "tags": []
   },
   "outputs": [],
   "source": [
    "say_please = '?'\n",
    "\n",
    "if ...:\n",
    "    say_please = 'More please'\n",
    "say_please"
   ]
  },
  {
   "cell_type": "code",
   "execution_count": null,
   "id": "893a5011",
   "metadata": {
    "deletable": false,
    "editable": false
   },
   "outputs": [],
   "source": [
    "grader.check(\"q12\")"
   ]
  },
  {
   "cell_type": "markdown",
   "id": "97359f86",
   "metadata": {},
   "source": [
    "**Question 1.3** Write a function called `nacho_reaction` that returns a reaction (as a string) based on the type of nacho passed in as an argument. Use the table below to match the nacho type to the appropriate reaction.\n",
    "\n",
    "<img src=\"nacho_reactions.png\">\n",
    "\n",
    "*Hint:* If you're failing the test, double check the spelling of your reactions.\n"
   ]
  },
  {
   "cell_type": "code",
   "execution_count": null,
   "id": "0a8cbc6f",
   "metadata": {
    "for_assignment_type": "student",
    "tags": []
   },
   "outputs": [],
   "source": [
    "def nacho_reaction(nacho):\n",
    "    if nacho == \"cheese\":\n",
    "        return ...\n",
    "    ... :\n",
    "        ...\n",
    "    ... :\n",
    "        ...\n",
    "    ... :\n",
    "        ...\n",
    "\n",
    "spicy_nacho = nacho_reaction('salsa')\n",
    "spicy_nacho"
   ]
  },
  {
   "cell_type": "code",
   "execution_count": null,
   "id": "52f21152",
   "metadata": {
    "deletable": false,
    "editable": false
   },
   "outputs": [],
   "source": [
    "grader.check(\"q13\")"
   ]
  },
  {
   "cell_type": "markdown",
   "id": "9ec46a99",
   "metadata": {},
   "source": [
    "**Question 1.4** Create a table `ten_nachos_reactions` that consists of the nachos in `ten_nachos` as well as the reactions for each of those nachos. The columns should be called `Nachos` and `Reactions`.\n",
    "\n",
    "*Hint:* Use the `apply` method. \n"
   ]
  },
  {
   "cell_type": "code",
   "execution_count": null,
   "id": "2ee66be8",
   "metadata": {
    "for_assignment_type": "student",
    "tags": []
   },
   "outputs": [],
   "source": [
    "ten_nachos_tbl = Table().with_column('Nachos', ten_nachos)\n",
    "ten_nachos_reactions = ...\n",
    "ten_nachos_reactions"
   ]
  },
  {
   "cell_type": "code",
   "execution_count": null,
   "id": "bd8b3654",
   "metadata": {
    "deletable": false,
    "editable": false
   },
   "outputs": [],
   "source": [
    "grader.check(\"q14\")"
   ]
  },
  {
   "cell_type": "markdown",
   "id": "ca21f093",
   "metadata": {},
   "source": [
    "**Question 1.5** Using code, find the number of 'Wow!' reactions for the nachos in `ten_nachos_reactions`.\n"
   ]
  },
  {
   "cell_type": "code",
   "execution_count": null,
   "id": "59e9295f",
   "metadata": {
    "tags": []
   },
   "outputs": [],
   "source": [
    "number_wow_reactions = ...\n",
    "number_wow_reactions"
   ]
  },
  {
   "cell_type": "code",
   "execution_count": null,
   "id": "570fb10f",
   "metadata": {
    "deletable": false,
    "editable": false
   },
   "outputs": [],
   "source": [
    "grader.check(\"q15\")"
   ]
  },
  {
   "cell_type": "markdown",
   "id": "9e23496f",
   "metadata": {},
   "source": [
    "## 2. Strings \n",
    "\n",
    "We have already seen strings before in this course, but we want to introduce some new ideas with strings that will be very useful when dealing with data from real-world data sets.\n",
    "\n",
    "Strings can be viewed as special lists of characters. They can be printed, sliced, indexed, and more! You can do all of these things with lists as well, so let's take a look at how strings and lists are similar:"
   ]
  },
  {
   "cell_type": "code",
   "execution_count": null,
   "id": "c78165b6",
   "metadata": {},
   "outputs": [],
   "source": [
    "our_string = \"Data Science at MTU rocks!\"\n",
    "print(our_string)\n",
    "print(our_string[0] + our_string[5] + \"@\" + our_string[16:26])"
   ]
  },
  {
   "cell_type": "markdown",
   "id": "3a807c9b",
   "metadata": {},
   "source": [
    "We can iterate and slice strings too! In this way, strings are like special arrays.\n",
    "\n",
    "There is an important fact to point out here: In Python,  `strings` are **immutable**. This means that you are not able to mutate (i.e. change) a string object in place. If you want to modify your string, you'll have to make an entirely new one."
   ]
  },
  {
   "cell_type": "code",
   "execution_count": null,
   "id": "8eb4d898",
   "metadata": {},
   "outputs": [],
   "source": [
    "# However you cannot do this with strings because they are immutable.\n",
    "# This will be important when we talk about cleaning data sets before we can use them.\n",
    "our_string[3] = 'x'"
   ]
  },
  {
   "cell_type": "markdown",
   "id": "584fbcf6",
   "metadata": {},
   "source": [
    "### Membership Operators: `in`\n",
    "There is one more boolean operator built into Python we have not mentioned yet. The keyword `in` allows you to check if strings are contained in larger strings. It can be used in other ways in Python, but for now we will use it to ask if the first string is a substring of the second string (if it appears in the other string).\n",
    "\n",
    "Run the cells below for examples of `in`:"
   ]
  },
  {
   "cell_type": "code",
   "execution_count": null,
   "id": "c8b003d9",
   "metadata": {},
   "outputs": [],
   "source": [
    "\"hello\" in \"hello world\""
   ]
  },
  {
   "cell_type": "code",
   "execution_count": null,
   "id": "d457ae64",
   "metadata": {},
   "outputs": [],
   "source": [
    "\"i\" in \"rhythm\""
   ]
  },
  {
   "cell_type": "markdown",
   "id": "5a1b859a",
   "metadata": {},
   "source": [
    "The `in` keyword can also check whether an array *contains* a certain element. `True` is returned if the array contains the element, and `False` otherwise."
   ]
  },
  {
   "cell_type": "code",
   "execution_count": null,
   "id": "8c324a38",
   "metadata": {},
   "outputs": [],
   "source": [
    "my_array = make_array(3, 2, 5, 6)\n",
    "5 in my_array"
   ]
  },
  {
   "cell_type": "code",
   "execution_count": null,
   "id": "e6275eb1",
   "metadata": {},
   "outputs": [],
   "source": [
    "9 in my_array"
   ]
  },
  {
   "cell_type": "markdown",
   "id": "fb8997cf",
   "metadata": {},
   "source": [
    "### For Loops \n",
    "\n",
    "Using a `for` statement, we can perform a task multiple times. This is known as iteration. The general structure of a for loop is:\n",
    "\n",
    "`for <placeholder> in <array>:` followed by indented lines of code that are repeated for each element of the `array` being iterated over. You can read more about for loops [here](https://www.inferentialthinking.com/chapters/09/2/Iteration.html). \n",
    "\n",
    "**NOTE:** We often use `i` as the `placeholder` in our class examples, but you could name it anything! Some examples can be found below.\n",
    "\n",
    "One use of iteration is to loop through a set of values. For instance, we can print out all of the colors of the rainbow."
   ]
  },
  {
   "cell_type": "code",
   "execution_count": null,
   "id": "e48079e1",
   "metadata": {},
   "outputs": [],
   "source": [
    "rainbow = make_array(\"red\", \"orange\", \"yellow\", \"green\", \"blue\", \"indigo\", \"violet\")\n",
    "\n",
    "for color in rainbow:\n",
    "    print(color)"
   ]
  },
  {
   "cell_type": "markdown",
   "id": "0440d2d9",
   "metadata": {},
   "source": [
    "We can see that the indented part of the `for` loop, known as the body, is executed once for each item in `rainbow`. The name `color` is assigned to the next value in `rainbow` at the start of each iteration. Note that the name `color` is arbitrary; we could easily have named it something else. The important thing is we stay consistent throughout the `for` loop. "
   ]
  },
  {
   "cell_type": "code",
   "execution_count": null,
   "id": "1553ae2f",
   "metadata": {},
   "outputs": [],
   "source": [
    "for another_name in rainbow:\n",
    "    print(another_name)"
   ]
  },
  {
   "cell_type": "markdown",
   "id": "0dc43766",
   "metadata": {},
   "source": [
    "In general, however, we would like the variable name to be somewhat informative. "
   ]
  },
  {
   "cell_type": "markdown",
   "id": "d742de4f",
   "metadata": {},
   "source": [
    "**Question 2.1** Let's use this idea of array and string indexing and `if/else` and `for` loops to find all words that begin with a vowel. Complete the function `starts_with_vowels` so that it takes an array of strings, finds all of the words that begin with a vowel, and then returns an array of said words.\n",
    "\n",
    "For the example array, `some_words`, your function should return `array(['alligator', 'aardvark', 'owl', 'unicorn'])`.\n",
    "\n",
    "*Hint*: You'll need to use the `np.append` function, the documentation for which you can find [here](https://numpy.org/doc/stable/reference/generated/numpy.append.html)."
   ]
  },
  {
   "cell_type": "code",
   "execution_count": null,
   "id": "7d669a4d",
   "metadata": {
    "tags": []
   },
   "outputs": [],
   "source": [
    "some_words = make_array(\"alligator\", \"monkey\", \"zebra\", \"lion\", \"aardvark\", \"owl\", \"bear\", \"unicorn\")\n",
    "\n",
    "def starts_with_vowels(words):\n",
    "    words_to_keep = make_array()\n",
    "    for ... in ...:\n",
    "        if ... in \"aeiou\":\n",
    "            ...\n",
    "    return ...\n",
    "\n",
    "kept_words = starts_with_vowels(some_words)\n",
    "print(kept_words)"
   ]
  },
  {
   "cell_type": "code",
   "execution_count": null,
   "id": "7e3cffd2",
   "metadata": {
    "deletable": false,
    "editable": false
   },
   "outputs": [],
   "source": [
    "grader.check(\"q21\")"
   ]
  },
  {
   "cell_type": "markdown",
   "id": "1d4bd98d",
   "metadata": {},
   "source": [
    "**Question 2.2** Let's write a function that uses another `for` loop. We want to be able to find the acronym of a name. For example, we want to be able to call **Michigan Technological University** by an abbreviated `MTU`.\n",
    "\n",
    "Because we don't care as much about small words even if they are capitalized, also make sure to **exclude words with three letters or fewer from your acronym**. For example, **University of Wisconsin** would not include \"O\" for \"of\" in the acronym.\n",
    "\n",
    "Write a function that takes in a string and returns its acronym.\n",
    "\n",
    "_Hint_: the string method `.isupper()` will return `True` if the given string (or character) is entirely upper case, and `False` otherwise.\n",
    "\n",
    "_Hint_: the string method `.split()` may be useful in your function. "
   ]
  },
  {
   "cell_type": "code",
   "execution_count": null,
   "id": "1f3fd698",
   "metadata": {},
   "outputs": [],
   "source": [
    "# Here is a cell that explains the str.split() function used in the solution below:\n",
    "sentence = \"Hello, I am a student in DATA 1202!\"\n",
    "sentence.split()"
   ]
  },
  {
   "cell_type": "code",
   "execution_count": null,
   "id": "b1cc8fdf",
   "metadata": {
    "tags": []
   },
   "outputs": [],
   "source": [
    "def acronym(title):\n",
    "    # This str.split() function mentioned above turns a string into a list of its words.\n",
    "    words = title.split()\n",
    "    result = \"\"\n",
    "    ...\n",
    "    return result\n",
    "\n",
    "print(acronym(\"Michigan Technological University\"))\n",
    "print(acronym(\"Michigan State University\"))\n",
    "print(acronym(\"The University of Michigan\"))"
   ]
  },
  {
   "cell_type": "code",
   "execution_count": null,
   "id": "f96509b6",
   "metadata": {
    "deletable": false,
    "editable": false
   },
   "outputs": [],
   "source": [
    "grader.check(\"q22\")"
   ]
  },
  {
   "cell_type": "markdown",
   "id": "513c84e7",
   "metadata": {},
   "source": [
    "## 3. Simulations and For Loops\n",
    "\n",
    "Let's continue to explore the use `for` loops and `if` statements to create functions. "
   ]
  },
  {
   "cell_type": "markdown",
   "id": "8c5dacc9",
   "metadata": {},
   "source": [
    "**Question 3.1** In the following cell, we've loaded the text of _Pride and Prejudice_ by Jane Austen, split it into individual words, and stored these words in an array `p_and_p_words`. Using a `for` loop, assign `longer_than_five` to the number of words in the novel that are more than 5 letters long.\n",
    "\n",
    "*Hint*: You can find the number of letters in a word with the `len` function.\n",
    "\n",
    "*Hint*: How can you use `longer_than_five` to keep track of the number of words that are more than five letters long?\n"
   ]
  },
  {
   "cell_type": "code",
   "execution_count": null,
   "id": "c22cfc7c",
   "metadata": {
    "for_assignment_type": "student",
    "tags": []
   },
   "outputs": [],
   "source": [
    "austen_string = open('Austen_PrideAndPrejudice.txt', encoding='utf-8').read()\n",
    "p_and_p_words = np.array(austen_string.split())\n",
    "\n",
    "longer_than_five = ...\n",
    "\n",
    "for ... in ...:\n",
    "    ...\n",
    "longer_than_five"
   ]
  },
  {
   "cell_type": "code",
   "execution_count": null,
   "id": "e486ff98",
   "metadata": {
    "deletable": false,
    "editable": false
   },
   "outputs": [],
   "source": [
    "grader.check(\"q31\")"
   ]
  },
  {
   "cell_type": "markdown",
   "id": "de4a719a",
   "metadata": {},
   "source": [
    "Another way we can use `for` loops is to repeat lines of code many times. Recall the structure of a `for` loop: \n",
    "\n",
    "`for <placeholder> in <array>:` followed by indented lines of code that are repeated for each element of the array being iterated over. \n",
    "\n",
    "Sometimes, we don't care about what the value of the placeholder is. We instead take advantage of the fact that the `for` loop will repeat as many times as the length of our array. In the following cell, we iterate through an array of length 5 and print out \"Hello, world!\" in each iteration. "
   ]
  },
  {
   "cell_type": "code",
   "execution_count": null,
   "id": "6c49d527",
   "metadata": {},
   "outputs": [],
   "source": [
    "for i in np.arange(5):\n",
    "    print(\"Hello, world!\")"
   ]
  },
  {
   "cell_type": "markdown",
   "id": "e630bdad",
   "metadata": {},
   "source": [
    "**Question 3.2** Using a simulation with 10,000 trials, assign `num_different` to the number of times, in 10,000 trials, that two words picked uniformly at random (with replacement) from Pride and Prejudice have different lengths. \n",
    "\n",
    "*Hint 1*: What function did we use in section 1 to sample at random with replacement from an array? \n",
    "\n",
    "*Hint 2*: Remember that `!=` checks for non-equality between two items.\n"
   ]
  },
  {
   "cell_type": "code",
   "execution_count": null,
   "id": "0d629150",
   "metadata": {
    "for_assignment_type": "student",
    "tags": []
   },
   "outputs": [],
   "source": [
    "trials = 10000\n",
    "num_different = ...\n",
    "\n",
    "for ... in ...:\n",
    "    ...\n",
    "num_different"
   ]
  },
  {
   "cell_type": "code",
   "execution_count": null,
   "id": "3dafaf5f",
   "metadata": {
    "deletable": false,
    "editable": false
   },
   "outputs": [],
   "source": [
    "grader.check(\"q32\")"
   ]
  },
  {
   "cell_type": "markdown",
   "id": "ee5739c8",
   "metadata": {},
   "source": [
    "## 3. Submission\n",
    "\n",
    "\n",
    "**Important submission steps:** \n",
    "1. Run the tests and verify that they all pass.\n",
    "2. Choose **Save Notebook** from the **File** menu, then **run the final cell**. \n",
    "3. Click the link to download the zip file.\n",
    "4. Then submit the zip file to the corresponding assignment according to your instructor's directions. \n",
    "\n",
    "**It is your responsibility to make sure your work is saved before running the last cell.**"
   ]
  },
  {
   "cell_type": "markdown",
   "id": "72cd5fbb",
   "metadata": {
    "deletable": false,
    "editable": false
   },
   "source": [
    "## Submission\n",
    "\n",
    "Make sure you have run all cells in your notebook in order before running the cell below, so that all images/graphs appear in the output. The cell below will generate a zip file for you to submit. **Please save before exporting!**"
   ]
  },
  {
   "cell_type": "code",
   "execution_count": null,
   "id": "be085b27",
   "metadata": {
    "deletable": false,
    "editable": false
   },
   "outputs": [],
   "source": [
    "# Save your notebook first, then run this cell to export your submission.\n",
    "grader.export(pdf=False, run_tests=True)"
   ]
  },
  {
   "cell_type": "markdown",
   "id": "c372783f",
   "metadata": {},
   "source": [
    " "
   ]
  }
 ],
 "metadata": {
  "kernelspec": {
   "display_name": "Python [conda env:data1202] *",
   "language": "python",
   "name": "conda-env-data1202-py"
  },
  "language_info": {
   "codemirror_mode": {
    "name": "ipython",
    "version": 3
   },
   "file_extension": ".py",
   "mimetype": "text/x-python",
   "name": "python",
   "nbconvert_exporter": "python",
   "pygments_lexer": "ipython3",
   "version": "3.10.12"
  },
  "otter": {
   "OK_FORMAT": true,
   "tests": {
    "q11": {
     "name": "q11",
     "points": null,
     "suites": [
      {
       "cases": [
        {
         "code": ">>> number_cheese == 3\nTrue",
         "hidden": false,
         "locked": false
        }
       ],
       "scored": true,
       "setup": "",
       "teardown": "",
       "type": "doctest"
      }
     ]
    },
    "q12": {
     "name": "q12",
     "points": null,
     "suites": [
      {
       "cases": [
        {
         "code": ">>> say_please == 'More please'\nTrue",
         "hidden": false,
         "locked": false
        }
       ],
       "scored": true,
       "setup": "",
       "teardown": "",
       "type": "doctest"
      }
     ]
    },
    "q13": {
     "name": "q13",
     "points": null,
     "suites": [
      {
       "cases": [
        {
         "code": ">>> nacho_reaction('salsa') == 'Spicy!'\nTrue",
         "hidden": false,
         "locked": false
        },
        {
         "code": ">>> nacho_reaction('cheese') == 'Cheesy!'\nTrue",
         "hidden": false,
         "locked": false
        },
        {
         "code": ">>> nacho_reaction('both') == 'Wow!'\nTrue",
         "hidden": false,
         "locked": false
        },
        {
         "code": ">>> nacho_reaction('neither') == 'Meh.'\nTrue",
         "hidden": false,
         "locked": false
        }
       ],
       "scored": true,
       "setup": "",
       "teardown": "",
       "type": "doctest"
      }
     ]
    },
    "q14": {
     "name": "q14",
     "points": null,
     "suites": [
      {
       "cases": [
        {
         "code": ">>> # One or more of the reaction results could be incorrect\n>>> np.count_nonzero(ten_nachos_reactions.column('Reactions') == make_array('Meh.', 'Cheesy!', 'Wow!', 'Wow!', 'Cheesy!', 'Spicy!', 'Wow!', 'Meh.', 'Cheesy!', 'Wow!')) == 10\nTrue",
         "hidden": false,
         "locked": false
        }
       ],
       "scored": true,
       "setup": "",
       "teardown": "",
       "type": "doctest"
      }
     ]
    },
    "q15": {
     "name": "q15",
     "points": null,
     "suites": [
      {
       "cases": [
        {
         "code": ">>> 2 < number_wow_reactions < 6\nTrue",
         "hidden": false,
         "locked": false
        },
        {
         "code": ">>> # Incorrect value for number_wow_reactions\n>>> number_wow_reactions == 4\nTrue",
         "hidden": false,
         "locked": false
        }
       ],
       "scored": true,
       "setup": "",
       "teardown": "",
       "type": "doctest"
      }
     ]
    },
    "q21": {
     "name": "q21",
     "points": null,
     "suites": [
      {
       "cases": [
        {
         "code": ">>> all(starts_with_vowels(some_words) == make_array('alligator', 'aardvark', 'owl', 'unicorn'))\nTrue",
         "hidden": false,
         "locked": false
        },
        {
         "code": ">>> all(starts_with_vowels(make_array(\"bear\")) == make_array())\nTrue",
         "hidden": false,
         "locked": false
        },
        {
         "code": ">>> \"zebra\" not in starts_with_vowels(some_words)\nTrue",
         "hidden": false,
         "locked": false
        }
       ],
       "scored": true,
       "setup": "",
       "teardown": "",
       "type": "doctest"
      }
     ]
    },
    "q22": {
     "name": "q22",
     "points": null,
     "suites": [
      {
       "cases": [
        {
         "code": ">>> callable(acronym) == True\nTrue",
         "hidden": false,
         "locked": false
        },
        {
         "code": ">>> acronym(\"The University of California, Berkeley\") == \"UCB\"\nTrue",
         "hidden": false,
         "locked": false
        },
        {
         "code": ">>> acronym(\"\") == \"\"\nTrue",
         "hidden": false,
         "locked": false
        },
        {
         "code": ">>> acronym(\"Data Science at Michigan Tech University\") == \"DSMTU\"\nTrue",
         "hidden": false,
         "locked": false
        },
        {
         "code": ">>> acronym(\"The United States of America\") == \"USA\"\nTrue",
         "hidden": false,
         "locked": false
        }
       ],
       "scored": true,
       "setup": "",
       "teardown": "",
       "type": "doctest"
      }
     ]
    },
    "q31": {
     "name": "q31",
     "points": null,
     "suites": [
      {
       "cases": [
        {
         "code": ">>> longer_than_five == 35453\nTrue",
         "hidden": false,
         "locked": false
        }
       ],
       "scored": true,
       "setup": "",
       "teardown": "",
       "type": "doctest"
      }
     ]
    },
    "q32": {
     "name": "q32",
     "points": null,
     "suites": [
      {
       "cases": [
        {
         "code": ">>> 8100 <= num_different <= 9100\nTrue",
         "hidden": false,
         "locked": false
        }
       ],
       "scored": true,
       "setup": "",
       "teardown": "",
       "type": "doctest"
      }
     ]
    }
   }
  }
 },
 "nbformat": 4,
 "nbformat_minor": 5
}
