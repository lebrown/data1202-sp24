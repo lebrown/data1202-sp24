{
 "cells": [
  {
   "cell_type": "code",
   "execution_count": null,
   "id": "3c107e27",
   "metadata": {
    "deletable": false,
    "editable": false
   },
   "outputs": [],
   "source": [
    "# Initialize Otter\n",
    "import otter\n",
    "grader = otter.Notebook(\"lab06.ipynb\")"
   ]
  },
  {
   "cell_type": "markdown",
   "id": "d70943b5",
   "metadata": {},
   "source": [
    "# Lab 6: Functions, Groups, Pivot, and Join \n",
    "\n",
    "Welcome to Lab 6! \n",
    "\n",
    "We are moving into additional functions with tables. \n",
    "\n",
    "The [Python Reference](https://pages.mtu.edu/~lebrown/data1202-s24/reference/index.html) has information that will be useful for this lab.\n",
    "\n",
    "**Recommended Reading**:\n",
    " * [Functions and Tables](https://inferentialthinking.com/chapters/08/Functions_and_Tables.html)\n",
    " * [Apply](https://inferentialthinking.com/chapters/08/1/Applying_a_Function_to_a_Column.html)\n",
    " * [Group](https://inferentialthinking.com/chapters/08/2/Classifying_by_One_Variable.html)\n",
    " * [Pivot](https://inferentialthinking.com/chapters/08/3/Cross-Classifying_by_More_than_One_Variable.html)\n",
    " * [Join](https://inferentialthinking.com/chapters/08/4/Joining_Tables_by_Columns.html)\n",
    "\n",
    "\n",
    "**Submission**: Once you’re finished, run all cells besides the last one, select File > Save Notebook, and then execute the final cell. Then submit the downloaded zip file, that includes your notebook,  according to your instructor's directions."
   ]
  },
  {
   "cell_type": "code",
   "execution_count": null,
   "id": "47c1cc6b",
   "metadata": {},
   "outputs": [],
   "source": [
    "from datascience import *\n",
    "import numpy as np\n",
    "\n",
    "import warnings\n",
    "warnings.simplefilter('ignore')"
   ]
  },
  {
   "cell_type": "markdown",
   "id": "4324d99d",
   "metadata": {},
   "source": [
    "# Movie Data \n",
    "\n",
    "Today we will be exploring some more complex table methods we can use! The `apply`, `group`, `pivot`, and `join` methods all allow us to perform different queries on our familiar tables. Understanding not only *how* each method works, but also *why* and *when* to use them are the key takeaways from this lab; by the end of it, we will be able to query tables in some pretty cool ways!\n",
    "\n",
    "These new methods allow us to do different operations than before. As such, it is becoming more and more important to remember how each method sits on our Data Science toolbelt. We should think of each new method as a **tool that serves a specific purpose**. Your job as a data scientist is not only to understand what each tool does, but when each tool is applicable in new situations!\n",
    "\n",
    "In this lab, we'll be working with a `movies` data set that contains information about various American films over time. It contains the following columns:\n",
    "1. `\"Film\"`: The name of the movie\n",
    "2. `\"Genre\"`: The genre of the movie\n",
    "3. `\"Year\"`: The year the movie was released\n",
    "4. `\"Lead Studio\"`: The primary movie studio responsible for producing the movie\n",
    "5. `\"Audience score %\"`: The score, out of 100%, given to the movie by viewers\n",
    "6. `\"Rotten Tomatoes %\"`: The score, out of 100%, given to the movies by the website [Rotten Tomatoes](https://www.rottentomatoes.com/)\n",
    "7. `\"Worldwide Gross (Millions)\"`: The total gross revenue, in millions of dollars, that the movie made\n",
    "8. `\"Quality\"`: Descriptive ranking of the movie based on audience score\n",
    "\n",
    "We will use a new table, `movies`, to get practice with the more advanced table methods."
   ]
  },
  {
   "cell_type": "markdown",
   "id": "a9db942e",
   "metadata": {},
   "source": [
    "### Load table from the file \n",
    "\n",
    "**Question 1.1** \n",
    "Load the data file into a table called `movies`. "
   ]
  },
  {
   "cell_type": "code",
   "execution_count": null,
   "id": "83c68b37",
   "metadata": {
    "tags": []
   },
   "outputs": [],
   "source": [
    "movies = ...\n",
    "movies.show(5)"
   ]
  },
  {
   "cell_type": "code",
   "execution_count": null,
   "id": "88bac3ec",
   "metadata": {
    "deletable": false,
    "editable": false
   },
   "outputs": [],
   "source": [
    "grader.check(\"q11\")"
   ]
  },
  {
   "cell_type": "markdown",
   "id": "4610a1e8",
   "metadata": {},
   "source": [
    "**Question 1.2** The `movies` table includes two percentages, `\"Audience score %\"` and `\"Rotten Tomatoes %\"`.  Create a function `average_score` that returns the average of these two percentages. "
   ]
  },
  {
   "cell_type": "code",
   "execution_count": null,
   "id": "2b603525",
   "metadata": {
    "tags": []
   },
   "outputs": [],
   "source": [
    "def average_score(audience_score, rt_score): \n",
    "    \"Computes the average between the audience score and Rotten Tomatoes score\" \n",
    "    ..."
   ]
  },
  {
   "cell_type": "code",
   "execution_count": null,
   "id": "eb8ad27e",
   "metadata": {
    "deletable": false,
    "editable": false
   },
   "outputs": [],
   "source": [
    "grader.check(\"q12\")"
   ]
  },
  {
   "cell_type": "markdown",
   "id": "3f863680",
   "metadata": {},
   "source": [
    "## The [apply](https://www.data8.org/datascience/reference-nb/datascience-reference.html#tbl.apply()) method\n",
    "\n",
    "The `apply` method allows us to map a function's behavior onto an entire column of a table. We can use built-in Python functions (like `max`) or we can define our own functions and then *apply* those functions to the columns of a table.\n",
    "\n",
    "The `apply` method takes at least 2 arguments. The first is a function, and the rest are as many column labels you need to run that function. The number of columns you need to specify is dependent on the number of arguments the function has. For example, if the function you provide needs two inputs, you need to list two columns for it to work on.\n",
    "\n",
    "`apply` returns a NumPy array of the transformed values. We can ask questions like \"How can I categorize the items in this column?\" (like converting grade percentages into letter grades from lecture). We can also make modifications to a table, like rounding all the values in a column to a certain accuracy."
   ]
  },
  {
   "cell_type": "markdown",
   "id": "8341d2d2",
   "metadata": {},
   "source": [
    "**Question 1.3** Add a new column called `\"Average score %\"` and populate it with the information we just assigned to `average_scores`. We'll re-assign this new table to `movies_ave_score`."
   ]
  },
  {
   "cell_type": "code",
   "execution_count": null,
   "id": "4fb8ca04",
   "metadata": {
    "tags": []
   },
   "outputs": [],
   "source": [
    "\n",
    "movies_ave_score = movies.<> \n",
    "\n",
    "movies_ave_score.show(5)"
   ]
  },
  {
   "cell_type": "code",
   "execution_count": null,
   "id": "058e23e3",
   "metadata": {
    "deletable": false,
    "editable": false
   },
   "outputs": [],
   "source": [
    "grader.check(\"q13\")"
   ]
  },
  {
   "cell_type": "markdown",
   "id": "83996447",
   "metadata": {},
   "source": [
    "**Question 1.4**: Fill in the function `convert_to_dollars` which converts a dollar amount from *millions of dollars* to *dollars*. Then, use the `apply` method to convert all values from the `\"Worldwide Gross (Millions)\"` column into dollars. Finally, create new table `movie_gross` that adds a new column to the `movies` table called `\"Worldwide Gross\"` using the array resulting from your call to `apply`.\n",
    "\n",
    "*Note*: The code for this question requires several steps. "
   ]
  },
  {
   "cell_type": "code",
   "execution_count": null,
   "id": "57c5aebc",
   "metadata": {
    "tags": []
   },
   "outputs": [],
   "source": [
    "\n",
    "def convert_to_dollars(dollar_millions):\n",
    "    \"Converts a dollar amount from millions of dollars to dollars\"\n",
    "    ...\n",
    "\n",
    "dollars = ...\n",
    "movies_gross = ...\n",
    "\n",
    "movies_gross.show(5)"
   ]
  },
  {
   "cell_type": "code",
   "execution_count": null,
   "id": "70351cd3",
   "metadata": {
    "deletable": false,
    "editable": false
   },
   "outputs": [],
   "source": [
    "grader.check(\"q14\")"
   ]
  },
  {
   "cell_type": "markdown",
   "id": "3ba5119e",
   "metadata": {},
   "source": [
    "## The [group](https://www.data8.org/datascience/reference-nb/datascience-reference.html#tbl.group()) method\n",
    "\n",
    "The `group` method is very helpful for organizing a table before asking more questions about it. you can think of the `group` method as organizing rows into bins based on one of their values. All the rows that share a column value go in the same bin! \n",
    "\n",
    "`group` takes in 1-2 arguments. The first is a column label to group by, and the second is an optional function argument to group on, which defaults to counting the number of rows in the bin. We will see some examples of how this optional argument works below.\n",
    "\n",
    "\n"
   ]
  },
  {
   "cell_type": "markdown",
   "id": "8dd7d1a4",
   "metadata": {},
   "source": [
    "**Question 1.5** Let's use the `group` method to organize our movies by `Genre` so that we can see which genres are in our table. "
   ]
  },
  {
   "cell_type": "code",
   "execution_count": null,
   "id": "6797120c",
   "metadata": {
    "tags": []
   },
   "outputs": [],
   "source": [
    "movies_by_genre = ...\n",
    "movies_by_genre"
   ]
  },
  {
   "cell_type": "code",
   "execution_count": null,
   "id": "1650fdeb",
   "metadata": {
    "deletable": false,
    "editable": false
   },
   "outputs": [],
   "source": [
    "grader.check(\"q15\")"
   ]
  },
  {
   "cell_type": "markdown",
   "id": "784c2726",
   "metadata": {},
   "source": [
    "**Question 1.6**: What if we want to group by movie *quality*? Fill in the following cell with code that will assign `quality_groups` to a grouped table based on the `\"Quality\"` column."
   ]
  },
  {
   "cell_type": "code",
   "execution_count": null,
   "id": "180e109c",
   "metadata": {
    "tags": []
   },
   "outputs": [],
   "source": [
    "quality_groups = ...\n",
    "quality_groups"
   ]
  },
  {
   "cell_type": "code",
   "execution_count": null,
   "id": "bd3ebaea",
   "metadata": {
    "deletable": false,
    "editable": false
   },
   "outputs": [],
   "source": [
    "grader.check(\"q16\")"
   ]
  },
  {
   "cell_type": "markdown",
   "id": "74de08c9",
   "metadata": {},
   "source": [
    "#### Shortcomings of `collect` argument\n",
    "\n",
    "Let's say we want to see the average `\"Audience Score %\"` of each bin, we can use `np.mean` or `np.average`. We cannot specify which column we want the average of. As you can see, the `group` method will take the average of every column. For columns where it is **possible to take the average** (columns with the correct input type), it does so. For columns where taking the average doesn't work (with strings in this case), Python outputs nothing for those column averages.\n",
    "\n",
    "Also, the column labels in this new table now have `average` at the end **except** the column label you grouped on. The name of the function you choose to group on will appear at the end of every label in the resulting table. **Like most table methods, the original table you are grouping does not change unless you reassign it**.\n",
    "\n",
    "To get only the column we wanted the average of, we can use the `select` method to get the `Quality` and the `Audience score % average`:"
   ]
  },
  {
   "cell_type": "markdown",
   "id": "61c19e59",
   "metadata": {},
   "source": [
    "\n",
    "**Question 1.7**: Create a table `quality_ratings` with the average `\"Audience score %\"` of each bin of `\"Quality\"`.  No other columns should be in this new table. "
   ]
  },
  {
   "cell_type": "code",
   "execution_count": null,
   "id": "d959ed6c",
   "metadata": {
    "tags": []
   },
   "outputs": [],
   "source": [
    "quality_ratings = ...\n",
    "\n",
    "quality_ratings"
   ]
  },
  {
   "cell_type": "code",
   "execution_count": null,
   "id": "84414628",
   "metadata": {
    "deletable": false,
    "editable": false
   },
   "outputs": [],
   "source": [
    "grader.check(\"q17\")"
   ]
  },
  {
   "cell_type": "markdown",
   "id": "5a9754ab",
   "metadata": {},
   "source": [
    "**Question 1.8:** The table defaults to sort on the column you grouped on, which in this case is alphabetical order for strings. Oscar asks you to sort the `quality_ratings` table in decreasing order based on the average audience score. \n",
    "\n",
    "Write a line of code below that assigns `ratings_sorted` to a table that matches Oscar's request."
   ]
  },
  {
   "cell_type": "code",
   "execution_count": null,
   "id": "bcab399e",
   "metadata": {
    "tags": []
   },
   "outputs": [],
   "source": [
    "ratings_sorted = ...\n",
    "ratings_sorted"
   ]
  },
  {
   "cell_type": "code",
   "execution_count": null,
   "id": "c448b240",
   "metadata": {
    "deletable": false,
    "editable": false
   },
   "outputs": [],
   "source": [
    "grader.check(\"q18\")"
   ]
  },
  {
   "cell_type": "markdown",
   "id": "d5ec57b2",
   "metadata": {},
   "source": [
    "**Question 1.9 (Do Well-Liked Movies Make Money?)**: After hearing that you have a handy `movies` table, Rebecca asks you the following question:\n",
    ">*Do well-liked movies make money?*\n",
    "\n",
    "It's your job to answer Rebecca's question. To do so, create a new table called `money_by_quality` with the following **two columns**:\n",
    "1. `\"Quality\"`: String describing the quality of a given movie\n",
    "2. `\"Worldwide Gross (Millions) mean\"`: The average gross revenue for each movie quality\n",
    "\n",
    "*Hint*: You may find the previous calls to `group` helpful."
   ]
  },
  {
   "cell_type": "code",
   "execution_count": null,
   "id": "73068157",
   "metadata": {
    "tags": []
   },
   "outputs": [],
   "source": [
    "money_by_quality = ...\n",
    "money_by_quality"
   ]
  },
  {
   "cell_type": "code",
   "execution_count": null,
   "id": "a694b31b",
   "metadata": {
    "deletable": false,
    "editable": false
   },
   "outputs": [],
   "source": [
    "grader.check(\"q19\")"
   ]
  },
  {
   "cell_type": "markdown",
   "id": "e2bdad84",
   "metadata": {},
   "source": [
    "## The [pivot](https://www.data8.org/datascience/reference-nb/datascience-reference.html#tbl.pivot()) method\n",
    "\n",
    "The `pivot` method allows us to see the *intersection* of two of our column labels. `pivot` essentially sorts the contents of the dataset based on the combination of the two column labels you pivot on. All the table's rows that share values in the pivoting columns all go into the same bin, and this happens for all combinations of the first and second column you are pivoting on.\n",
    "\n",
    "The `pivot` method has 4 important arguments, 2 of which are mandatory and 2 of which are optional:\n",
    "\n",
    "| **Argument** | **Description** |\n",
    "| --- | --- |\n",
    "| `columns` | The label whose unique values will appear as the **columns** of the outputted pivot table |\n",
    "| `rows` | The label whose unique values will appear as the **rows** of the outputted pivot table |\n",
    "| *Optional:* `values` | Values to use when aggregating |\n",
    "| *Optional:* `collect` | Function used to aggregate the `values` provided in the previous argument |\n",
    "\n",
    "You must use the two `values` and `collect` arguments together, one does not work without the other.\n",
    "\n",
    "\n",
    "The best way to understand how `pivot` works is to look at some examples and talk about what happens. Here we will pivot the `movies` table on its `Genre` and `Quality` column labels to see how many of each type of *genre* are in each category of *quality*:"
   ]
  },
  {
   "cell_type": "code",
   "execution_count": null,
   "id": "dd38d5f7",
   "metadata": {},
   "outputs": [],
   "source": [
    "genre_quality_pivot = movies.pivot(\"Genre\", \"Quality\")\n",
    "genre_quality_pivot"
   ]
  },
  {
   "cell_type": "markdown",
   "id": "234800fe",
   "metadata": {},
   "source": [
    "The way we can read this table is almost how we read a graph in a math class. To see how many **Good Comedies** there are, we look at the row corresponding to `Good` and the column corresponding to `Comedy`, so there are 18 **Good Comedies**.\n",
    "\n",
    "The default behavior of `pivot` is to just count the rows that appear at each intersection of the pivot. However, we can ask it to count another value in the table using any function we want! For example, if we want to know **the maximum amount of money** each intersection made instead of **how many** movies appear in each intersection, we can do that as well!"
   ]
  },
  {
   "cell_type": "code",
   "execution_count": null,
   "id": "aaa387ba",
   "metadata": {},
   "outputs": [],
   "source": [
    "genre_quality_average_grosses = movies.pivot(\"Genre\", \"Quality\", values=\"Worldwide Gross (Millions)\", collect=max)\n",
    "genre_quality_average_grosses"
   ]
  },
  {
   "cell_type": "markdown",
   "id": "bc08b59b",
   "metadata": {},
   "source": [
    "Based on this small dataset, it seems that the highest grossing film is not actually a \"Great\" film but rather a \"Good\" one. Run the following cell to find out what film it actually is!"
   ]
  },
  {
   "cell_type": "code",
   "execution_count": null,
   "id": "f0e82c73",
   "metadata": {},
   "outputs": [],
   "source": [
    "movies.where(\"Worldwide Gross (Millions)\", 709.82)"
   ]
  },
  {
   "cell_type": "markdown",
   "id": "98366d36",
   "metadata": {},
   "source": [
    "**Question 1.10 (Does Studio Matter?)**: Now, let's write a query that can tell us what genre of movie each studio tends to make, and how much those movies made in total. We can use the `pivot` method just like we did above to see the breakdown of movies by studio and genre, and then aggregate those rows by adding up the worldwide gross of each intersection!\n",
    "\n",
    "Assign `column_label` and `row_label` to column labels of `movies_with_qualities` that make the resulting `pivot` call have studios as the rows and genres as the columns.\n",
    "\n",
    "Assign `values_to_collect` to a column label that we can use to collect the data we need to ultimately see the total amount of money made by each intersection of genre and studio.\n",
    "\n",
    "Assign `collection_function` to a function you know that can add up all the movie earnings at each intersection"
   ]
  },
  {
   "cell_type": "code",
   "execution_count": null,
   "id": "75ed49ca",
   "metadata": {
    "tags": []
   },
   "outputs": [],
   "source": [
    "column_label = ...\n",
    "row_label = ...\n",
    "value_to_collect = ...\n",
    "collection_function = ...\n",
    "\n",
    "studio_genre_total_gross = movies.pivot(column_label, row_label, value_to_collect, collection_function)\n",
    "studio_genre_total_gross"
   ]
  },
  {
   "cell_type": "code",
   "execution_count": null,
   "id": "a07cce89",
   "metadata": {
    "deletable": false,
    "editable": false
   },
   "outputs": [],
   "source": [
    "grader.check(\"q110\")"
   ]
  },
  {
   "cell_type": "markdown",
   "id": "201436af",
   "metadata": {},
   "source": [
    "## The [join](https://www.data8.org/datascience/reference-nb/datascience-reference.html#tbl.join()) method\n",
    "\n",
    "The last method we will talk about in this lab is the `join` method. This method allows us to combine two different tables together!\n",
    "\n",
    "The `join` method takes in 2 mandatory arguments and 1 optional argument:\n",
    "\n",
    "| **Column Name** | **Description** |\n",
    "| --- | --- |\n",
    "| `column_label` | a column to use to join |\n",
    "| `other` | another table |\n",
    "| *Optional:* `other_label` | `other`'s label to join on (if not the same as `column_label`) |\n",
    "\n",
    "If `other` has a label in common with the table you are joining with and this common label is the one you want to join on, then you do not need to use the optional argument. If you want to join on another column label or if neither table has a column label in common, then you can use the optional `other_label`.\n",
    "\n",
    "The way join works takes some getting used to, so let's look at some examples of `join` at work!\n",
    "\n",
    "We have the `dogs` and `owners` tables below, take a look at them a bit before we move on so you understand what data they contain:"
   ]
  },
  {
   "cell_type": "code",
   "execution_count": null,
   "id": "d94eab4b",
   "metadata": {},
   "outputs": [],
   "source": [
    "dogs = Table().with_columns(\n",
    "    \"Name\", np.array([\"Spot\", \"Rex\", \"Fluffy\", \"Doge\"]),\n",
    "    \"Breed\", np.array([\"Golden Retriever\", \"Cockapoo\", \"Corgi\", \"Coin\"]),\n",
    "    \"Owner\", np.array([\"James\", \"Will\", \"Josh\", \"Sandra\"]),\n",
    ")\n",
    "dogs"
   ]
  },
  {
   "cell_type": "code",
   "execution_count": null,
   "id": "5ae82e14",
   "metadata": {},
   "outputs": [],
   "source": [
    "owners = Table().with_columns(\n",
    "    \"Owner\", np.array([\"James\", \"Josh\", \"Sandra\", \"Will\"]),\n",
    "    \"Owner Age\", np.array([18, 21, 20, 21])\n",
    ")\n",
    "owners"
   ]
  },
  {
   "cell_type": "markdown",
   "id": "ab646164",
   "metadata": {},
   "source": [
    "As you can see, we have a column in common: `Owner`. Let's join these two tables together so that we can have all the doggy data in one place!"
   ]
  },
  {
   "cell_type": "code",
   "execution_count": null,
   "id": "f61c75fb",
   "metadata": {},
   "outputs": [],
   "source": [
    "doggy_data = dogs.join(\"Owner\", owners)\n",
    "doggy_data"
   ]
  },
  {
   "cell_type": "markdown",
   "id": "318008d4",
   "metadata": {},
   "source": [
    "This table now has all of our information in one place, which makes using it easier!\n",
    "\n",
    "Now let's take a look at a more common example, where the column labels being named differently can cause a problem. We will use the exact same `dogs` and `owners` tables, but we will change a column label on `owners`:"
   ]
  },
  {
   "cell_type": "code",
   "execution_count": null,
   "id": "81b5d989",
   "metadata": {},
   "outputs": [],
   "source": [
    "owners_new_label = owners.relabeled(\"Owner\", \"Name\")\n",
    "\n",
    "display(dogs, owners_new_label)"
   ]
  },
  {
   "cell_type": "markdown",
   "id": "cbecff5b",
   "metadata": {},
   "source": [
    "We have to make sure we join on the `Owner` column from `dogs` and the `Name` column from `owners`! We can do this using the third *optional* argument in the `join` method:"
   ]
  },
  {
   "cell_type": "code",
   "execution_count": null,
   "id": "3ef5be19",
   "metadata": {},
   "outputs": [],
   "source": [
    "doggy_data = dogs.join(\"Owner\", owners_new_label, \"Name\")\n",
    "doggy_data"
   ]
  },
  {
   "cell_type": "markdown",
   "id": "bd411353",
   "metadata": {},
   "source": [
    "**Question 1.11 (A Slightly Different `Join`)**: The `join` method can also change the number of rows in its output. If there are multiple rows in one table that match with one row in the other, the `join` method will include rows for each of these matches in the output. Also, if there is a row in a table with no match in the other, there will be no row in the output that represents this row. Let's implement both these situations in practice and see how they work:"
   ]
  },
  {
   "cell_type": "code",
   "execution_count": null,
   "id": "12f742a3",
   "metadata": {},
   "outputs": [],
   "source": [
    "# Just run this cell\n",
    "# This new dogs table has a new extra dogs\n",
    "more_dogs = dogs.with_rows(make_array(make_array(\"Clifford\", \"Big Red\", \"Sandra\"), make_array(\"Doug\", \"Golden Retriever\", \"Russell\")))\n",
    "more_dogs"
   ]
  },
  {
   "cell_type": "markdown",
   "id": "3ad240c2",
   "metadata": {},
   "source": [
    "**Task**: Before we exectute the join between these tables, we should be able to calculate how many rows should there be in the output. Assign the variable `more_dog_owner_rows` to the number of rows that should result from joining `more_dogs` with `owners_new_label`. Run the cell below to see them again for clarity:"
   ]
  },
  {
   "cell_type": "code",
   "execution_count": null,
   "id": "6c8f770e",
   "metadata": {
    "tags": []
   },
   "outputs": [],
   "source": [
    "more_dog_owner_rows = ...\n",
    "print(more_dog_owner_rows)\n",
    "\n",
    "complex_doggy_data = ...\n",
    "complex_doggy_data"
   ]
  },
  {
   "cell_type": "code",
   "execution_count": null,
   "id": "55050087",
   "metadata": {
    "deletable": false,
    "editable": false
   },
   "outputs": [],
   "source": [
    "grader.check(\"q111\")"
   ]
  },
  {
   "cell_type": "markdown",
   "id": "4376adbc",
   "metadata": {},
   "source": [
    "---\n",
    "\n",
    "# Chains \n",
    "\n",
    "We will explore 2020 restaurant rankings from [Restaurant Business Online](https://www.restaurantbusinessonline.com) (RBO). The `chains` table contains information about the 250 largest restaurant chains in the US, sorted by sales `'Sales'` in decreasing order. \n",
    "\n",
    "Run the cell below to take a look at the `chains` table, and [click here](https://www.restaurantbusinessonline.com/top-500-2020) to see the ranking on RBO's website.\n",
    "\n",
    "*Note*: Here, sales are measured in millions, so McDonald's sales value of `40412` really means \\$40.4 billion dollars."
   ]
  },
  {
   "cell_type": "code",
   "execution_count": null,
   "id": "28b8b10a",
   "metadata": {},
   "outputs": [],
   "source": [
    "chains = Table.read_table('Top250.csv')\n",
    "chains"
   ]
  },
  {
   "cell_type": "markdown",
   "id": "baa13109",
   "metadata": {},
   "source": [
    "Let's start by asking questions about the `chains` table. The `chains` table has many columns that we aren't going to look at. Below, we've modified `chains` so that it only has the columns `'Rank'`, `'Restaurant'`, `'Sales'`, `'YOY_Sales'`, and `'Segment_Category'`. "
   ]
  },
  {
   "cell_type": "code",
   "execution_count": null,
   "id": "66a55880",
   "metadata": {},
   "outputs": [],
   "source": [
    "# Just run this cell\n",
    "chains = chains.select('Rank', 'Restaurant', 'Sales', 'YOY_Sales', 'Segment_Category')\n",
    "chains"
   ]
  },
  {
   "cell_type": "markdown",
   "id": "d754e7d4",
   "metadata": {},
   "source": [
    "**Question 2.1** Below, assign `segment_counts` to a table with two columns, `'Segment_Category'` and `'count'`. Each row should correspond to one `'Segment_Category'`, and `'count'` should describe the number of restaurants with that `'Segment_Category'` in `chains`. Your table should be sorted by `'count'` in decreasing order, so that the first row corresponds to the most common segment category.\n",
    "\n",
    "The first five rows of `segment_counts` should look like this:\n",
    "\n",
    "| Segment_Category       |   count |\n",
    "|-----------------------:|--------:|\n",
    "| Varied Menu            |      22 |\n",
    "| Mexican                |      14 |\n",
    "| Quick Service & Burger |      13 |\n",
    "| Burger                 |      10 |\n",
    "| Family Style           |      10 |\n",
    "\n",
    "\n"
   ]
  },
  {
   "cell_type": "code",
   "execution_count": null,
   "id": "5ee9b88d",
   "metadata": {
    "tags": []
   },
   "outputs": [],
   "source": [
    "segment_counts = ...\n",
    "\n",
    "\n",
    "segment_counts"
   ]
  },
  {
   "cell_type": "code",
   "execution_count": null,
   "id": "80ab9777",
   "metadata": {
    "deletable": false,
    "editable": false
   },
   "outputs": [],
   "source": [
    "grader.check(\"q21\")"
   ]
  },
  {
   "cell_type": "markdown",
   "id": "014fc01b",
   "metadata": {},
   "source": [
    "In the previous question, we determined that the segment category that appeared most often was `'Varied Menu'`. It's not immediately obvious what that means!\n",
    "\n",
    "**Question 2.2**  Below, assign `varied_menu_only` to a table with only the rows in `chains` where the segment category was `'Varied Menu'`. Don't sort or make any other modifications."
   ]
  },
  {
   "cell_type": "code",
   "execution_count": null,
   "id": "6b38c67d",
   "metadata": {
    "tags": []
   },
   "outputs": [],
   "source": [
    "varied_menu_only = ...\n",
    "varied_menu_only"
   ]
  },
  {
   "cell_type": "code",
   "execution_count": null,
   "id": "5e91aab2",
   "metadata": {
    "deletable": false,
    "editable": false
   },
   "outputs": [],
   "source": [
    "grader.check(\"q22\")"
   ]
  },
  {
   "cell_type": "markdown",
   "id": "07226106",
   "metadata": {},
   "source": [
    "So far, we haven't really looked at the `'YOY_Sales'` column in `chains`. Remember, the values in `'YOY_Sales'` tell us the percentage change in sales from 2019 to 2020 for each restaurant chain (YOY means \"Year-over-Year\"); a `'YOY_Sales'` value of 8.6% means the restaurant earned 8.6% more in sales in 2020 than it did in 2019."
   ]
  },
  {
   "cell_type": "code",
   "execution_count": null,
   "id": "e071ecaf",
   "metadata": {},
   "outputs": [],
   "source": [
    "# Outputs the first 'YOY_Sales' value in our `chains` table\n",
    "chains.column('YOY_Sales').item(0)"
   ]
  },
  {
   "cell_type": "markdown",
   "id": "8c928557",
   "metadata": {},
   "source": [
    "Since the values in the `'YOY_Sales'` column are stored as strings, not numbers, we can't reliably sort by `'YOY_Sales'`. (Try it out – if you sort by `'YOY_Sales'` in decreasing order, it will tell you the highest `'YOY_Sales'` any restaurant had was 9.9%, though there are several restaurants with `'YOY_Sales'` values of over 10%.)"
   ]
  },
  {
   "cell_type": "markdown",
   "id": "08a9ccf1",
   "metadata": {},
   "source": [
    "We're going to try something different. Instead of converting `'YOY_Sales'` into a number, we're going to place the values in `'YOY_Sales'` into one of five categories:\n",
    "\n",
    "| Growth Category | Year-over-Year Sales (\\%) |\n",
    "| --- | --- |\n",
    "| `'rapid increase'` | $\\geq 10$ |\n",
    "| `'steady increase'` | $[2.5, 10)$ |\n",
    "| `'stagnant'` | $[-2.5, 2.5)$ | \n",
    "| `'steady decrease'` | $[-10, -2.5)$ |\n",
    "| `'rapid decrease'` | $< -10$ |\n",
    "\n",
    "*Note*: If you're not familiar with this notation, $[a, b)$ means greater than or equal to $a$ and less than $b$."
   ]
  },
  {
   "cell_type": "markdown",
   "id": "f4cc308e",
   "metadata": {},
   "source": [
    "### `str_to_cat`  function \n",
    "\n",
    "To help you out, we've defined a function, `str_to_cat`, that takes in a percentage string and returns the corresponding growth category according to the above table. Example behavior is shown below.\n",
    "\n",
    "```python\n",
    ">>> str_to_cat('-15.8%')\n",
    "'rapid decrease'\n",
    "\n",
    ">>> str_to_cat('4.8%')\n",
    "'steady increase'\n",
    "```"
   ]
  },
  {
   "cell_type": "code",
   "execution_count": null,
   "id": "c481f375",
   "metadata": {},
   "outputs": [],
   "source": [
    "# Just run this cell to load the function\n",
    "def str_to_cat(pct_str):\n",
    "    \"\"\"Converts a percent string to a category\"\"\"\n",
    "    pct_float = float(pct_str.replace('%', ''))\n",
    "    category_dict = {\n",
    "        'rapid increase': 10,\n",
    "        'steady increase': 2.5,\n",
    "        'stagnant': -2.5,\n",
    "        'steady decrease': -10,\n",
    "        'rapid decrease': -100\n",
    "    }\n",
    "    \n",
    "    for cat, val in category_dict.items():\n",
    "        if pct_float >= val:\n",
    "            return cat"
   ]
  },
  {
   "cell_type": "markdown",
   "id": "0216e309",
   "metadata": {},
   "source": [
    "**Question 2.3**: Your job is to apply the `str_to_cat` function to the appropriate column in `chains` so that an array of growth categories is returned. Then, create a new table called `chains_growth` with all of the columns in `chains` *plus* a new sixth column, `'Growth Category'`, with the aforementioned array. \n"
   ]
  },
  {
   "cell_type": "code",
   "execution_count": null,
   "id": "d7db6347",
   "metadata": {
    "tags": []
   },
   "outputs": [],
   "source": [
    "chains_growth = ...\n",
    "chains_growth"
   ]
  },
  {
   "cell_type": "code",
   "execution_count": null,
   "id": "4972c58b",
   "metadata": {
    "deletable": false,
    "editable": false
   },
   "outputs": [],
   "source": [
    "grader.check(\"q23\")"
   ]
  },
  {
   "cell_type": "markdown",
   "id": "536a48cd",
   "metadata": {},
   "source": [
    "We've created a new table, `common_chains`, which contains the same labels as `chains_growth`, but only with chains whose segment category is shared by at least 9 other chains (i.e. only the segment categories that have 10 or more restaurants). Run the following cell to load the `common_chains` table. "
   ]
  },
  {
   "cell_type": "code",
   "execution_count": null,
   "id": "ce4e1776",
   "metadata": {},
   "outputs": [],
   "source": [
    "common_chains = Table.read_table(\"common_chains.csv\")\n",
    "common_chains"
   ]
  },
  {
   "cell_type": "markdown",
   "id": "bbaf3f7f",
   "metadata": {},
   "source": [
    "**Question 2.4** Pivot `common_chains` to create a new table, `common_chains_pivoted`, with a row for each segment category and a column for each growth category. The entries in `common_chains_pivoted` should describe the **average ranking** for a given combination of segment category and growth category.\n",
    "\n",
    "Order the \"Growth category\" so that it goes in order from `rapid decresase`, `steady decrease`, `stagnant`, `steady increase`, `rapid increase`."
   ]
  },
  {
   "cell_type": "code",
   "execution_count": null,
   "id": "67f5ef5d",
   "metadata": {
    "tags": []
   },
   "outputs": [],
   "source": [
    "common_chains_pivoted = common_chains.pivot(\"Growth Category\", \"Segment_Category\",  \"Rank\", np.average).select(0, 1, 4, 3, 5, 2)\n",
    "common_chains_pivoted"
   ]
  },
  {
   "cell_type": "code",
   "execution_count": null,
   "id": "781ae6b5",
   "metadata": {
    "deletable": false,
    "editable": false
   },
   "outputs": [],
   "source": [
    "grader.check(\"q24\")"
   ]
  },
  {
   "cell_type": "markdown",
   "id": "92d37e0d",
   "metadata": {},
   "source": [
    "# Submission \n",
    "\n",
    "**Important submission steps:** \n",
    "1. Run the tests and verify that they all pass.\n",
    "2. Choose **Save Notebook** from the **File** menu, then **run the final cell**. \n",
    "3. Click the link to download the zip file.\n",
    "4. Then submit the zip file to the corresponding assignment according to your instructor's directions. \n",
    "\n",
    "**It is your responsibility to make sure your work is saved before running the last cell.**"
   ]
  },
  {
   "cell_type": "markdown",
   "id": "71c675a3",
   "metadata": {
    "deletable": false,
    "editable": false
   },
   "source": [
    "## Submission\n",
    "\n",
    "Make sure you have run all cells in your notebook in order before running the cell below, so that all images/graphs appear in the output. The cell below will generate a zip file for you to submit. **Please save before exporting!**"
   ]
  },
  {
   "cell_type": "code",
   "execution_count": null,
   "id": "b3b46c30",
   "metadata": {
    "deletable": false,
    "editable": false
   },
   "outputs": [],
   "source": [
    "# Save your notebook first, then run this cell to export your submission.\n",
    "grader.export(pdf=False, run_tests=True)"
   ]
  },
  {
   "cell_type": "markdown",
   "id": "88966658",
   "metadata": {},
   "source": [
    " "
   ]
  }
 ],
 "metadata": {
  "kernelspec": {
   "display_name": "Python [conda env:data1202] *",
   "language": "python",
   "name": "conda-env-data1202-py"
  },
  "language_info": {
   "codemirror_mode": {
    "name": "ipython",
    "version": 3
   },
   "file_extension": ".py",
   "mimetype": "text/x-python",
   "name": "python",
   "nbconvert_exporter": "python",
   "pygments_lexer": "ipython3",
   "version": "3.10.12"
  },
  "otter": {
   "OK_FORMAT": true,
   "tests": {
    "q11": {
     "name": "q11",
     "points": null,
     "suites": [
      {
       "cases": [
        {
         "code": ">>> type(movies) == tables.Table \nTrue",
         "hidden": false,
         "locked": false
        },
        {
         "code": ">>> movies.num_rows == 69\nTrue",
         "hidden": false,
         "locked": false
        },
        {
         "code": ">>> movies.num_columns == 8\nTrue",
         "hidden": false,
         "locked": false
        },
        {
         "code": ">>> movies.sort('Audience score %').take(2, 8, 13).column('Film').item(0) == 'The Heartbreak Kid' and \\\n... movies.sort('Audience score %').take(2, 8, 13).column('Film').item(1) == 'Over Her Dead Body' and \\\n... movies.sort('Audience score %').take(2, 8, 13).column('Film').item(2) == 'Leap Year'\nTrue",
         "hidden": false,
         "locked": false
        }
       ],
       "scored": true,
       "setup": "",
       "teardown": "",
       "type": "doctest"
      }
     ]
    },
    "q110": {
     "name": "q110",
     "points": null,
     "suites": [
      {
       "cases": [
        {
         "code": ">>> isinstance(studio_genre_total_gross, Table)\nTrue",
         "hidden": false,
         "locked": false
        },
        {
         "code": ">>> studio_genre_total_gross.num_rows == 12\nTrue",
         "hidden": false,
         "locked": false
        },
        {
         "code": ">>> studio_genre_total_gross.labels == ('Lead Studio', 'Action', 'Animation', 'Comedy', 'Drama', 'Fantasy', 'Romance')\nTrue",
         "hidden": false,
         "locked": false
        },
        {
         "code": ">>> studio_genre_total_gross.column(\"Comedy\").item(5) == 59.19\nTrue",
         "hidden": false,
         "locked": false
        }
       ],
       "scored": true,
       "setup": "",
       "teardown": "",
       "type": "doctest"
      }
     ]
    },
    "q111": {
     "name": "q111",
     "points": null,
     "suites": [
      {
       "cases": [
        {
         "code": ">>> type(more_dog_owner_rows) in set([int, np.int32, np.int64])\nTrue",
         "hidden": false,
         "locked": false
        },
        {
         "code": ">>> more_dog_owner_rows == 5\nTrue",
         "hidden": false,
         "locked": false
        }
       ],
       "scored": true,
       "setup": "",
       "teardown": "",
       "type": "doctest"
      }
     ]
    },
    "q12": {
     "name": "q12",
     "points": null,
     "suites": [
      {
       "cases": [
        {
         "code": ">>> average_score(50, 60) == 55.0\nTrue",
         "hidden": false,
         "locked": false
        },
        {
         "code": ">>> average_score(55.125, 34.375) == 44.75\nTrue",
         "hidden": false,
         "locked": false
        },
        {
         "code": ">>> all(average_score(make_array(1, 5, 10), make_array(3, 3, 4)) == make_array(2, 4, 7))\nTrue",
         "hidden": false,
         "locked": false
        },
        {
         "code": ">>> average_score(movies.column(\"Audience score %\"), \n...               movies.column(\"Rotten Tomatoes %\")).item(4) == 92.5\nTrue",
         "hidden": false,
         "locked": false
        }
       ],
       "scored": true,
       "setup": "",
       "teardown": "",
       "type": "doctest"
      }
     ]
    },
    "q13": {
     "name": "q13",
     "points": null,
     "suites": [
      {
       "cases": [
        {
         "code": ">>> movies_ave_score.num_columns == 9\nTrue",
         "hidden": false,
         "locked": false
        },
        {
         "code": ">>> movies_ave_score.labels == ('Film', 'Genre', 'Year', 'Lead Studio', 'Audience score %',\n...                   'Rotten Tomatoes %', 'Worldwide Gross (Millions)', 'Quality',\n...                   'Average score %')\nTrue",
         "hidden": false,
         "locked": false
        },
        {
         "code": ">>> movies_ave_score.num_rows == 69\nTrue",
         "hidden": false,
         "locked": false
        },
        {
         "code": ">>> all(movies_ave_score.take(4, 9, 13).column(\"Average score %\") == [92.5, 47, 51.5])\nTrue",
         "hidden": false,
         "locked": false
        }
       ],
       "scored": true,
       "setup": "",
       "teardown": "",
       "type": "doctest"
      }
     ]
    },
    "q14": {
     "name": "q14",
     "points": null,
     "suites": [
      {
       "cases": [
        {
         "code": ">>> callable(convert_to_dollars) == True\nTrue",
         "hidden": false,
         "locked": false
        },
        {
         "code": ">>> convert_to_dollars(10) == 10000000.0\nTrue",
         "hidden": false,
         "locked": false
        },
        {
         "code": ">>> isinstance(movies_gross, Table)\nTrue",
         "hidden": false,
         "locked": false
        },
        {
         "code": ">>> 'Worldwide Gross' in movies_gross.labels\nTrue",
         "hidden": false,
         "locked": false
        },
        {
         "code": ">>> np.isclose(movies_gross.column('Worldwide Gross').item(10), 376660000.0)\nTrue",
         "hidden": false,
         "locked": false
        }
       ],
       "scored": true,
       "setup": "",
       "teardown": "",
       "type": "doctest"
      }
     ]
    },
    "q15": {
     "name": "q15",
     "points": null,
     "suites": [
      {
       "cases": [
        {
         "code": ">>> isinstance(movies_by_genre, Table)\nTrue",
         "hidden": false,
         "locked": false
        },
        {
         "code": ">>> movies_by_genre.num_rows == 6\nTrue",
         "hidden": false,
         "locked": false
        },
        {
         "code": ">>> movies_by_genre.labels == (\"Genre\", \"count\")\nTrue",
         "hidden": false,
         "locked": false
        }
       ],
       "scored": true,
       "setup": "",
       "teardown": "",
       "type": "doctest"
      }
     ]
    },
    "q16": {
     "name": "q16",
     "points": null,
     "suites": [
      {
       "cases": [
        {
         "code": ">>> isinstance(quality_groups, Table)\nTrue",
         "hidden": false,
         "locked": false
        },
        {
         "code": ">>> quality_groups.num_rows == 3\nTrue",
         "hidden": false,
         "locked": false
        },
        {
         "code": ">>> quality_groups.labels == (\"Quality\", \"count\")\nTrue",
         "hidden": false,
         "locked": false
        },
        {
         "code": ">>> all(quality_groups.column(\"count\") == [31, 10, 28])\nTrue",
         "hidden": false,
         "locked": false
        }
       ],
       "scored": true,
       "setup": "",
       "teardown": "",
       "type": "doctest"
      }
     ]
    },
    "q17": {
     "name": "q17",
     "points": null,
     "suites": [
      {
       "cases": [
        {
         "code": ">>> isinstance(quality_ratings, Table)\nTrue",
         "hidden": false,
         "locked": false
        },
        {
         "code": ">>> quality_ratings.num_rows == 3\nTrue",
         "hidden": false,
         "locked": false
        },
        {
         "code": ">>> quality_ratings.labels == (\"Quality\", \"Audience score % average\")\nTrue",
         "hidden": false,
         "locked": false
        },
        {
         "code": ">>> all(np.isclose(quality_ratings.column(\"Audience score % average\"), \n...            [69.3548, 84.3, 50.0357]))\nTrue",
         "hidden": false,
         "locked": false
        }
       ],
       "scored": true,
       "setup": "",
       "teardown": "",
       "type": "doctest"
      }
     ]
    },
    "q18": {
     "name": "q18",
     "points": null,
     "suites": [
      {
       "cases": [
        {
         "code": ">>> isinstance(ratings_sorted, Table)\nTrue",
         "hidden": false,
         "locked": false
        },
        {
         "code": ">>> all(ratings_sorted.column(\"Quality\") == make_array('Great', 'Good', 'Okay'))\nTrue",
         "hidden": false,
         "locked": false
        }
       ],
       "scored": true,
       "setup": "",
       "teardown": "",
       "type": "doctest"
      }
     ]
    },
    "q19": {
     "name": "q19",
     "points": null,
     "suites": [
      {
       "cases": [
        {
         "code": ">>> isinstance(money_by_quality, Table)\nTrue",
         "hidden": false,
         "locked": false
        },
        {
         "code": ">>> money_by_quality.num_rows == 3\nTrue",
         "hidden": false,
         "locked": false
        },
        {
         "code": ">>> money_by_quality.labels == ('Quality', 'Worldwide Gross (Millions) mean')\nTrue",
         "hidden": false,
         "locked": false
        },
        {
         "code": ">>> np.isclose(money_by_quality.column(1).item(2), 71.72821428571429)\nTrue",
         "hidden": false,
         "locked": false
        }
       ],
       "scored": true,
       "setup": "",
       "teardown": "",
       "type": "doctest"
      }
     ]
    },
    "q21": {
     "name": "q21",
     "points": null,
     "suites": [
      {
       "cases": [
        {
         "code": ">>> isinstance(segment_counts, Table)\nTrue",
         "hidden": false,
         "locked": false
        },
        {
         "code": ">>> segment_counts.labels == ('Segment_Category', 'count')\nTrue",
         "hidden": false,
         "locked": false
        },
        {
         "code": ">>> segment_counts.num_rows == 48\nTrue",
         "hidden": false,
         "locked": false
        },
        {
         "code": ">>> np.all(segment_counts.column('count') == make_array(22, 14, 13, 10, 10, 10,  9,  \n...                                                     9,  9,  8,  8,  8,  7,  \n...                                                     7,  7,  7,  6, 6,  6,  4, \n...                                                     4,  4,  4,  4,  4,  4,  4,  \n...                                                     4,  4,  3,  3,  3,  3,  3,\n...                                                     2,  2,  2,  2,  2,  1,  1,  \n...                                                     1,  1,  1,  1,  1,  1,  1))\nTrue",
         "hidden": false,
         "locked": false
        }
       ],
       "scored": true,
       "setup": "",
       "teardown": "",
       "type": "doctest"
      }
     ]
    },
    "q22": {
     "name": "q22",
     "points": null,
     "suites": [
      {
       "cases": [
        {
         "code": ">>> isinstance(varied_menu_only, Table)\nTrue",
         "hidden": false,
         "locked": false
        },
        {
         "code": ">>> varied_menu_only.num_rows == 22\nTrue",
         "hidden": false,
         "locked": false
        },
        {
         "code": ">>> np.all(varied_menu_only.column('Restaurant').take(np.arange(5)) == \\\n...        np.array([\"O'Charley's\", \"Cooper's Hawk Winery & Restaurants\",\n...                  'Ninety Nine Restaurants', 'Bar Louie', 'Seasons 52']))\nTrue",
         "hidden": false,
         "locked": false
        }
       ],
       "scored": true,
       "setup": "",
       "teardown": "",
       "type": "doctest"
      }
     ]
    },
    "q23": {
     "name": "q23",
     "points": null,
     "suites": [
      {
       "cases": [
        {
         "code": ">>> isinstance(chains_growth, Table)\nTrue",
         "hidden": false,
         "locked": false
        },
        {
         "code": ">>> chains_growth.labels == ('Rank', 'Restaurant', 'Sales', 'YOY_Sales', 'Segment_Category', 'Growth Category')\nTrue",
         "hidden": false,
         "locked": false
        },
        {
         "code": ">>> chains.labels == ('Rank', 'Restaurant', 'Sales', 'YOY_Sales', 'Segment_Category')\nTrue",
         "hidden": false,
         "locked": false
        },
        {
         "code": ">>> np.all(chains_growth.column('Growth Category').take(np.arange(10)) == \\\n...        np.array(['steady increase', 'steady increase', 'rapid increase', \n...                  'steady increase', 'steady increase', 'stagnant', \n...                  'steady increase', 'steady increase', 'steady increase',\n...                  'steady increase']))\nTrue",
         "hidden": false,
         "locked": false
        }
       ],
       "scored": true,
       "setup": "",
       "teardown": "",
       "type": "doctest"
      }
     ]
    },
    "q24": {
     "name": "q24",
     "points": null,
     "suites": [
      {
       "cases": [
        {
         "code": ">>> isinstance(common_chains_pivoted, Table)\nTrue",
         "hidden": false,
         "locked": false
        },
        {
         "code": ">>> common_chains_pivoted.num_rows == 6\nTrue",
         "hidden": false,
         "locked": false
        },
        {
         "code": ">>> common_chains_pivoted.labels == ('Segment_Category', 'rapid decrease', \n...                                  'steady decrease', 'stagnant', \n...                                  'steady increase', 'rapid increase')\nTrue",
         "hidden": false,
         "locked": false
        },
        {
         "code": ">>> all(common_chains_pivoted.column('stagnant') == make_array(187, 181.5, 162, \n...                                                            165.333333333333333333, \n...                                                            57, 172.5))\nTrue",
         "hidden": false,
         "locked": false
        },
        {
         "code": ">>> np.isclose(common_chains_pivoted.column(\"steady increase\").item(2), 188.75)\nTrue",
         "hidden": false,
         "locked": false
        }
       ],
       "scored": true,
       "setup": "",
       "teardown": "",
       "type": "doctest"
      }
     ]
    }
   }
  }
 },
 "nbformat": 4,
 "nbformat_minor": 5
}
