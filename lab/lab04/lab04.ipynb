{
 "cells": [
  {
   "cell_type": "code",
   "execution_count": null,
   "id": "38cd6779",
   "metadata": {
    "deletable": false,
    "editable": false
   },
   "outputs": [],
   "source": [
    "# Initialize Otter\n",
    "import otter\n",
    "grader = otter.Notebook(\"lab04.ipynb\")"
   ]
  },
  {
   "cell_type": "markdown",
   "id": "2e1acd54",
   "metadata": {},
   "source": [
    "# Lab 4: Tables and Visualizations \n",
    "\n",
    "Welcome to Lab 4! \n",
    "\n",
    "We are moving into additional functions with tables as well as ways to visualize data. \n",
    "\n",
    "The [Python Reference](https://pages.mtu.edu/~lebrown/data1202-s24/reference/index.html) has information that will be useful for this lab.\n",
    "\n",
    "**Recommended Reading**:\n",
    " * [Tables](https://inferentialthinking.com/chapters/06/Tables.html)\n",
    " * [Visualizing Categorical Distributions](https://inferentialthinking.com/chapters/07/1/Visualizing_Categorical_Distributions.html)\n",
    " * [Visualizing Numerical Distributions](https://inferentialthinking.com/chapters/07/2/Visualizing_Numerical_Distributions.html)\n",
    "\n",
    "\n",
    "**Submission**: Once you’re finished, run all cells besides the last one, select File > Save Notebook, and then execute the final cell. Then submit the downloaded zip file, that includes your notebook,  according to your instructor's directions."
   ]
  },
  {
   "cell_type": "code",
   "execution_count": null,
   "id": "745770bd",
   "metadata": {},
   "outputs": [],
   "source": [
    "# Just run this cell\n",
    "import numpy as np\n",
    "import math\n",
    "from datascience import *\n",
    "\n",
    "%matplotlib inline\n",
    "import matplotlib.pyplot as plots\n",
    "plots.style.use('fivethirtyeight')"
   ]
  },
  {
   "cell_type": "markdown",
   "id": "b80d102b",
   "metadata": {},
   "source": [
    "# Cal Football \n",
    "\n",
    "This lab we will be working with a file `\"football.csv\"`, which contains information about the Cal football team. \n"
   ]
  },
  {
   "cell_type": "markdown",
   "id": "84edaeae",
   "metadata": {},
   "source": [
    "### Load table from the file \n",
    "\n",
    "**Question 1.1** \n",
    "Load the data file into a table called `cal`. "
   ]
  },
  {
   "cell_type": "code",
   "execution_count": null,
   "id": "232bc847",
   "metadata": {
    "tags": []
   },
   "outputs": [],
   "source": [
    "cal = ...\n",
    "cal.show(10)"
   ]
  },
  {
   "cell_type": "code",
   "execution_count": null,
   "id": "8d0eb26e",
   "metadata": {
    "deletable": false,
    "editable": false
   },
   "outputs": [],
   "source": [
    "grader.check(\"q11\")"
   ]
  },
  {
   "cell_type": "markdown",
   "id": "afc36f16",
   "metadata": {},
   "source": [
    "### Excluding columns: `drop` \n",
    "\n",
    "We now have information about Cal Football's seasons since statistics were kept. Because this file was pulled from the internet, it may have some data in it that we are not interested in, like the rows with a bunch of `nan` values (`nan` means \"Not a number\", and it is commonly used to indicate there is no value there).\n",
    "\n",
    "**Caution**: It is not a good idea to blindly drop all columns with several NaN values from a table. What information would have been lost if we just dropped all missing values?\n",
    "\n",
    "However, for the sake of this exercise, we'll do so. We can use the `drop` method to remove columns like this from the table. \n",
    "\n",
    "\n",
    "**Question 1.2** \n",
    "Let's drop the `Notes` column. \n",
    "\n",
    "Let's also drop the `AP Pre`, `AP High`, `AP Post`, `SRS` and `SOS` columns from the table. These are statistics specific to college football, and they are not important for what we're doing. `drop` can take in as many columns as you need, and it will drop them all from the table.\n",
    "\n",
    "Call the new table `cal_improved_columns`"
   ]
  },
  {
   "cell_type": "code",
   "execution_count": null,
   "id": "7cccb418",
   "metadata": {
    "tags": []
   },
   "outputs": [],
   "source": [
    "cal_improved_columns = ...\n",
    "cal_improved_columns.show(5)"
   ]
  },
  {
   "cell_type": "code",
   "execution_count": null,
   "id": "ad819ff5",
   "metadata": {
    "deletable": false,
    "editable": false
   },
   "outputs": [],
   "source": [
    "grader.check(\"q12\")"
   ]
  },
  {
   "cell_type": "markdown",
   "id": "4a56143f",
   "metadata": {},
   "source": [
    "### Querying \n",
    "\n",
    "**Question 1.3**\n",
    "Let's try querying our new table using the `column` method to determine which conferences Cal has played in during its history. This information is contained within the `\"Conf\"` column of the `cal_improved_columns` table.\n",
    "\n",
    "Use the `np.unique` method to only list the conferences once. "
   ]
  },
  {
   "cell_type": "code",
   "execution_count": null,
   "id": "a8b0aea9",
   "metadata": {
    "tags": []
   },
   "outputs": [],
   "source": [
    "conference_list = ...\n",
    "conference_list"
   ]
  },
  {
   "cell_type": "code",
   "execution_count": null,
   "id": "323066e1",
   "metadata": {
    "deletable": false,
    "editable": false
   },
   "outputs": [],
   "source": [
    "grader.check(\"q13\")"
   ]
  },
  {
   "cell_type": "markdown",
   "id": "bfbb6f8a",
   "metadata": {},
   "source": [
    "### Picking columns: `select`\n",
    "\n",
    "It appears that there are also several other columns that we are not very interested in. Instead of dropping several columns, we can use the `select` method to grab only the columns we want. \n",
    "\n",
    "**Question 1.4:** In this case, we only want to keep the `\"Year\"`, `\"W\"`, `\"L\"`, `\"T\"`, and `\"Pct\"`,  columns. Fill in the following code so that the `football` table has only the relevant columns."
   ]
  },
  {
   "cell_type": "code",
   "execution_count": null,
   "id": "21281031",
   "metadata": {
    "tags": []
   },
   "outputs": [],
   "source": [
    "football = ...\n",
    "football.show(5)"
   ]
  },
  {
   "cell_type": "code",
   "execution_count": null,
   "id": "2ca8c6f7",
   "metadata": {
    "deletable": false,
    "editable": false
   },
   "outputs": [],
   "source": [
    "grader.check(\"q14\")"
   ]
  },
  {
   "cell_type": "markdown",
   "id": "1c549af3",
   "metadata": {},
   "source": [
    "### Changing column labels: `relabeled`\n",
    "\n",
    "We can rename column labels using the `relabeled` method. With this function, you are able to:\n",
    "1. Relabel a *single column*\n",
    "2. Relabel *several columns* at once\n",
    "\n",
    "To change the names of multiple columns, we pass in an array of the old names and an array of the new names as the 2 inputs to `relabeled`.\n",
    "\n",
    "*Note*: You may see another method called `relabel` in the `datascience` documenation. Please avoid using this,as it can change your data when you may not want to.*"
   ]
  },
  {
   "cell_type": "markdown",
   "id": "a35473c9",
   "metadata": {},
   "source": [
    "**Question 1.5:** Some of the columns in the `football` table have labels that may not be best for what they store. Let's change the column labels to the following:\n",
    "\n",
    "- `\"W\"` should be changed to `\"Wins\"`\n",
    "- `\"L\"` should be changed to `\"Losses\"`\n",
    "- `\"T\"` should be changed to `\"Ties\"`\n",
    "- `\"Pct\"` should be changed to `\"Winning Percentage\"`\n",
    "\n",
    "*Hint*: We've provided skeleton code for you to use."
   ]
  },
  {
   "cell_type": "code",
   "execution_count": null,
   "id": "40df730c",
   "metadata": {
    "tags": []
   },
   "outputs": [],
   "source": [
    "old_names = ...\n",
    "new_names = ...\n",
    "\n",
    "football_relabeled = football.relabeled(..., ...)\n",
    "\n",
    "football_relabeled.show(5)"
   ]
  },
  {
   "cell_type": "code",
   "execution_count": null,
   "id": "12ddac7d",
   "metadata": {
    "deletable": false,
    "editable": false
   },
   "outputs": [],
   "source": [
    "grader.check(\"q15\")"
   ]
  },
  {
   "cell_type": "markdown",
   "id": "5a4d1daa",
   "metadata": {},
   "source": [
    "# More Table Operations\n",
    "\n",
    "Now that we have the table we want, let's try to write some code that tells us some information about Cal Football's wins. Let's write three queries that can help us answer these three questions. \n",
    "\n",
    "1. What is the most wins Cal has ever had in one season?\n",
    "2. How many total games has Cal lost?\n",
    "3. What is the average number of games Cal each every year?\n"
   ]
  },
  {
   "cell_type": "markdown",
   "id": "bd352097",
   "metadata": {},
   "source": [
    "**Question 2.1**: What is the most wins Cal has ever had in one season?"
   ]
  },
  {
   "cell_type": "code",
   "execution_count": null,
   "id": "e86586da",
   "metadata": {
    "tags": []
   },
   "outputs": [],
   "source": [
    "most_wins_ever = ...\n",
    "most_wins_ever"
   ]
  },
  {
   "cell_type": "code",
   "execution_count": null,
   "id": "d5271874",
   "metadata": {
    "deletable": false,
    "editable": false
   },
   "outputs": [],
   "source": [
    "grader.check(\"q21\")"
   ]
  },
  {
   "cell_type": "markdown",
   "id": "98538516",
   "metadata": {},
   "source": [
    "**Question 2.2 (Losses)** For the following question, use a `NumPy` function, the `football_relabeled` table, and some table method to answer the following question:\n",
    "\n",
    ">How many total games has Cal lost?\n",
    "\n",
    "Assign the value to the variable `games_lost_alltime`."
   ]
  },
  {
   "cell_type": "code",
   "execution_count": null,
   "id": "1385c74c",
   "metadata": {
    "tags": []
   },
   "outputs": [],
   "source": [
    "games_lost_alltime = ...\n",
    "games_lost_alltime"
   ]
  },
  {
   "cell_type": "code",
   "execution_count": null,
   "id": "b59bb2be",
   "metadata": {
    "deletable": false,
    "editable": false
   },
   "outputs": [],
   "source": [
    "grader.check(\"q22\")"
   ]
  },
  {
   "cell_type": "markdown",
   "id": "dca325c8",
   "metadata": {},
   "source": [
    "**Question 2.3 (Wins)**: Similar to above, let's answer the third question using a combination of a function, table, and table method:\n",
    "\n",
    ">What is the average numnber of games Cal wins each year?\n",
    "\n",
    "Assign your answer to the variable `average_wins`."
   ]
  },
  {
   "cell_type": "code",
   "execution_count": null,
   "id": "84d491ab",
   "metadata": {
    "tags": []
   },
   "outputs": [],
   "source": [
    "average_wins = ...\n",
    "average_wins"
   ]
  },
  {
   "cell_type": "code",
   "execution_count": null,
   "id": "fa6746bd",
   "metadata": {
    "deletable": false,
    "editable": false
   },
   "outputs": [],
   "source": [
    "grader.check(\"q23\")"
   ]
  },
  {
   "cell_type": "markdown",
   "id": "7b6ff317",
   "metadata": {},
   "source": [
    "### Interpreting Our Data\n",
    "\n",
    "What does winning 5.52 games even mean?! Well, this means you can (roughly) expect Cal to win 5-6 games a year. \n",
    "\n",
    "While this is not a perfect statistic (some seasons are longer than others, football is a completely different game than it was a long time ago, etc.), in a 12-13 game season, do you think this a good amount of wins? The answer to this question is not concrete, and even with data to back up either side, neither answer seems more right than the other.\n",
    "\n",
    "**Important**: Data science is not only being able to *compute* the answers to questions, but also forming thoughtful questions in response to your findings.  As well as understanding the limitations of your analysis. "
   ]
  },
  {
   "cell_type": "markdown",
   "id": "e1c95549",
   "metadata": {},
   "source": [
    "### Sorting a column: `sort`\n",
    "\n",
    "Let's say we want to ask the question: **What is Cal's best season ever?**. There are many ways to answer the question, but you may argue that a season with the most wins or the fewest losses could be considered the best:"
   ]
  },
  {
   "cell_type": "code",
   "execution_count": null,
   "id": "6134bacd",
   "metadata": {},
   "outputs": [],
   "source": [
    "# We can sort in descending order\n",
    "football_relabeled.sort(\"Wins\", descending=True).show(5)"
   ]
  },
  {
   "cell_type": "code",
   "execution_count": null,
   "id": "090e4297",
   "metadata": {},
   "outputs": [],
   "source": [
    "# Or we can sort in ascending order\n",
    "football_relabeled.sort(\"Losses\", descending=False).show(5)"
   ]
  },
  {
   "cell_type": "markdown",
   "id": "4a4f4e0c",
   "metadata": {},
   "source": [
    "As you can see, queries about the most wins and the fewest losses can both answer the question **What is Cal's best season ever?** in different ways. Note that the same seasons do not necessarily show up in the top of each queried table."
   ]
  },
  {
   "cell_type": "markdown",
   "id": "9576199b",
   "metadata": {},
   "source": [
    "**Question 2.4**: Yet another way to answer this question about Cal's best seasons ever is to sort by winning percentage. Assign the variable `best_win_pct_year` to the year corresponding to the season with the **highest winning percentage**.\n",
    "\n",
    "To do so, we want to assign `seasons_sorted` to the result of a table query sorting the `football_relabeled` table by winning percentage in **descending** order. \n",
    "\n",
    "*Note*: We want descending order because we want the best seasons **at the top of the table**."
   ]
  },
  {
   "cell_type": "code",
   "execution_count": null,
   "id": "9fcc669b",
   "metadata": {
    "tags": []
   },
   "outputs": [],
   "source": [
    "seasons_sorted = ...\n",
    "best_win_pct_year = ...\n",
    "best_win_pct_year"
   ]
  },
  {
   "cell_type": "code",
   "execution_count": null,
   "id": "a9bce080",
   "metadata": {
    "deletable": false,
    "editable": false
   },
   "outputs": [],
   "source": [
    "grader.check(\"q24\")"
   ]
  },
  {
   "cell_type": "markdown",
   "id": "c43c78b7",
   "metadata": {},
   "source": [
    "### Row selection: `where` and the `are` Predicates\n",
    "\n",
    "The last table method we will talk about is the `where` method. The `where` method keeps all rows that satisfiy a particular boolean condition. It takes in a column label and an `are` statement, which can be crafted using the `are` library. These are the most important `are` library methods, but there are many more if you would like to investigate: [Explore the 'are' library here.](http://data8.org/datascience/predicates.html)\n",
    "\n",
    "| Method | Input Type | Method Description |\n",
    "| --- | --- | --- |\n",
    "| `are.equal_to(n)` | number | Is the value from the column equal to `n`? |\n",
    "| `are.above(n)` | number | Is the value from the column above `n`? |\n",
    "| `are.above_or_equal_to(n)` | number | Is the value from the column above or equal to `n`? |\n",
    "| `are.below(n)` | number | Is the value from the column below `n`? |\n",
    "| `are.below_or_equal_to(n)` | number | Is the value from the column below or equal `n`? |\n",
    "| `are.containing(s)` | string | Is `s` contained in the string value from the given column? |\n",
    "| `are.containined_in(s)` | string | Is the string value from the given column contained in `s`? |\n",
    "\n",
    "Adding a `not_` in front of all of these methods makes each method do the opposite of what it does (ex: `are.not_equal_to(n)`).\n",
    "\n",
    "*Note*: As we've seen in lecture, we can achieve an **exact match** by not explicitly using an `are` predicate. That is, `where(\"col\", are.equal_to(\"something\")` is identical to `where(\"col\", \"something\")`; the latter is shorthand for the former.\n",
    "\n",
    "For example, if we only wanted to see the Cal Football seasons where Cal had a tie, we could use the `where()` method combined with an `are` method:"
   ]
  },
  {
   "cell_type": "code",
   "execution_count": null,
   "id": "447f7499",
   "metadata": {},
   "outputs": [],
   "source": [
    "football_relabeled.where(\"Ties\", are.above(0)).show(5)"
   ]
  },
  {
   "cell_type": "markdown",
   "id": "f14d6e2f",
   "metadata": {},
   "source": [
    "For the 2021 season, Cal will play 12 games. If we wanted to see Cal's worst seasons where they lost more than 6 games, we can use a similar query:"
   ]
  },
  {
   "cell_type": "code",
   "execution_count": null,
   "id": "702d7d3f",
   "metadata": {},
   "outputs": [],
   "source": [
    "football_relabeled.where(\"Losses\", are.above(6)).show(5)"
   ]
  },
  {
   "cell_type": "markdown",
   "id": "803ba16d",
   "metadata": {},
   "source": [
    "**Question 2.5 (Bowl Eligibility)**: In college football, a team advances to the post-season (to play \"bowl games\") if they have a winning/non-losing record. In other words, you must having a winning percentage of at least 0.500 to become eligible to play in a bowl game.\n",
    "\n",
    "Assign the variable `bowl_eligible` to a float that describes the proportion of times in which Cal was eligible to play in college bowls throughout its history, based on their winning percentage.   \n",
    "\n",
    "*Hint:* If you're stuck, feel free to add additional variables *before* you assign the float to `bowl_eligible`. It's often easier to break down these problems into multiple steps to make sure you're properly calculating each step and performing them in the right order. \n",
    "\n"
   ]
  },
  {
   "cell_type": "code",
   "execution_count": null,
   "id": "7f2d6ccc",
   "metadata": {
    "tags": []
   },
   "outputs": [],
   "source": [
    "bowl_eligible = ...\n",
    "bowl_eligible"
   ]
  },
  {
   "cell_type": "code",
   "execution_count": null,
   "id": "826bd1b9",
   "metadata": {
    "deletable": false,
    "editable": false
   },
   "outputs": [],
   "source": [
    "grader.check(\"q25\")"
   ]
  },
  {
   "cell_type": "markdown",
   "id": "7bdae0b0",
   "metadata": {},
   "source": [
    "# Visualization \n",
    "\n",
    "Let's look at some of the patterns in the Cal football data. \n",
    "\n",
    "In Question 1.3, we observed that Cal has played seasons in different conferences. \n",
    "\n",
    "Suppose we want to look at the number of seasons Cal has played in the different conferences. \n",
    "\n",
    "We can get this data with the `group` function.  You will learn more about this function next week. \n",
    "\n"
   ]
  },
  {
   "cell_type": "code",
   "execution_count": null,
   "id": "07b42b5b",
   "metadata": {},
   "outputs": [],
   "source": [
    "seasons_in_conf = cal_improved_columns.select(\"Conf\").group(\"Conf\")\n",
    "seasons_in_conf"
   ]
  },
  {
   "cell_type": "markdown",
   "id": "bbb95b22",
   "metadata": {},
   "source": [
    "**Question 3.1** \n",
    "What would be the best type of chart to display the number of seasons played in each conference?\n",
    "\n",
    "1. Line Plot\n",
    "2. Scatter Plot\n",
    "3. Bar Chart\n",
    "4. Histogram\n",
    "\n",
    "Put your answer (1, 2, 3, 4) in `q31_chart_type`"
   ]
  },
  {
   "cell_type": "code",
   "execution_count": null,
   "id": "584c536b",
   "metadata": {
    "tags": []
   },
   "outputs": [],
   "source": [
    "q31_chart_type = ..."
   ]
  },
  {
   "cell_type": "code",
   "execution_count": null,
   "id": "8e4beb50",
   "metadata": {
    "deletable": false,
    "editable": false
   },
   "outputs": [],
   "source": [
    "grader.check(\"q31\")"
   ]
  },
  {
   "cell_type": "markdown",
   "id": "d788d5d0",
   "metadata": {},
   "source": [
    "<!-- BEGIN QUESTION -->\n",
    "\n",
    "**Question 3.2**  Make the cart displaying the number of seasons played in each conference. \n",
    "\n",
    "*Note, it is good practice to have the information sorted in the presentation*"
   ]
  },
  {
   "cell_type": "code",
   "execution_count": null,
   "id": "9aa0cfab",
   "metadata": {
    "tags": []
   },
   "outputs": [],
   "source": [
    "..."
   ]
  },
  {
   "cell_type": "markdown",
   "id": "61c754da",
   "metadata": {},
   "source": [
    "<!-- END QUESTION -->\n",
    "\n",
    "<!-- BEGIN QUESTION -->\n",
    "\n",
    "**Question 3.3** \n",
    "We want to look at the number of wins for the years when Cal played in the \"Pac-10\" conference. \n",
    "\n",
    "Use the `cal_improved_columns` Table. "
   ]
  },
  {
   "cell_type": "code",
   "execution_count": null,
   "id": "5d2c3fc3",
   "metadata": {
    "tags": []
   },
   "outputs": [],
   "source": [
    "..."
   ]
  },
  {
   "cell_type": "markdown",
   "id": "ee226748",
   "metadata": {},
   "source": [
    "<!-- END QUESTION -->\n",
    "\n",
    "<!-- BEGIN QUESTION -->\n",
    "\n",
    "Let's now look at the relationship between the number of games won vs. the number of games lost. \n",
    "\n",
    "**Question 3.4** \n",
    "Plot the relationship between the number of game won (x-axis) against the number of games lost (y-axis). Only plot data points when Cal played for any of the \"Pac\" conferences, that is \"Pac-8\", \"Pac-10\" or \"Pac-12\" \n",
    "\n",
    "Look at the options for the [`where`](https://www.data8.org/datascience/reference-nb/datascience-reference.html#Table.where-Predicates)"
   ]
  },
  {
   "cell_type": "code",
   "execution_count": null,
   "id": "3fab4c87",
   "metadata": {
    "tags": []
   },
   "outputs": [],
   "source": [
    "..."
   ]
  },
  {
   "cell_type": "markdown",
   "id": "167c1ccb",
   "metadata": {},
   "source": [
    "<!-- END QUESTION -->\n",
    "\n",
    "This plot as expected shows a relationship between wins and losses, because there are only a fixed number of games in a season (11-14). \n",
    "\n",
    "However, the plot does have one outlier. "
   ]
  },
  {
   "cell_type": "markdown",
   "id": "9457396e",
   "metadata": {},
   "source": [
    "<!-- BEGIN QUESTION -->\n",
    "\n",
    "**Question 3.5** Briefly explain that outlier point in the plot above. \n"
   ]
  },
  {
   "cell_type": "markdown",
   "id": "405308e7",
   "metadata": {},
   "source": [
    "_Type your answer here, replacing this text._"
   ]
  },
  {
   "cell_type": "markdown",
   "id": "a3397123",
   "metadata": {},
   "source": [
    "<!-- END QUESTION -->\n",
    "\n",
    "<!-- BEGIN QUESTION -->\n",
    "\n",
    "Let's now look at the *distribution* of winning percentage. \n",
    "\n",
    "**Question 3.6** Make a histogram of the `Win Percentage` in the `football_relabeld` table. Use bins that make sense, e.g., 0, 1, 2, 3 wins, etc. "
   ]
  },
  {
   "cell_type": "code",
   "execution_count": null,
   "id": "8e28d134",
   "metadata": {
    "tags": []
   },
   "outputs": [],
   "source": [
    "..."
   ]
  },
  {
   "cell_type": "markdown",
   "id": "50edaec9",
   "metadata": {},
   "source": [
    "<!-- END QUESTION -->\n",
    "\n",
    "# Submission \n",
    "\n",
    "**Important submission steps:** \n",
    "1. Run the tests and verify that they all pass.\n",
    "2. Choose **Save Notebook** from the **File** menu, then **run the final cell**. \n",
    "3. Click the link to download the zip file.\n",
    "4. Then submit the zip file to the corresponding assignment according to your instructor's directions. \n",
    "\n",
    "**It is your responsibility to make sure your work is saved before running the last cell.**"
   ]
  },
  {
   "cell_type": "markdown",
   "id": "64e55520",
   "metadata": {
    "deletable": false,
    "editable": false
   },
   "source": [
    "## Submission\n",
    "\n",
    "Make sure you have run all cells in your notebook in order before running the cell below, so that all images/graphs appear in the output. The cell below will generate a zip file for you to submit. **Please save before exporting!**"
   ]
  },
  {
   "cell_type": "code",
   "execution_count": null,
   "id": "94506d72",
   "metadata": {
    "deletable": false,
    "editable": false
   },
   "outputs": [],
   "source": [
    "# Save your notebook first, then run this cell to export your submission.\n",
    "grader.export(pdf=False, run_tests=True)"
   ]
  },
  {
   "cell_type": "markdown",
   "id": "53c204dc",
   "metadata": {},
   "source": [
    " "
   ]
  }
 ],
 "metadata": {
  "kernelspec": {
   "display_name": "Python [conda env:data1202] *",
   "language": "python",
   "name": "conda-env-data1202-py"
  },
  "language_info": {
   "codemirror_mode": {
    "name": "ipython",
    "version": 3
   },
   "file_extension": ".py",
   "mimetype": "text/x-python",
   "name": "python",
   "nbconvert_exporter": "python",
   "pygments_lexer": "ipython3",
   "version": "3.10.12"
  },
  "otter": {
   "OK_FORMAT": true,
   "tests": {
    "q11": {
     "name": "q11",
     "points": null,
     "suites": [
      {
       "cases": [
        {
         "code": ">>> type(cal) == tables.Table \nTrue",
         "hidden": false,
         "locked": false
        },
        {
         "code": ">>> cal.num_rows == 105\nTrue",
         "hidden": false,
         "locked": false
        },
        {
         "code": ">>> cal.num_columns == 15\nTrue",
         "hidden": false,
         "locked": false
        },
        {
         "code": ">>> all(cal.sort(6).take(range(4,8)).column(0) == make_array(60, 35, 37, 40))\nTrue",
         "hidden": false,
         "locked": false
        }
       ],
       "scored": true,
       "setup": "",
       "teardown": "",
       "type": "doctest"
      }
     ]
    },
    "q12": {
     "name": "q12",
     "points": null,
     "suites": [
      {
       "cases": [
        {
         "code": ">>> cal_improved_columns.num_columns == 9\nTrue",
         "hidden": false,
         "locked": false
        },
        {
         "code": ">>> cal_improved_columns.labels == ('Rk', 'Year', 'Conf', 'W', 'L', 'T', 'Pct', 'Coach(es)', 'Bowl')\nTrue",
         "hidden": false,
         "locked": false
        }
       ],
       "scored": true,
       "setup": "",
       "teardown": "",
       "type": "doctest"
      }
     ]
    },
    "q13": {
     "name": "q13",
     "points": null,
     "suites": [
      {
       "cases": [
        {
         "code": ">>> len(conference_list) == 5\nTrue",
         "hidden": false,
         "locked": false
        },
        {
         "code": ">>> 'AAWU' in conference_list and 'PCC' in conference_list\nTrue",
         "hidden": false,
         "locked": false
        },
        {
         "code": ">>> 'Pac-10' in conference_list and 'Pac-8' in conference_list\nTrue",
         "hidden": false,
         "locked": false
        },
        {
         "code": ">>> 'Pac-12' in conference_list\nTrue",
         "hidden": false,
         "locked": false
        }
       ],
       "scored": true,
       "setup": "",
       "teardown": "",
       "type": "doctest"
      }
     ]
    },
    "q14": {
     "name": "q14",
     "points": null,
     "suites": [
      {
       "cases": [
        {
         "code": ">>> type(football) == tables.Table\nTrue",
         "hidden": false,
         "locked": false
        },
        {
         "code": ">>> set(football.labels) == set(('Year', 'W', 'L', 'T', 'Pct'))\nTrue",
         "hidden": false,
         "locked": false
        },
        {
         "code": ">>> football.num_rows == 105\nTrue",
         "hidden": false,
         "locked": false
        }
       ],
       "scored": true,
       "setup": "",
       "teardown": "",
       "type": "doctest"
      }
     ]
    },
    "q15": {
     "name": "q15",
     "points": null,
     "suites": [
      {
       "cases": [
        {
         "code": ">>> isinstance(football_relabeled, Table)\nTrue",
         "hidden": false,
         "locked": false
        },
        {
         "code": ">>> set(football_relabeled.labels) == set(('Year', 'Wins', 'Losses', 'Ties', 'Win Percentage'))\nTrue",
         "hidden": false,
         "locked": false
        },
        {
         "code": ">>> football_relabeled.num_rows == 105\nTrue",
         "hidden": false,
         "locked": false
        }
       ],
       "scored": true,
       "setup": "",
       "teardown": "",
       "type": "doctest"
      }
     ]
    },
    "q21": {
     "name": "q21",
     "points": null,
     "suites": [
      {
       "cases": [
        {
         "code": ">>> type(most_wins_ever) in set([int, np.int32, np.int64])\nTrue",
         "hidden": false,
         "locked": false
        },
        {
         "code": ">>> most_wins_ever == 10\nTrue",
         "hidden": false,
         "locked": false
        }
       ],
       "scored": true,
       "setup": "",
       "teardown": "",
       "type": "doctest"
      }
     ]
    },
    "q22": {
     "name": "q22",
     "points": null,
     "suites": [
      {
       "cases": [
        {
         "code": ">>> type(games_lost_alltime) in set([int, np.int32, np.int64])\nTrue",
         "hidden": false,
         "locked": false
        },
        {
         "code": ">>> games_lost_alltime == 521\nTrue",
         "hidden": false,
         "locked": false
        }
       ],
       "scored": true,
       "setup": "",
       "teardown": "",
       "type": "doctest"
      }
     ]
    },
    "q23": {
     "name": "q23",
     "points": null,
     "suites": [
      {
       "cases": [
        {
         "code": ">>> type(average_wins) in set([float, np.float32, np.float64])\nTrue",
         "hidden": false,
         "locked": false
        },
        {
         "code": ">>> np.isclose(average_wins, 5.523809523809524)\nTrue",
         "hidden": false,
         "locked": false
        }
       ],
       "scored": true,
       "setup": "",
       "teardown": "",
       "type": "doctest"
      }
     ]
    },
    "q24": {
     "name": "q24",
     "points": null,
     "suites": [
      {
       "cases": [
        {
         "code": ">>> isinstance(seasons_sorted, Table)\nTrue",
         "hidden": false,
         "locked": false
        },
        {
         "code": ">>> seasons_sorted.row(0).item('Year') == 1922\nTrue",
         "hidden": false,
         "locked": false
        },
        {
         "code": ">>> type(best_win_pct_year) in set([int, np.int32, np.int64])\nTrue",
         "hidden": false,
         "locked": false
        },
        {
         "code": ">>> best_win_pct_year == 1922\nTrue",
         "hidden": false,
         "locked": false
        }
       ],
       "scored": true,
       "setup": "",
       "teardown": "",
       "type": "doctest"
      }
     ]
    },
    "q25": {
     "name": "q25",
     "points": null,
     "suites": [
      {
       "cases": [
        {
         "code": ">>> type(bowl_eligible) in set([float, np.float32, np.float64])\nTrue",
         "hidden": false,
         "locked": false
        },
        {
         "code": ">>> np.isclose(bowl_eligible, 0.580952380952381)\nTrue",
         "hidden": false,
         "locked": false
        }
       ],
       "scored": true,
       "setup": "",
       "teardown": "",
       "type": "doctest"
      }
     ]
    },
    "q31": {
     "name": "q31",
     "points": null,
     "suites": [
      {
       "cases": [
        {
         "code": ">>> q31_chart_type in [1, 2, 3, 4]\nTrue",
         "hidden": false,
         "locked": false
        }
       ],
       "scored": true,
       "setup": "",
       "teardown": "",
       "type": "doctest"
      }
     ]
    }
   }
  }
 },
 "nbformat": 4,
 "nbformat_minor": 5
}
