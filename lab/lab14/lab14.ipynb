{
 "cells": [
  {
   "cell_type": "code",
   "execution_count": null,
   "id": "1632322c",
   "metadata": {
    "deletable": false,
    "editable": false
   },
   "outputs": [],
   "source": [
    "# Initialize Otter\n",
    "import otter\n",
    "grader = otter.Notebook(\"lab14.ipynb\")"
   ]
  },
  {
   "cell_type": "markdown",
   "id": "02830366",
   "metadata": {},
   "source": [
    "# Lab 14: Classification"
   ]
  },
  {
   "cell_type": "markdown",
   "id": "ba98e3a9",
   "metadata": {},
   "source": [
    "Welcome to the last lab of the semester! \n",
    "\n",
    "This week's lab will focus on classification. \n",
    "\n",
    "\n",
    "**Helpful Resource:**\n",
    "\n",
    "- [Python Reference](https://pages.mtu.edu/~lebrown/data1202-s24/reference/index.html): Cheat sheet of helpful array & table methods used in DATA 1202!\n",
    "\n",
    "**Recommended Reading**: \n",
    "\n",
    "* [Classification](https://www.inferentialthinking.com/chapters/17/Classification.html)"
   ]
  },
  {
   "cell_type": "markdown",
   "id": "653c81cd",
   "metadata": {},
   "source": [
    "**Submission**: Once you’re finished, run all cells besides the last one, select File > Save Notebook, and then execute the final cell. Then submit the downloaded zip file, that includes your notebook,  according to your instructor's directions.\n",
    "\n",
    "First, set up the notebook by running the cell below."
   ]
  },
  {
   "cell_type": "code",
   "execution_count": null,
   "id": "5abb496b",
   "metadata": {},
   "outputs": [],
   "source": [
    "# Don't change this cell; just run it. \n",
    "\n",
    "import numpy as np\n",
    "from datascience import *\n",
    "import d8error\n",
    "\n",
    "# These lines do some fancy plotting magic\n",
    "import matplotlib\n",
    "%matplotlib inline\n",
    "import matplotlib.pyplot as plt\n",
    "plt.style.use('fivethirtyeight')\n",
    "import warnings\n",
    "warnings.simplefilter('ignore')\n",
    "from datetime import datetime"
   ]
  },
  {
   "cell_type": "markdown",
   "id": "5105a428",
   "metadata": {},
   "source": [
    "## 1. Bay Area School Coordinates with Classification"
   ]
  },
  {
   "cell_type": "markdown",
   "id": "4da1f3a4",
   "metadata": {},
   "source": [
    "This lab is about k-Nearest Neighbors classification (k-NN). "
   ]
  },
  {
   "cell_type": "markdown",
   "id": "aa476cbe",
   "metadata": {},
   "source": [
    "### Our Dearest Neighbors"
   ]
  },
  {
   "cell_type": "markdown",
   "id": "edbc769f",
   "metadata": {},
   "source": [
    "Carol is trying classify students as either attendees of UC Berkeley or as attendees of Stanford University. To classify the students, Carol has access to the coordinates of the location they live during the school year. First, load in the `coordinates` table."
   ]
  },
  {
   "cell_type": "code",
   "execution_count": null,
   "id": "404884d1",
   "metadata": {
    "deletable": false,
    "editable": false
   },
   "outputs": [],
   "source": [
    "# Just run this cell!\n",
    "coordinates = Table.read_table('coordinates.csv')\n",
    "coordinates.show(5)"
   ]
  },
  {
   "cell_type": "markdown",
   "id": "14a24635",
   "metadata": {},
   "source": [
    "As usual, let's investigate our data visually before performing any kind of numerical analysis."
   ]
  },
  {
   "cell_type": "code",
   "execution_count": null,
   "id": "1bed2a3e",
   "metadata": {
    "deletable": false,
    "editable": false
   },
   "outputs": [],
   "source": [
    "# Just run this cell!\n",
    "coordinates.scatter(\"longitude\", \"latitude\", group=\"school\")"
   ]
  },
  {
   "cell_type": "markdown",
   "id": "abc7b7f3",
   "metadata": {},
   "source": [
    "The locations of the points on this scatter plot look rather tightly grouped - run the following cell to see what they correspond to in terms of map locations."
   ]
  },
  {
   "cell_type": "code",
   "execution_count": null,
   "id": "fa5e5416",
   "metadata": {
    "deletable": false,
    "editable": false,
    "scrolled": true
   },
   "outputs": [],
   "source": [
    "# Just run this cell!\n",
    "colors = {\"Berkeley\":\"blue\", \"Stanford\":\"red\"}\n",
    "t = Table().with_columns(\"lat\", coordinates.column(0), \n",
    "                                      \"lon\", coordinates.column(1), \n",
    "                                      \"color\", coordinates.apply(colors.get, 2)\n",
    "                        )\n",
    "Circle.map_table(t, radius=5, fill_opacity=1)"
   ]
  },
  {
   "cell_type": "markdown",
   "id": "7637556d",
   "metadata": {},
   "source": [
    "**Question 1.1.** Let's begin implementing the k-Nearest Neighbors algorithm. Define the `distance` function, which takes in two arguments: an array of numerical features (`arr1`), and a different array of numerical features (`arr2`). The function should return the [Euclidean distance](https://en.wikipedia.org/wiki/Euclidean_distance) between the two arrays. Euclidean distance is often referred to as the straight-line distance formula that you may have learned previously. **(10 points)**\n",
    "\n"
   ]
  },
  {
   "cell_type": "code",
   "execution_count": null,
   "id": "0852a071",
   "metadata": {
    "deletable": false,
    "tags": []
   },
   "outputs": [],
   "source": [
    "def distance(arr1, arr2):\n",
    "    ...\n",
    "\n",
    "# Don't change/delete the code below in this cell\n",
    "distance_example = distance(make_array(1, 2, 3), make_array(4, 5, 6))\n",
    "distance_example"
   ]
  },
  {
   "cell_type": "code",
   "execution_count": null,
   "id": "a61b0540",
   "metadata": {
    "deletable": false,
    "editable": false
   },
   "outputs": [],
   "source": [
    "grader.check(\"q1_1\")"
   ]
  },
  {
   "cell_type": "markdown",
   "id": "cbef1de8",
   "metadata": {},
   "source": [
    "### Splitting the Dataset\n",
    "We'll do two different kinds of things with the `coordinates` dataset:\n",
    "\n",
    "1. We'll build a classifier using coordinates for which we know the associated label; this will teach it to recognize labels of similar coordinate values. This process is known as *training*.\n",
    "2. We'll evaluate or *test* the accuracy of the classifier we build on data we haven't seen before.\n",
    "\n",
    "As discussed in [Section 17.2](https://inferentialthinking.com/chapters/17/2/Training_and_Testing.html#training-and-testing), we want to use separate datasets for training and testing. As such, we split up our one dataset into two."
   ]
  },
  {
   "cell_type": "markdown",
   "id": "512d44d2",
   "metadata": {},
   "source": [
    "**Question 1.2.** Next, let's split our dataset into a training set and a test set. Since `coordinates` has 100 rows, let's create a training set with the first 75 rows and a test set with the remaining 25 rows. Remember that assignment to each group should be random, so we should shuffle the table first. **(10 points)**\n",
    "\n",
    "*Hint:* As a first step we can shuffle all the rows, then use the `tbl.take` function to split up the rows for each table.\n"
   ]
  },
  {
   "cell_type": "code",
   "execution_count": null,
   "id": "ce1eb3f4",
   "metadata": {
    "for_assignment_type": "solution",
    "tags": []
   },
   "outputs": [],
   "source": [
    "np.random.seed(42) # set a random seed to make the shuffling repeatable\n",
    "shuffled_table = ...\n",
    "train = ...\n",
    "test = ...\n",
    "\n",
    "print(\"Training set:\\t\",   train.num_rows, \"examples\")\n",
    "print(\"Test set:\\t\",       test.num_rows, \"examples\")\n",
    "train.show(5), test.show(5);"
   ]
  },
  {
   "cell_type": "code",
   "execution_count": null,
   "id": "0c0dab4c",
   "metadata": {
    "deletable": false,
    "editable": false
   },
   "outputs": [],
   "source": [
    "grader.check(\"q1_2\")"
   ]
  },
  {
   "cell_type": "markdown",
   "id": "f283da36",
   "metadata": {},
   "source": [
    "**Question 1.3.** Assign `features` to an array of column name(s) (strings) of the features from the `coordinates` table.  Assign `classname` to an array of column name(s) (strings) from the `coordinates` table to be predicted. **(10 points)**\n",
    "\n",
    "*Hint:* Which of the column names in the `coordinates` table are the features, and which of the column names correspond to the class we're trying to predict?\n",
    "\n",
    "*Hint*: No need to modify any tables, just manually create an array of the feature names and class names!\n"
   ]
  },
  {
   "cell_type": "code",
   "execution_count": null,
   "id": "b82efde0",
   "metadata": {
    "deletable": false,
    "tags": []
   },
   "outputs": [],
   "source": [
    "features = ...\n",
    "print(features)\n",
    "\n",
    "classname = ...\n",
    "print(classname)"
   ]
  },
  {
   "cell_type": "code",
   "execution_count": null,
   "id": "b272d57c",
   "metadata": {
    "deletable": false,
    "editable": false
   },
   "outputs": [],
   "source": [
    "grader.check(\"q1_3\")"
   ]
  },
  {
   "cell_type": "markdown",
   "id": "5f2fcd38",
   "metadata": {},
   "source": [
    "**Question 1.4.** Now define the `classify` function. This function should take in a `test_row` from a table like `test` and classify in using the k-Nearest Neighbors based on the correct `features` and the data in `train`. A refresher on k-Nearest Neighbors can be found [here](https://www.inferentialthinking.com/chapters/17/4/Implementing_the_Classifier.html). **(20+10 points)**\n",
    "\n",
    "\n",
    "*Hint 1:* The `distance` function we defined earlier takes in arrays as input, so use the `row_to_array` function we defined for you to convert rows to arrays of features.\n",
    "\n",
    "*Hint 2:* The skeleton code we provided iterates through each row in the training set.\n"
   ]
  },
  {
   "cell_type": "code",
   "execution_count": null,
   "id": "6bdfc612",
   "metadata": {
    "deletable": false,
    "manual_grade": true,
    "manual_problem_id": "sign_lang_2",
    "tags": []
   },
   "outputs": [],
   "source": [
    "def row_to_array(row, features):\n",
    "    \"\"\"Converts a row to an array of its features.\"\"\"\n",
    "    arr = make_array()\n",
    "    for feature in features:\n",
    "        arr = np.append(arr, row.item(feature))\n",
    "    return arr\n",
    "\n",
    "def classify(test_row, k, train):\n",
    "    test_row_features_array = row_to_array(test_row, features)\n",
    "    distances = make_array()\n",
    "    for train_row in train.rows:\n",
    "        train_row_features_array = ...\n",
    "        row_distance = ...\n",
    "        distances = ...\n",
    "    train_with_distances = ...\n",
    "    nearest_neighbors = ...\n",
    "    most_common_label = ...\n",
    "    ...\n",
    "\n",
    "# Don't modify/delete the code below\n",
    "first_test = classify(test.row(0), 5, train)\n",
    "first_test"
   ]
  },
  {
   "cell_type": "code",
   "execution_count": null,
   "id": "536d10d0",
   "metadata": {
    "deletable": false,
    "editable": false
   },
   "outputs": [],
   "source": [
    "grader.check(\"q1_4\")"
   ]
  },
  {
   "cell_type": "markdown",
   "id": "8adfaf1b",
   "metadata": {},
   "source": [
    "\n",
    "\n",
    "**Question 1.5.** Define the function `three_classify` that takes a `row` from `test` as an argument and classifies the row based on using 3-Nearest Neighbors. Use this function to find the `accuracy` of a 3-NN classifier on the `test` set. `accuracy` should be a proportion (not a percentage) of the schools that were correctly predicted. **(10 points)**\n",
    "\n",
    "\n",
    "*Hint:* You should be using a function you just created!\n",
    "\n",
    "*Note:* Usually before using a classifier on a test set, we'd classify first on a \"validation\" set, which we then can modify our training set again if need be, before actually testing on the test set. You don’t need to do that for this question, but you will learn about this more in DATA 2201 and 3801.\n"
   ]
  },
  {
   "cell_type": "code",
   "execution_count": null,
   "id": "91568c18",
   "metadata": {
    "deletable": false,
    "manual_grade": true,
    "manual_problem_id": "sign_lang_3",
    "tags": []
   },
   "outputs": [],
   "source": [
    "def three_classify(row):\n",
    "    ...\n",
    "\n",
    "test_with_prediction = ...\n",
    "labels_correct = ...\n",
    "accuracy = ...\n",
    "accuracy"
   ]
  },
  {
   "cell_type": "code",
   "execution_count": null,
   "id": "111a5dc9",
   "metadata": {
    "deletable": false,
    "editable": false
   },
   "outputs": [],
   "source": [
    "grader.check(\"q1_5\")"
   ]
  },
  {
   "cell_type": "markdown",
   "id": "6d25a7f7",
   "metadata": {},
   "source": [
    "**Question 1.6.** There are 77 rows of Berkeley students and 23 rows of Stanford students in the `coordinates` table. If we used the entire `coordinates` table as the training set, what is the smallest value of k that would ensure that a k-Nearest Neighbor classifier would *always* predict Berkeley as the class? Assign the value to `k`. **(10 points)**\n"
   ]
  },
  {
   "cell_type": "code",
   "execution_count": null,
   "id": "e2522681",
   "metadata": {
    "tags": []
   },
   "outputs": [],
   "source": [
    "k = ...\n",
    "k"
   ]
  },
  {
   "cell_type": "code",
   "execution_count": null,
   "id": "6d7a5f9a",
   "metadata": {
    "deletable": false,
    "editable": false
   },
   "outputs": [],
   "source": [
    "grader.check(\"q1_6\")"
   ]
  },
  {
   "cell_type": "markdown",
   "id": "aa075136",
   "metadata": {},
   "source": [
    "<!-- BEGIN QUESTION -->\n",
    "\n",
    "**Question 1.7.** Why do we divide our data into a training and test set? What is the point of a test set, and why do we only want to use the test set once? Explain your answer in 3 sentences or less. **(10 points)**\n",
    "\n",
    "*Hint:* Check out this [section](https://inferentialthinking.com/chapters/17/2/Training_and_Testing.html) in the textbook.\n"
   ]
  },
  {
   "cell_type": "markdown",
   "id": "d9b86566",
   "metadata": {},
   "source": [
    "_Type your answer here, replacing this text._"
   ]
  },
  {
   "cell_type": "markdown",
   "id": "0dbc9c8a",
   "metadata": {},
   "source": [
    "<!-- END QUESTION -->\n",
    "\n",
    "<!-- BEGIN QUESTION -->\n",
    "\n",
    "**Question 1.8.** Why do we use an odd-numbered `k` in k-NN? Explain. **(10 points)**\n"
   ]
  },
  {
   "cell_type": "markdown",
   "id": "5ad6ff86",
   "metadata": {},
   "source": [
    "_Type your answer here, replacing this text._"
   ]
  },
  {
   "cell_type": "markdown",
   "id": "9b1f2637",
   "metadata": {},
   "source": [
    "<!-- END QUESTION -->\n",
    "\n",
    "## (OPTIONAL, NOT IN SCOPE): k-NN for Non-Binary Classification"
   ]
  },
  {
   "cell_type": "markdown",
   "id": "1f39ac21",
   "metadata": {
    "deletable": false
   },
   "source": [
    "**THIS IS NOT IN SCOPE**. There are no autograder tests for this or code for you to write. It just relies on the function `classify` in Question 1.4. Go ahead and read through this section and run the following cells!\n",
    "\n",
    "In this class, we have taught you how to use the k-NN algorithm to classify data as one of two classes. However, much of the data you will encounter in the real world will not fall nicely into one of two categories. \n",
    "\n",
    "**How can we classify data with non-binary classes?** It turns out we can still use k-NN! That is, we find the distance between a point and all its neighbors, find the nearest neighbors, and take a majority vote among the neighbors to determine this point's class. \n",
    "\n",
    "The only difference is that now the neighboring points have more than two possible classes. This does introduce difficulty because now we have no way of guaranteeing that we will not encounter ties between classes. In the case that we do encounter a tie, we can just arbitrarily choose one of the classes.\n",
    "\n",
    "In fact, you don't even have to modify the code you wrote before at all to enable multi-class classification!"
   ]
  },
  {
   "cell_type": "markdown",
   "id": "dbb1b8a3",
   "metadata": {
    "deletable": false,
    "editable": false
   },
   "source": [
    "Let's add some more data to our train table, this time for another class of students, students at San Jose Community College (SJCC)."
   ]
  },
  {
   "cell_type": "code",
   "execution_count": null,
   "id": "11e7b692",
   "metadata": {
    "deletable": false,
    "editable": false
   },
   "outputs": [],
   "source": [
    "coordinates_multi = coordinates.with_rows([\n",
    "                              [37.304346, -121.915401, \"SJCC\"],\n",
    "                              [37.316275, -121.913879, \"SJCC\"],\n",
    "                              [37.409435, -121.951379, \"SJCC\"],\n",
    "                              [37.349387, -121.960771, \"SJCC\"],\n",
    "                              [37.329083, -121.928479, \"SJCC\"],\n",
    "                              [37.313017, -121.866730, \"SJCC\"],\n",
    "                              [37.346525, -121.894767, \"SJCC\"],\n",
    "                              [37.364157, -121.955717, \"SJCC\"],\n",
    "                              [37.383362, -121.925776, \"SJCC\"],\n",
    "                              [37.329545, -121.880639, \"SJCC\"]                             \n",
    "])"
   ]
  },
  {
   "cell_type": "code",
   "execution_count": null,
   "id": "87a47b24",
   "metadata": {
    "deletable": false,
    "editable": false
   },
   "outputs": [],
   "source": [
    "classify(coordinates_multi.row(0), 5, coordinates_multi)"
   ]
  },
  {
   "cell_type": "code",
   "execution_count": null,
   "id": "75365385",
   "metadata": {
    "deletable": false,
    "editable": false
   },
   "outputs": [],
   "source": [
    "classify(coordinates_multi.row(91), 5, coordinates_multi)"
   ]
  },
  {
   "cell_type": "code",
   "execution_count": null,
   "id": "6ac1c8aa",
   "metadata": {
    "deletable": false,
    "editable": false
   },
   "outputs": [],
   "source": [
    "classify(coordinates_multi.row(105), 5, coordinates_multi)"
   ]
  },
  {
   "cell_type": "markdown",
   "id": "616e236c",
   "metadata": {},
   "source": [
    "Our classifier can classify rows as belonging to one of three classes!\n",
    "\n",
    "Classification is one of the most important fields in statistics, data science, and machine learning. There are thousands of different classification algorithms and modifications of algorithms! There are many that you'll learn if you continue down the path of becoming a data scientist!"
   ]
  },
  {
   "cell_type": "markdown",
   "id": "7623643f",
   "metadata": {},
   "source": [
    "You're all done with Lab 14! :,)\n",
    "\n",
    "**Important submission steps:** \n",
    "1. Run the tests and verify that they all pass.\n",
    "2. Choose **Save Notebook** from the **File** menu, then **run the final cell**. \n",
    "3. Click the link to download the zip file.\n",
    "4. Then submit the zip file to the corresponding assignment according to your instructor's directions. \n",
    "\n",
    "**It is your responsibility to make sure your work is saved before running the last cell.**"
   ]
  },
  {
   "cell_type": "markdown",
   "id": "68204274",
   "metadata": {
    "deletable": false,
    "editable": false
   },
   "source": [
    "## Submission\n",
    "\n",
    "Make sure you have run all cells in your notebook in order before running the cell below, so that all images/graphs appear in the output. The cell below will generate a zip file for you to submit. **Please save before exporting!**"
   ]
  },
  {
   "cell_type": "code",
   "execution_count": null,
   "id": "e558b1be",
   "metadata": {
    "deletable": false,
    "editable": false
   },
   "outputs": [],
   "source": [
    "# Save your notebook first, then run this cell to export your submission.\n",
    "grader.export(pdf=False, run_tests=True)"
   ]
  },
  {
   "cell_type": "markdown",
   "id": "d1179b33",
   "metadata": {},
   "source": [
    " "
   ]
  }
 ],
 "metadata": {
  "kernelspec": {
   "display_name": "Python [conda env:data1202] *",
   "language": "python",
   "name": "conda-env-data1202-py"
  },
  "language_info": {
   "codemirror_mode": {
    "name": "ipython",
    "version": 3
   },
   "file_extension": ".py",
   "mimetype": "text/x-python",
   "name": "python",
   "nbconvert_exporter": "python",
   "pygments_lexer": "ipython3",
   "version": "3.10.12"
  },
  "otter": {
   "OK_FORMAT": true,
   "tests": {
    "q1_1": {
     "name": "q1_1",
     "points": [
      0,
      5,
      5
     ],
     "suites": [
      {
       "cases": [
        {
         "code": ">>> type(distance_example) in set([float, np.float32, np.float64])\nTrue",
         "hidden": false,
         "locked": false
        },
        {
         "code": ">>> np.isclose(distance_example, 5.196152422706632)\nTrue",
         "hidden": false,
         "locked": false
        },
        {
         "code": ">>> np.isclose(distance(make_array(1, 1, 2, 3, 4, 5, 6, 8, 10), \n...                     make_array(1, 1, 3, 2, 5, 4, 8, 6, 10)),\n...            3.4641016151)\nTrue",
         "hidden": false,
         "locked": false
        }
       ],
       "scored": true,
       "setup": "",
       "teardown": "",
       "type": "doctest"
      }
     ]
    },
    "q1_2": {
     "name": "q1_2",
     "points": [
      0,
      0,
      5,
      1,
      1,
      1,
      1,
      1
     ],
     "suites": [
      {
       "cases": [
        {
         "code": ">>> # Double check that you have the correct number of rows for the `train` table.\n>>> train.num_rows == 75\nTrue",
         "hidden": false,
         "locked": false
        },
        {
         "code": ">>> # Double check that you have the correct number of rows for the `test` table.\n>>> test.num_rows == 25\nTrue",
         "hidden": false,
         "locked": false
        },
        {
         "code": ">>> train.num_rows + test.num_rows == coordinates.num_rows\nTrue",
         "hidden": false,
         "locked": false
        },
        {
         "code": ">>> train.row(0).item(2) == 'Stanford'\nTrue",
         "hidden": false,
         "locked": false
        },
        {
         "code": ">>> train.row(40).item(2) == 'Berkeley'\nTrue",
         "hidden": false,
         "locked": false
        },
        {
         "code": ">>> np.isclose(train.row(73).item(0), 37.8648120000)\nTrue",
         "hidden": false,
         "locked": false
        },
        {
         "code": ">>> np.isclose(test.row(10).item(1), -122.263019)\nTrue",
         "hidden": false,
         "locked": false
        },
        {
         "code": ">>> np.isclose(test.row(22).item(0), 37.8638649999)\nTrue",
         "hidden": false,
         "locked": false
        }
       ],
       "scored": true,
       "setup": "",
       "teardown": "",
       "type": "doctest"
      }
     ]
    },
    "q1_3": {
     "name": "q1_3",
     "points": [
      0,
      6,
      4
     ],
     "suites": [
      {
       "cases": [
        {
         "code": ">>> type(features) == np.ndarray\nTrue",
         "hidden": false,
         "locked": false
        },
        {
         "code": ">>> sorted(features) == ['latitude', 'longitude']\nTrue",
         "hidden": false,
         "locked": false
        },
        {
         "code": ">>> all(classname == ['school'])\nTrue",
         "hidden": false,
         "locked": false
        }
       ],
       "scored": true,
       "setup": "",
       "teardown": "",
       "type": "doctest"
      }
     ]
    },
    "q1_4": {
     "name": "q1_4",
     "points": [
      0,
      4,
      4,
      4,
      4,
      4
     ],
     "suites": [
      {
       "cases": [
        {
         "code": ">>> type(first_test) == str or type(first_test) == np.str_\nTrue",
         "hidden": false,
         "locked": false
        },
        {
         "code": ">>> sorted_coordinates = coordinates.sort(\"school\")\n>>> classify(sorted_coordinates.row(15), 3, sorted_coordinates.take(np.arange(50, 100))) == 'Berkeley'\nTrue",
         "hidden": false,
         "locked": false
        },
        {
         "code": ">>> sorted_coordinates = coordinates.sort(\"school\")\n>>> classify(sorted_coordinates.row(25), 3, sorted_coordinates.take(np.arange(50, 100))) == 'Berkeley'\nTrue",
         "hidden": false,
         "locked": false
        },
        {
         "code": ">>> sorted_coordinates = coordinates.sort(\"school\")\n>>> classify(sorted_coordinates.row(98), 3, sorted_coordinates.take(np.arange(45, 98))) == 'Stanford'\nTrue",
         "hidden": false,
         "locked": false
        },
        {
         "code": ">>> sorted_coordinates = coordinates.sort(\"school\")\n>>> classify(sorted_coordinates.row(0), 5, sorted_coordinates.take(np.arange(25,100))) == 'Berkeley'\nTrue",
         "hidden": false,
         "locked": false
        },
        {
         "code": ">>> sorted_coordinates = coordinates.sort(\"school\")\n>>> classify(sorted_coordinates.row(99), 5, sorted_coordinates.take(np.arange(25,95))) == 'Berkeley'\nTrue",
         "hidden": false,
         "locked": false
        }
       ],
       "scored": true,
       "setup": "",
       "teardown": "",
       "type": "doctest"
      }
     ]
    },
    "q1_5": {
     "name": "q1_5",
     "points": [
      4,
      6
     ],
     "suites": [
      {
       "cases": [
        {
         "code": ">>> sorted_coordinates = coordinates.sort(\"school\")\n>>> classify(sorted_coordinates.row(29), 3, train) == three_classify(sorted_coordinates.row(29))\nTrue",
         "hidden": false,
         "locked": false
        },
        {
         "code": ">>> # You should expect to see really high accuracy\n>>> 0.90 <= accuracy <= 1\nTrue",
         "hidden": false,
         "locked": false
        }
       ],
       "scored": true,
       "setup": "",
       "teardown": "",
       "type": "doctest"
      }
     ]
    },
    "q1_6": {
     "name": "q1_6",
     "points": [
      0,
      10
     ],
     "suites": [
      {
       "cases": [
        {
         "code": ">>> # `k` should be an int\n>>> type(k) == int\nTrue",
         "hidden": false,
         "locked": false
        },
        {
         "code": ">>> import hashlib \n>>> def get_hash(num):\n...     \"\"\"Helper function for assessing correctness.\"\"\"\n...     return hashlib.md5(str(num).encode()).hexdigest()\n>>> \n>>> get_hash(k) == '67c6a1e7ce56d3d6fa748ab6d9af3fd7'\nTrue",
         "hidden": false,
         "locked": false
        }
       ],
       "scored": true,
       "setup": "",
       "teardown": "",
       "type": "doctest"
      }
     ]
    }
   }
  }
 },
 "nbformat": 4,
 "nbformat_minor": 5
}
