{
 "cells": [
  {
   "cell_type": "code",
   "execution_count": null,
   "id": "40f43116",
   "metadata": {
    "deletable": false,
    "editable": false
   },
   "outputs": [],
   "source": [
    "# Initialize Otter\n",
    "import otter\n",
    "grader = otter.Notebook(\"lab11.ipynb\")"
   ]
  },
  {
   "cell_type": "markdown",
   "id": "bea65696",
   "metadata": {},
   "source": [
    "# Lab 11: Resampling and the Bootstrap\n",
    "\n",
    "Welcome to Lab 11! This covers the topics listed below: \n",
    "\n",
    "- Simulation (see [CIT 9.3](https://inferentialthinking.com/chapters/09/3/Simulation.html))\n",
    "- Sampling (see [CIT 10](https://inferentialthinking.com/chapters/10/Sampling_and_Empirical_Distributions.html))\n",
    "- Bootstrapping (see [CIT 13](https://inferentialthinking.com/chapters/13/Estimation.html))\n"
   ]
  },
  {
   "cell_type": "markdown",
   "id": "9ba2b4c2",
   "metadata": {},
   "source": [
    "The British Royal Air Force wanted to know how many warplanes the Germans had (some number `N`, which is a *parameter*), and they needed to estimate that quantity knowing only a random sample of the planes' serial numbers (from 1 to `N`). We know that the German's warplanes are labeled consecutively from 1 to `N`, so `N` would be the total number of warplanes they have. \n",
    "\n",
    "We normally investigate the random variation among our estimates by simulating a sampling procedure from the population many times and computing estimates from each sample that we generate.  In real life, if the RAF had known what the population looked like, they would have known `N` and would not have had any reason to think about random sampling. However, they didn't know what the population looked like, so they couldn't have run the simulations that we normally do.  \n",
    "\n",
    "Simulating a sampling procedure many times was a useful exercise in *understanding random variation* for an estimate, but it's not as useful as a tool for practical data analysis.\n",
    "\n",
    "Let's flip that sampling idea on its head to make it practical. Given *just* a random sample of serial numbers, we'll estimate `N`, and then we'll use simulation to find out how accurate our estimate probably is, without ever looking at the whole population.  This is an example of *statistical inference*.\n",
    "\n",
    "As usual, **run the cell below** to prepare the lab and the automatic tests."
   ]
  },
  {
   "cell_type": "code",
   "execution_count": null,
   "id": "d7d05182",
   "metadata": {},
   "outputs": [],
   "source": [
    "# Run this cell to set up the notebook, but please don't change it.\n",
    "\n",
    "# These lines import the Numpy and Datascience modules.\n",
    "import numpy as np\n",
    "from datascience import *\n",
    "\n",
    "# These lines do some fancy plotting magic.\n",
    "import matplotlib\n",
    "%matplotlib inline\n",
    "import matplotlib.pyplot as plt\n",
    "plt.style.use('fivethirtyeight')\n",
    "import warnings\n",
    "warnings.simplefilter('ignore', (FutureWarning, np.VisibleDeprecationWarning))\n",
    "\n",
    "import d8error"
   ]
  },
  {
   "cell_type": "markdown",
   "id": "1af507f8",
   "metadata": {},
   "source": [
    "## 1. Preliminaries\n",
    "\n",
    "We (the RAF in World War II) want to know the number of warplanes fielded by the Germans.  That number is `N`.  The warplanes have serial numbers from 1 to `N`, so `N` is also equal to the largest serial number on any of the warplanes.\n",
    "\n",
    "We only see a small number of serial numbers (assumed to be a random sample with replacement from among all the serial numbers), so we have to use estimation."
   ]
  },
  {
   "cell_type": "markdown",
   "id": "0ff747ad",
   "metadata": {},
   "source": [
    "**Question 1.1**  Is `N` a population parameter or a statistic? If we compute a number using our random sample that's an estimate of `N`, is that a population parameter or a statistic? Assign either 1, 2, 3, or 4 to the variable q1_1 below.\n",
    "\n",
    "1. `N` is a population parameter. An estimate of `N` from our random sample is a population parameter.\n",
    "2. `N` is a population parameter. An estimate of `N` from our random sample is a statistic.\n",
    "3. `N` is a statistic. An estimate of `N` from our random sample is a population parameter.\n",
    "4. `N` is a statistic. An estimate of `N` from our random sample is a statistic."
   ]
  },
  {
   "cell_type": "code",
   "execution_count": null,
   "id": "49dc9ef2",
   "metadata": {
    "tags": []
   },
   "outputs": [],
   "source": [
    "q1_1 = ..."
   ]
  },
  {
   "cell_type": "code",
   "execution_count": null,
   "id": "5694914c",
   "metadata": {
    "deletable": false,
    "editable": false
   },
   "outputs": [],
   "source": [
    "grader.check(\"q11\")"
   ]
  },
  {
   "cell_type": "markdown",
   "id": "5a32c341",
   "metadata": {},
   "source": [
    "To make the situation realistic, we're going to hide the true number of warplanes from you.  You'll have access only to this random sample:"
   ]
  },
  {
   "cell_type": "code",
   "execution_count": null,
   "id": "8d05bb55",
   "metadata": {},
   "outputs": [],
   "source": [
    "observations = Table.read_table(\"serial_numbers.csv\")\n",
    "num_observations = observations.num_rows\n",
    "observations"
   ]
  },
  {
   "cell_type": "markdown",
   "id": "a918d814",
   "metadata": {},
   "source": [
    "**Question 1.2** Since we are trying to estimate the population maximum, `N`, a natural statistic to use is the sample **maximum**. In other words, we can estimate the total number of tanks using the biggest serial number in our sample.\n",
    "\n",
    "Below, complete the implementation of the function `calculate_max_based_estimate`, which computes that statistic on an array of serial numbers. It should take as its argument an array of serial numbers and return their maximum.\n",
    "\n",
    "After that, use it to compute an estimate of `N` using the serial numbers in `observations`. Call the estimate `max_based_estimate`."
   ]
  },
  {
   "cell_type": "code",
   "execution_count": null,
   "id": "b4c90a9f",
   "metadata": {
    "tags": []
   },
   "outputs": [],
   "source": [
    "def calculate_max_based_estimate(nums):\n",
    "    ...\n",
    "\n",
    "max_based_estimate = ...\n",
    "max_based_estimate"
   ]
  },
  {
   "cell_type": "code",
   "execution_count": null,
   "id": "ca135df4",
   "metadata": {
    "deletable": false,
    "editable": false
   },
   "outputs": [],
   "source": [
    "grader.check(\"q12\")"
   ]
  },
  {
   "cell_type": "markdown",
   "id": "3479529a",
   "metadata": {},
   "source": [
    "**Question 1.3** Another way to estimate `N` is to take **twice the mean** of the serial numbers in our sample. This is based on the idea that the mean of a random sample of the numbers `1` through `N` usually falls about halfway between `1` and `N`. So we can estimate `N` by doubling this mean.\n",
    "\n",
    "Below, write a function called `calculate_mean_based_estimate` that computes that statistic. It should take as its argument a Series of serial numbers and return twice their mean.\n",
    "\n",
    "After that, use it to compute an estimate of `N` using the serial numbers in `observations`. Call the estimate `mean_based_estimate`."
   ]
  },
  {
   "cell_type": "code",
   "execution_count": null,
   "id": "8b3d558b",
   "metadata": {
    "tags": []
   },
   "outputs": [],
   "source": [
    "def calculate_mean_based_estimate(nums):\n",
    "    ...\n",
    "\n",
    "mean_based_estimate = ...\n",
    "mean_based_estimate"
   ]
  },
  {
   "cell_type": "code",
   "execution_count": null,
   "id": "d815c810",
   "metadata": {
    "deletable": false,
    "editable": false
   },
   "outputs": [],
   "source": [
    "grader.check(\"q13\")"
   ]
  },
  {
   "cell_type": "markdown",
   "id": "960e12eb",
   "metadata": {},
   "source": [
    "**Question 1.4** Look at the values of the `max_based_estimate` and `mean_based_estimate` that we get for our dataset."
   ]
  },
  {
   "cell_type": "code",
   "execution_count": null,
   "id": "4d186132",
   "metadata": {},
   "outputs": [],
   "source": [
    "max_based_estimate"
   ]
  },
  {
   "cell_type": "code",
   "execution_count": null,
   "id": "cad7809b",
   "metadata": {},
   "outputs": [],
   "source": [
    "mean_based_estimate"
   ]
  },
  {
   "cell_type": "markdown",
   "id": "ddc62e07",
   "metadata": {},
   "source": [
    "The value of `max_based_estimate` tells you something about `mean_based_estimate`.  Could our current `mean_based_estimate` possibly be equal to `N` (at least if we round it to the nearest integer)?  If not, is it definitely higher, definitely lower, or can we not tell?  Assign one of the choices (1-6) to the variable `q1_4` below. \n",
    "1. Yes, our `mean_based_estimate` for this sample could equal `N`.\n",
    "2. No, our `mean_based_estimate` for this sample cannot be equal to `N`, it is definitely lower by roughly 3.\n",
    "3. No, our `mean_based_estimate` for this sample cannot be equal to `N`, it is definitely lower by at least 12.\n",
    "4. No, our `mean_based_estimate` for this sample cannot be equal to `N`, it is definitely higher by roughly 3.\n",
    "5. No, our `mean_based_estimate` for this sample cannot be equal to `N`, it is definitely higher by at least 12.\n",
    "6. No, our `mean_based_estimate` for this sample cannot be equal to `N`, but we cannot tell if it is lower or higher."
   ]
  },
  {
   "cell_type": "code",
   "execution_count": null,
   "id": "ab58ea66",
   "metadata": {
    "tags": []
   },
   "outputs": [],
   "source": [
    "q1_4 = ..."
   ]
  },
  {
   "cell_type": "code",
   "execution_count": null,
   "id": "9b19a599",
   "metadata": {
    "deletable": false,
    "editable": false
   },
   "outputs": [],
   "source": [
    "grader.check(\"q14\")"
   ]
  },
  {
   "cell_type": "markdown",
   "id": "3bc8c5e7",
   "metadata": {},
   "source": [
    "We can't just confidently proclaim that `max_estimate` or `mean_based_estimate` is equal to `N`.  What if we're really far off?  So we want to get a sense of the accuracy of our estimates."
   ]
  },
  {
   "cell_type": "markdown",
   "id": "5a5b9dfa",
   "metadata": {},
   "source": [
    "## 2. Resampling \n",
    "\n",
    "To do this, we'll use resampling.  That is, we won't exactly simulate the observations the RAF would have really seen.  Rather we sample from our current sample, or \"resample.\"\n",
    "\n",
    "Why does that make any sense?\n",
    "\n",
    "When we tried to find the value of `N`, we ideally would like to use the whole population.  Since we only have a sample, we used that to estimate `N` instead.\n",
    "\n",
    "This time, we would like to use the population of serial numbers to draw more samples and run a simulation about estimates of `N`.  But we still only have our sample.  So, we **use our sample in place of the population** to run the simulation. We resample from our original sample with replacement as many times as there are elements in the original sample. This resampling technique is called *bootstrapping*. \n",
    "\n",
    "Note that in order for bootstrapping to work well, you must start with a large, random sample. Then the Law of Averages says that with high probability, your sample is representative of the population."
   ]
  },
  {
   "cell_type": "markdown",
   "id": "50ce205f",
   "metadata": {},
   "source": [
    "**Question 2.1** Write a function called `simulate_resample`.  It should generate a resample from the observed serial numbers in `observations` and return that resample.  (The resample should be a table like `observations`.)  It should take no arguments.\n",
    "\n",
    "*Hint:* use `sample()` method."
   ]
  },
  {
   "cell_type": "code",
   "execution_count": null,
   "id": "d6c8e472",
   "metadata": {
    "tags": []
   },
   "outputs": [],
   "source": [
    "def simulate_resample():\n",
    "    ...\n",
    "\n",
    "# This is a little magic to make sure that you see the same results we did – don't change it.\n",
    "np.random.seed(123)\n",
    "\n",
    "# Don't change the line below!\n",
    "one_resample = simulate_resample()\n",
    "one_resample"
   ]
  },
  {
   "cell_type": "code",
   "execution_count": null,
   "id": "f7713f0d",
   "metadata": {
    "deletable": false,
    "editable": false
   },
   "outputs": [],
   "source": [
    "grader.check(\"q21\")"
   ]
  },
  {
   "cell_type": "markdown",
   "id": "350462d0",
   "metadata": {},
   "source": [
    "We'll use many resamples at once to see what estimates typically look like.  However, we don't often pay attention to single resamples, so it's easy to misunderstand them.  Let's first answer some questions about our resample."
   ]
  },
  {
   "cell_type": "markdown",
   "id": "dc9e3b25",
   "metadata": {},
   "source": [
    "**Question 2.2** Which of the following statements are true?\n",
    "\n",
    "1. The resample can contain serial numbers that are not in the original sample.\n",
    "2. The original sample can contain serial numbers that are not in the resample.\n",
    "3. The resample has either zero, one, or more than one copy of each serial number.\n",
    "4. The original sample has exactly one copy of each serial number.\n",
    "\n",
    "Assign `true_statements` to a list of the number(s) corresponding to correct statements.\n"
   ]
  },
  {
   "cell_type": "code",
   "execution_count": null,
   "id": "b93579b4",
   "metadata": {
    "tags": []
   },
   "outputs": [],
   "source": [
    "true_statements = ..."
   ]
  },
  {
   "cell_type": "code",
   "execution_count": null,
   "id": "935d9146",
   "metadata": {
    "deletable": false,
    "editable": false
   },
   "outputs": [],
   "source": [
    "grader.check(\"q22\")"
   ]
  },
  {
   "cell_type": "markdown",
   "id": "0a528cee",
   "metadata": {},
   "source": [
    "Now let's write a function to do many resamples at once.\n",
    "\n",
    "Since resampling from a sample looks just like sampling from a population, the code should look almost the same.  That means we can write a function that simulates the process of either sampling from a population or resampling from a sample.  If we pass in population as its argument, it will do the former; if we pass in a sample, it will do the latter.\n",
    "\n",
    "\n"
   ]
  },
  {
   "cell_type": "markdown",
   "id": "0f7aae76",
   "metadata": {},
   "source": [
    "**Question 2.3**\n",
    "Write a function called `bootstrap_estimates`.  It should take 4 arguments:\n",
    "1. `original_table`: A table from which the data should be sampled.  The table will have one column named `serial number`.\n",
    "2. `sample_size`: The size of each sample from that table, an integer.  \n",
    "    - For example, to bootstrap, we would pass in the number of rows in the table.\n",
    "3. `statistic`: A *function* that takes in an array of serial numbers as its argument and computes a statistic from the array (i.e. returns a calculated number). \n",
    "4. `num_replicates`: The number of replications to perform.\n",
    "\n",
    "The function should simulate many samples **with replacement** from the given table.  (The number of times it does this is the 4th argument.)  \n",
    "\n",
    "For each of those samples, it should compute the statistic on that sample. Then it should **return an array** containing each of those statistics.  The code below provides an example use of your function and describes how you can verify that you've written it correctly.\n",
    "\n",
    "*Check your answer:* The histogram you see should be a roughly bell-shaped curve centered at 1000 with most of its area in the interval [800, 1200]."
   ]
  },
  {
   "cell_type": "code",
   "execution_count": null,
   "id": "efc26fbe",
   "metadata": {
    "tags": []
   },
   "outputs": [],
   "source": [
    "def bootstrap_estimates(original_table, sample_size, statistic, num_replicates):\n",
    "    ...\n",
    "\n",
    "# Don't change the code below this comment!\n",
    "# This should generate an empirical histogram of twice-mean-based estimates\n",
    "# of N from samples of size 50 if N is 1000.  This should be a bell-shaped\n",
    "# curve centered at 1000 with most of its mass in [800, 1200].  To verify your\n",
    "# answer, make sure that's what you see!\n",
    "example_estimates = bootstrap_estimates(\n",
    "    Table().with_column(\"serial number\", np.arange(1, 1000+1)),\n",
    "    50,\n",
    "    calculate_mean_based_estimate,\n",
    "    10000)\n",
    "Table().with_column(\"mean-based estimate\", example_estimates).hist(bins=np.arange(0, 1500, 25))"
   ]
  },
  {
   "cell_type": "code",
   "execution_count": null,
   "id": "7ccfb57a",
   "metadata": {
    "deletable": false,
    "editable": false
   },
   "outputs": [],
   "source": [
    "grader.check(\"q23\")"
   ]
  },
  {
   "cell_type": "markdown",
   "id": "623c8232",
   "metadata": {},
   "source": [
    "Now we can go back to the sample we actually observed (the table `observations`) and estimate how much our mean-based estimate of `N` would have varied from sample to sample."
   ]
  },
  {
   "cell_type": "markdown",
   "id": "f59dbc67",
   "metadata": {},
   "source": [
    "**Question 2.4** Using the bootstrap and the sample `observations`, simulate the approximate distribution of *mean-based estimates* of `N`.  Use 10,000 replications and save the estimates in an array called `bootstrap_mean_based_estimates`.  \n",
    "\n",
    "*Hint*: Use the `bootstrap_estimates` function. \n",
    "\n",
    "We have provided code that plots a histogram, allowing you to visualize the simulated estimates.\n"
   ]
  },
  {
   "cell_type": "code",
   "execution_count": null,
   "id": "0eda354a",
   "metadata": {
    "tags": []
   },
   "outputs": [],
   "source": [
    "bootstrap_mean_based_estimates = bootstrap_estimates(observations, \n",
    "                                                     observations.num_rows, \n",
    "                                                     calculate_mean_based_estimate, \n",
    "                                                     ...\n",
    "\n",
    "# Don't change the code below! This plots bootstrap_mean_based_estimates.\n",
    "(Table()\n",
    " .with_column(\"mean-based estimate\", bootstrap_mean_based_estimates)\n",
    " .hist(bins=np.arange(0, 200, 4)) \n",
    ")"
   ]
  },
  {
   "cell_type": "code",
   "execution_count": null,
   "id": "8f5957b7",
   "metadata": {
    "deletable": false,
    "editable": false
   },
   "outputs": [],
   "source": [
    "grader.check(\"q24\")"
   ]
  },
  {
   "cell_type": "markdown",
   "id": "0916c0de",
   "metadata": {},
   "source": [
    "**Question 2.5** Using the bootstrap and the sample `observations`, simulate the approximate distribution of *max estimates* of `N`.  Use 10,000 replications and save the estimates in an array called `bootstrap_max_estimates`.\n",
    "\n",
    "We have provided code that plots a histogram, allowing you to visualize the simulated estimates.\n"
   ]
  },
  {
   "cell_type": "code",
   "execution_count": null,
   "id": "5f5bffbf",
   "metadata": {
    "tags": []
   },
   "outputs": [],
   "source": [
    "bootstrap_max_estimates = bootstrap_estimates(observations, \n",
    "                                              observations.num_rows, \n",
    "                                              calculate_max_based_estimate, \n",
    "                                              ...\n",
    "\n",
    "# Don't change the code below! This plots bootstrap_max_estimates.\n",
    "Table().with_column(\"max estimate\", bootstrap_max_estimates).hist(bins=np.arange(0, 200, 4)) "
   ]
  },
  {
   "cell_type": "code",
   "execution_count": null,
   "id": "c3024398",
   "metadata": {
    "deletable": false,
    "editable": false
   },
   "outputs": [],
   "source": [
    "grader.check(\"q25\")"
   ]
  },
  {
   "cell_type": "markdown",
   "id": "b8c9e9c2",
   "metadata": {},
   "source": [
    "<!-- BEGIN QUESTION -->\n",
    "\n",
    "**Question 2.6** `N` was actually 150! Compare the histograms of estimates you generated in 2.4 and 2.5 and answer the following questions:\n",
    "\n",
    "1. How does the distribution of values for the mean-based estimates differ from the max estimates?\n",
    "2. Which estimator should be used with the bootstrap procedure?"
   ]
  },
  {
   "cell_type": "markdown",
   "id": "ff69bf10",
   "metadata": {},
   "source": [
    "_Type your answer here, replacing this text._"
   ]
  },
  {
   "cell_type": "markdown",
   "id": "ad2f1fea",
   "metadata": {},
   "source": [
    "<!-- END QUESTION -->\n",
    "\n",
    "## Computing Intervals"
   ]
  },
  {
   "cell_type": "markdown",
   "id": "444626ef",
   "metadata": {},
   "source": [
    "**Question 3.1** Compute an interval that covers the middle 95% of the mean-based bootstrap estimates.  Assign your values to `left_end_1` and `right_end_1`. \n",
    "\n",
    "*Hint:* Use the `percentile` function! Read up on its documentation [here](https://www.data8.org/datascience/reference-nb/datascience-reference.html#percentile()).\n",
    "\n",
    "Verify that your interval looks like it covers 95% of the area in the histogram. The red dot on the histogram is the value of the parameter (150)."
   ]
  },
  {
   "cell_type": "code",
   "execution_count": null,
   "id": "0749464b",
   "metadata": {
    "tags": []
   },
   "outputs": [],
   "source": [
    "left_end_1 = ...\n",
    "right_end_1 = ...\n",
    "print(\"Middle 95% of bootstrap estimates: [{:f}, {:f}]\".format(left_end_1, right_end_1))\n",
    "\n",
    "# Don't change the code below! It draws your interval and N on the histogram of mean-based estimates.\n",
    "Table().with_column(\"mean-based estimate\", bootstrap_mean_based_estimates).hist(bins=np.arange(0, 200, 4)) \n",
    "plt.plot(make_array(left_end_1, right_end_1), make_array(0, 0), color='yellow', lw=3, zorder=1)\n",
    "plt.scatter(150, 0, color='red', s=30, zorder=2);"
   ]
  },
  {
   "cell_type": "code",
   "execution_count": null,
   "id": "c7d03dbb",
   "metadata": {
    "deletable": false,
    "editable": false
   },
   "outputs": [],
   "source": [
    "grader.check(\"q31\")"
   ]
  },
  {
   "cell_type": "markdown",
   "id": "1c4f4158",
   "metadata": {},
   "source": [
    "**Question 3.2** Write code that simulates the sampling and bootstrapping process again, as follows:\n",
    "\n",
    "1. Generate a new set of random observations the RAF might have seen by sampling from the `population` table we have created for you below. Use the sample size of 70.\n",
    "2. Compute an estimate of `N` from these new observations, using `calculate_mean_based_estimate`.\n",
    "3. Using only the new observations, compute 10,000 bootstrap estimates of `N`.\n",
    "4. Plot these bootstrap estimates and compute an interval covering the middle 95%."
   ]
  },
  {
   "cell_type": "code",
   "execution_count": null,
   "id": "71fa7c79",
   "metadata": {
    "tags": []
   },
   "outputs": [],
   "source": [
    "population = Table().with_column(\"serial number\", np.arange(1, 150+1))\n",
    "\n",
    "new_observations = ...\n",
    "new_mean_based_estimate = ...\n",
    "new_bootstrap_estimates = bootstrap_estimates(new_observations, \n",
    "                                              new_observations.num_rows,\n",
    "                                              calculate_mean_based_estimate, \n",
    "                                              ...\n",
    "                                              \n",
    "Table().with_column(\"mean-based estimate\", new_bootstrap_estimates).hist(bins=np.arange(0, 252, 4))\n",
    "new_left_end = ...\n",
    "new_right_end = ...\n",
    "\n",
    "# Don't change code below this line!\n",
    "print(\"New mean-based estimate: {:f}\".format(new_mean_based_estimate))\n",
    "print(\"Middle 95% of bootstrap estimates: [{:f}, {:f}]\".format(new_left_end, new_right_end))\n",
    "\n",
    "plt.plot(make_array(new_left_end, new_right_end), make_array(0, 0), color='yellow', lw=3, zorder=1)\n",
    "plt.scatter(150, 0, color='red', s=30, zorder=2);"
   ]
  },
  {
   "cell_type": "code",
   "execution_count": null,
   "id": "17e94047",
   "metadata": {
    "deletable": false,
    "editable": false
   },
   "outputs": [],
   "source": [
    "grader.check(\"q32\")"
   ]
  },
  {
   "cell_type": "markdown",
   "id": "76f77db7",
   "metadata": {},
   "source": [
    "**Question 3.3** If you ran your cell above many, many times, approximately what percentage of the intervals you created would include `N` (150 in this case)? Assign either 1, 2, 3, 4, or 5 to the variable q3_3 below.\n",
    "\n",
    "1. 100%\n",
    "2. 97.5%\n",
    "3. 95%\n",
    "4. 5%\n",
    "5. It's impossible to tell."
   ]
  },
  {
   "cell_type": "code",
   "execution_count": null,
   "id": "e41935eb",
   "metadata": {
    "tags": []
   },
   "outputs": [],
   "source": [
    "q3_3 = ..."
   ]
  },
  {
   "cell_type": "code",
   "execution_count": null,
   "id": "8e24ddcc",
   "metadata": {
    "deletable": false,
    "editable": false
   },
   "outputs": [],
   "source": [
    "grader.check(\"q33\")"
   ]
  },
  {
   "cell_type": "markdown",
   "id": "82ccce91",
   "metadata": {},
   "source": [
    "### With or Without Replacement?\n",
    "\n",
    "Each time we resampled from our original sample, we sampled **with replacement**. What would happen if we tried to resample without replacement? Let's find out!\n",
    "\n",
    "Below, we will collect another random sample of size 70 from `population` that we can then resample from. We'll call it `original_sample`."
   ]
  },
  {
   "cell_type": "code",
   "execution_count": null,
   "id": "80368636",
   "metadata": {},
   "outputs": [],
   "source": [
    "np.random.seed(23) # Magic so that you get the same result as us – don't change this line\n",
    "original_sample = population.sample(70, with_replacement=False)\n",
    "original_sample"
   ]
  },
  {
   "cell_type": "markdown",
   "id": "d043b8a6",
   "metadata": {},
   "source": [
    "**Question 3.4.** Below, 5,000 times, collect a resample of size 70 **from `original_sample` without replacement**. Compute the mean-based estimate on each resample, and store the estimates in the array `estimates_without_replacement`.\n",
    "\n",
    "***Note:*** You **cannot** use your `bootstrap_estimates` function here, because that samples with replacement. Instead, you'll have to write a new for-loop. It's a good idea to start by copying the code from your function in  and changing the necessary pieces."
   ]
  },
  {
   "cell_type": "code",
   "execution_count": null,
   "id": "55c10a06",
   "metadata": {
    "tags": []
   },
   "outputs": [],
   "source": [
    "estimates_without_replacement = ...\n",
    "...\n",
    "estimates_without_replacement"
   ]
  },
  {
   "cell_type": "code",
   "execution_count": null,
   "id": "489a8af8",
   "metadata": {
    "deletable": false,
    "editable": false
   },
   "outputs": [],
   "source": [
    "grader.check(\"q34\")"
   ]
  },
  {
   "cell_type": "markdown",
   "id": "4cc6b4b2",
   "metadata": {},
   "source": [
    "<!-- BEGIN QUESTION -->\n",
    "\n",
    "**Question 3.5** If you completed Question 3.4 correctly, you'll notice that all 5,000 of your estimates are identical, and are equal to roughly 149.5143. Furthermore, this number is equal to the mean-based estimate derived from original_sample, without any resampling:"
   ]
  },
  {
   "cell_type": "code",
   "execution_count": null,
   "id": "12a57c72",
   "metadata": {},
   "outputs": [],
   "source": [
    "calculate_mean_based_estimate(original_sample.column('serial number'))"
   ]
  },
  {
   "cell_type": "markdown",
   "id": "e07d4f03",
   "metadata": {},
   "source": [
    "Why are all of our estimates identical, and why must we sample with replacement when resampling?"
   ]
  },
  {
   "cell_type": "markdown",
   "id": "b45bebab",
   "metadata": {},
   "source": [
    "_Type your answer here, replacing this text._"
   ]
  },
  {
   "cell_type": "markdown",
   "id": "d3717885",
   "metadata": {},
   "source": [
    "<!-- END QUESTION -->\n",
    "\n"
   ]
  },
  {
   "cell_type": "markdown",
   "id": "99b70dc5",
   "metadata": {
    "deletable": false,
    "editable": false
   },
   "source": [
    "## Submission\n",
    "\n",
    "Make sure you have run all cells in your notebook in order before running the cell below, so that all images/graphs appear in the output. The cell below will generate a zip file for you to submit. **Please save before exporting!**"
   ]
  },
  {
   "cell_type": "code",
   "execution_count": null,
   "id": "3ea860d6",
   "metadata": {
    "deletable": false,
    "editable": false
   },
   "outputs": [],
   "source": [
    "# Save your notebook first, then run this cell to export your submission.\n",
    "grader.export(pdf=False, run_tests=True)"
   ]
  },
  {
   "cell_type": "markdown",
   "id": "f112c9fd",
   "metadata": {},
   "source": [
    " "
   ]
  }
 ],
 "metadata": {
  "kernelspec": {
   "display_name": "Python [conda env:data1202] *",
   "language": "python",
   "name": "conda-env-data1202-py"
  },
  "language_info": {
   "codemirror_mode": {
    "name": "ipython",
    "version": 3
   },
   "file_extension": ".py",
   "mimetype": "text/x-python",
   "name": "python",
   "nbconvert_exporter": "python",
   "pygments_lexer": "ipython3",
   "version": "3.10.12"
  },
  "otter": {
   "OK_FORMAT": true,
   "tests": {
    "q11": {
     "name": "q11",
     "points": [
      1,
      1,
      1,
      1
     ],
     "suites": [
      {
       "cases": [
        {
         "code": ">>> q1_1 in [1, 2, 3, 4]\nTrue",
         "hidden": false,
         "locked": false
        },
        {
         "code": ">>> q1_1 != 1\nTrue",
         "hidden": false,
         "locked": false
        },
        {
         "code": ">>> q1_1 != 3\nTrue",
         "hidden": false,
         "locked": false
        },
        {
         "code": ">>> q1_1 != 4\nTrue",
         "hidden": false,
         "locked": false
        }
       ],
       "scored": true,
       "setup": "",
       "teardown": "",
       "type": "doctest"
      }
     ]
    },
    "q12": {
     "name": "q12",
     "points": [
      3,
      3
     ],
     "suites": [
      {
       "cases": [
        {
         "code": ">>> max_based_estimate == 135\nTrue",
         "hidden": false,
         "locked": false
        },
        {
         "code": ">>> calculate_max_based_estimate(observations.column(\"serial number\").take(np.arange(5))) == 79\nTrue",
         "hidden": false,
         "locked": false
        }
       ],
       "scored": true,
       "setup": "",
       "teardown": "",
       "type": "doctest"
      }
     ]
    },
    "q13": {
     "name": "q13",
     "points": [
      1,
      3,
      3
     ],
     "suites": [
      {
       "cases": [
        {
         "code": ">>> calculate_mean_based_estimate(np.array([1, 2, 3])) is not None\nTrue",
         "hidden": false,
         "locked": false
        },
        {
         "code": ">>> int(np.round(calculate_mean_based_estimate(np.array([1, 2, 3])))) == 4\nTrue",
         "hidden": false,
         "locked": false
        },
        {
         "code": ">>> np.isclose(mean_based_estimate, 122.470588)\nTrue",
         "hidden": false,
         "locked": false
        }
       ],
       "scored": true,
       "setup": "",
       "teardown": "",
       "type": "doctest"
      }
     ]
    },
    "q14": {
     "name": "q14",
     "points": 6,
     "suites": [
      {
       "cases": [
        {
         "code": ">>> 0 < q1_4 < 7\nTrue",
         "hidden": false,
         "locked": false
        },
        {
         "code": ">>> q1_4 != 1 \nTrue",
         "hidden": false,
         "locked": false
        },
        {
         "code": ">>> q1_4 != 2\nTrue",
         "hidden": false,
         "locked": false
        },
        {
         "code": ">>> q1_4 != 4\nTrue",
         "hidden": false,
         "locked": false
        },
        {
         "code": ">>> q1_4 != 5 \nTrue",
         "hidden": false,
         "locked": false
        },
        {
         "code": ">>> q1_4 != 6\nTrue",
         "hidden": false,
         "locked": false
        }
       ],
       "scored": true,
       "setup": "",
       "teardown": "",
       "type": "doctest"
      }
     ]
    },
    "q21": {
     "name": "q21",
     "points": [
      1,
      3,
      3
     ],
     "suites": [
      {
       "cases": [
        {
         "code": ">>> one_resample.num_rows == 17\nTrue",
         "hidden": false,
         "locked": false
        },
        {
         "code": ">>> all(one_resample.column('serial number').take(np.arange(5)) == \n...     [108, 57, 57, 36, 41])\nTrue",
         "hidden": false,
         "locked": false
        },
        {
         "code": ">>> np.isclose(np.mean(one_resample.column('serial number')), 60.941176)\nTrue",
         "hidden": false,
         "locked": false
        }
       ],
       "scored": true,
       "setup": "",
       "teardown": "",
       "type": "doctest"
      }
     ]
    },
    "q22": {
     "name": "q22",
     "points": 6,
     "suites": [
      {
       "cases": [
        {
         "code": ">>> set(true_statements) == set([2, 3, 4])\nTrue",
         "hidden": false,
         "locked": false
        }
       ],
       "scored": true,
       "setup": "",
       "teardown": "",
       "type": "doctest"
      }
     ]
    },
    "q23": {
     "name": "q23",
     "points": [
      2,
      2,
      2,
      2,
      2
     ],
     "suites": [
      {
       "cases": [
        {
         "code": ">>> len(example_estimates) == 10000\nTrue",
         "hidden": false,
         "locked": false
        },
        {
         "code": ">>> np.mean(example_estimates) > 0\nTrue",
         "hidden": false,
         "locked": false
        },
        {
         "code": ">>> np.mean(example_estimates) < 2000\nTrue",
         "hidden": false,
         "locked": false
        },
        {
         "code": ">>> np.mean(example_estimates) > 800\nTrue",
         "hidden": false,
         "locked": false
        },
        {
         "code": ">>> np.mean(example_estimates) < 1200\nTrue",
         "hidden": false,
         "locked": false
        }
       ],
       "scored": true,
       "setup": "",
       "teardown": "",
       "type": "doctest"
      }
     ]
    },
    "q24": {
     "name": "q24",
     "points": [
      1,
      1,
      1,
      2,
      2
     ],
     "suites": [
      {
       "cases": [
        {
         "code": ">>> len(bootstrap_mean_based_estimates) == 10000\nTrue",
         "hidden": false,
         "locked": false
        },
        {
         "code": ">>> np.mean(bootstrap_mean_based_estimates) > 0\nTrue",
         "hidden": false,
         "locked": false
        },
        {
         "code": ">>> np.mean(bootstrap_mean_based_estimates) < 200\nTrue",
         "hidden": false,
         "locked": false
        },
        {
         "code": ">>> np.mean(bootstrap_mean_based_estimates) > 118\nTrue",
         "hidden": false,
         "locked": false
        },
        {
         "code": ">>> np.mean(bootstrap_mean_based_estimates) < 126\nTrue",
         "hidden": false,
         "locked": false
        }
       ],
       "scored": true,
       "setup": "",
       "teardown": "",
       "type": "doctest"
      }
     ]
    },
    "q25": {
     "name": "q25",
     "points": [
      1,
      1,
      1,
      4
     ],
     "suites": [
      {
       "cases": [
        {
         "code": ">>> len(bootstrap_max_estimates) == 10000\nTrue",
         "hidden": false,
         "locked": false
        },
        {
         "code": ">>> np.mean(bootstrap_max_estimates) > 0\nTrue",
         "hidden": false,
         "locked": false
        },
        {
         "code": ">>> np.mean(bootstrap_max_estimates) < 200\nTrue",
         "hidden": false,
         "locked": false
        },
        {
         "code": ">>> max(bootstrap_max_estimates) <= 135\nTrue",
         "hidden": false,
         "locked": false
        }
       ],
       "scored": true,
       "setup": "",
       "teardown": "",
       "type": "doctest"
      }
     ]
    },
    "q31": {
     "name": "q31",
     "points": [
      1.5,
      1.5,
      1.5,
      1.5
     ],
     "suites": [
      {
       "cases": [
        {
         "code": ">>> np.mean(left_end_1) > 90\nTrue",
         "hidden": false,
         "locked": false
        },
        {
         "code": ">>> np.mean(left_end_1) < 100\nTrue",
         "hidden": false,
         "locked": false
        },
        {
         "code": ">>> np.mean(right_end_1) > 145\nTrue",
         "hidden": false,
         "locked": false
        },
        {
         "code": ">>> np.mean(right_end_1) < 155\nTrue",
         "hidden": false,
         "locked": false
        }
       ],
       "scored": true,
       "setup": "",
       "teardown": "",
       "type": "doctest"
      }
     ]
    },
    "q32": {
     "name": "q32",
     "points": [
      3,
      3,
      4
     ],
     "suites": [
      {
       "cases": [
        {
         "code": ">>> np.std(new_bootstrap_estimates) > 5\nTrue",
         "hidden": false,
         "locked": false
        },
        {
         "code": ">>> np.std(new_bootstrap_estimates) < 20\nTrue",
         "hidden": false,
         "locked": false
        },
        {
         "code": ">>> 0 < new_right_end - new_left_end < 75\nTrue",
         "hidden": false,
         "locked": false
        }
       ],
       "scored": true,
       "setup": "",
       "teardown": "",
       "type": "doctest"
      }
     ]
    },
    "q33": {
     "name": "q33",
     "points": [
      1,
      1.5,
      1.5,
      1.5,
      1.5
     ],
     "suites": [
      {
       "cases": [
        {
         "code": ">>> 0 < q3_3 < 6\nTrue",
         "hidden": false,
         "locked": false
        },
        {
         "code": ">>> q3_3 != 1\nTrue",
         "hidden": false,
         "locked": false
        },
        {
         "code": ">>> q3_3 != 2\nTrue",
         "hidden": false,
         "locked": false
        },
        {
         "code": ">>> q3_3 != 4\nTrue",
         "hidden": false,
         "locked": false
        },
        {
         "code": ">>> q3_3 != 5\nTrue",
         "hidden": false,
         "locked": false
        }
       ],
       "scored": true,
       "setup": "",
       "teardown": "",
       "type": "doctest"
      }
     ]
    },
    "q34": {
     "name": "q34",
     "points": [
      2,
      8
     ],
     "suites": [
      {
       "cases": [
        {
         "code": ">>> len(estimates_without_replacement) == 5000\nTrue",
         "hidden": false,
         "locked": false
        },
        {
         "code": ">>> np.all(np.isclose(estimates_without_replacement, 149.51428571))\nTrue",
         "hidden": false,
         "locked": false
        }
       ],
       "scored": true,
       "setup": "",
       "teardown": "",
       "type": "doctest"
      }
     ]
    }
   }
  }
 },
 "nbformat": 4,
 "nbformat_minor": 5
}
