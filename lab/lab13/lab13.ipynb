{
 "cells": [
  {
   "cell_type": "code",
   "execution_count": null,
   "id": "b6cb75e0",
   "metadata": {
    "deletable": false,
    "editable": false
   },
   "outputs": [],
   "source": [
    "# Initialize Otter\n",
    "import otter\n",
    "grader = otter.Notebook(\"lab13.ipynb\")"
   ]
  },
  {
   "cell_type": "markdown",
   "id": "3e04f0a2",
   "metadata": {},
   "source": [
    "# Lab 13: Variability and the Normal Distribution\n",
    "\n",
    "In this lab you will practice calculating variance and standard deviation, and converting values to standard units. \n",
    "\n",
    "You will use these skills to compare grades in a course and you will use Chebyshev’s inequality to predict how hard the students should work in order to rank in the top 5% of the class. Finally, you will use confidence intervals to help college administrators plan for next quarter by predicting the enrollment in a new course.\n",
    "\n",
    "The topics from this lab are covered in the following readings:\n",
    "\n",
    "* [CIT 14.2](https://www.inferentialthinking.com/chapters/14/2/Variability.html): Variability\n",
    "* [CIT 14.3](https://www.inferentialthinking.com/chapters/14/3/SD_and_the_Normal_Curve.html): The Standard Deviation (SD) and the Normal Curve \n",
    "* [CIT 14.4](https://www.inferentialthinking.com/chapters/14/4/Central_Limit_Theorem.html): The Central Limit Theorem\n",
    "* [CIT 14.5](https://www.inferentialthinking.com/chapters/14/5/Variability_of_the_Sample_Mean.html): The Variability of the Sample Mean\n",
    "* [CIT 14.6](https://inferentialthinking.com/chapters/14/6/Choosing_a_Sample_Size.html): Choosing a Sample Size\n",
    "\n",
    "As usual, run the cell below to prepare the lab and the automatic tests."
   ]
  },
  {
   "cell_type": "code",
   "execution_count": null,
   "id": "f2f4b030",
   "metadata": {},
   "outputs": [],
   "source": [
    "# Run this cell to set up the notebook, but please don't change it.\n",
    "\n",
    "# These lines import the Numpy and Datascience modules.\n",
    "import numpy as np\n",
    "from datascience import *\n",
    "\n",
    "# These lines do some fancy plotting magic.\n",
    "import matplotlib\n",
    "%matplotlib inline\n",
    "import matplotlib.pyplot as plt\n",
    "plt.style.use('fivethirtyeight')\n",
    "import warnings\n",
    "warnings.simplefilter('ignore', (FutureWarning, np.VisibleDeprecationWarning))\n",
    "\n",
    "import d8error"
   ]
  },
  {
   "cell_type": "markdown",
   "id": "e1cd3b53",
   "metadata": {},
   "source": [
    "## 1. Comparing Grades Using Standard Units\n",
    "\n",
    "Two of your friends, Jasmine and Zelong, just took their midterms. Jasmine took her CS 1122 midterm and Zelong took his MATH 1161 midterm. Jasmine received a **B+** on her midterm (87%) and Zelong received an **A-** (92%). Jasmine claims that while she received a lower grade on her midterm, she actually did better (relative to the rest of the class) than Zelong. Zelong disagrees. Knowing that you are taking DATA 1202, your two friends come to you to settle their argument. \n",
    "\n",
    "They show you two DataFrames: `cs_midterm` and `math_midterm` that represent the grades for their classes. Both exams are out of 100 points.  Each DataFrame has a column called `'Student'` with student ID numbers and `'Score'` with the midterm scores."
   ]
  },
  {
   "cell_type": "code",
   "execution_count": null,
   "id": "f62c256a",
   "metadata": {},
   "outputs": [],
   "source": [
    "# Jasmine's exam \n",
    "cs_midterm = Table.read_table(\"cs_scores.csv\")\n",
    "cs_midterm.hist(\"Score\", bins=range(0, 101, 4))\n",
    "plt.title('CS 1122 Midterm Scores')\n",
    "Jasmine_score = 87 \n",
    "print(\"Jasmine Score (CS 1122): \" + str(Jasmine_score))\n",
    "\n",
    "\n",
    "# Zelong's exam \n",
    "math_midterm = Table.read_table(\"math_scores.csv\")\n",
    "math_midterm.hist(\"Score\", bins=range(0, 101, 4))\n",
    "plt.title('MA 1161 Midterm Scores')\n",
    "Zelong_score = 92\n",
    "print(\"Zelong Score (MA 1161): \" + str(Zelong_score))"
   ]
  },
  {
   "cell_type": "markdown",
   "id": "c319ff7e",
   "metadata": {},
   "source": [
    "You know that instead of comparing their actual scores, you should first convert their scores into **standard units**. Recall from Lecture 21 that if $x$ is a numerical variable, and $x_i$ is one value of the variable, then\n",
    "\n",
    "$$x_{i } \\text{ in standard units } = \\frac{x_i - \\text{mean of $x$}}{\\text{SD of $x$}}$$\n",
    "\n",
    "represents $x_i$ in **standard units** – the number of standard deviations $x_i$ is above the mean."
   ]
  },
  {
   "cell_type": "markdown",
   "id": "5a96014a",
   "metadata": {},
   "source": [
    "To compute the midterm score in standard units for each friend, we need to:\n",
    "1. Compute the **average** grade for each class. \n",
    "2. Compute the **standard deviation** (SD) of the midterm scores for each class. We *could* use `np.std`, but we will write our own function to do that.\n",
    "\n",
    "Note that standard deviation is the square root of variance. So, we'll proceed by defining a function that computes the **variance** first. Recall that the variance is the mean squared deviation from the average:\n",
    "\n",
    "$$\\text{variance} = \\frac{(\\text{value}_1 - \\text{average})^2 + (\\text{value}_2 - \\text{average})^2 +...+ (\\text{value}_n - \\text{average})^2}{n}$$\n",
    "where $n$ is the number of values (e.g. number of exam scores, in our case)."
   ]
  },
  {
   "cell_type": "markdown",
   "id": "a08e7443",
   "metadata": {},
   "source": [
    "**Question 1.1.** Complete the function `compute_variance`. It takes as input an array (`data`) and returns the variance as a single number. \n",
    "\n",
    "Then, use the `compute_variance` function to compute the variance of the two classes' midterm scores, and assign them to the two specified variable names.\n",
    "\n",
    "**Do not** use `np.std` in your solution. Instead, use the above formula for variance as guidance."
   ]
  },
  {
   "cell_type": "code",
   "execution_count": null,
   "id": "259b0692",
   "metadata": {
    "tags": []
   },
   "outputs": [],
   "source": [
    "def compute_variance(data):\n",
    "    n = ...\n",
    "    average = ...\n",
    "    sum_squared_diff = ...\n",
    "    variance = sum_squared_diff / n \n",
    "    return variance\n",
    "\n",
    "\n",
    "cs_midterm_var = ...\n",
    "print(\"Variance of CS 1122 midterm: \" + str(cs_midterm_var))\n",
    "\n",
    "math_midterm_var = ...\n",
    "print(\"Variance of MA 1161 midterm: \" + str(math_midterm_var))"
   ]
  },
  {
   "cell_type": "code",
   "execution_count": null,
   "id": "6b913dc0",
   "metadata": {
    "deletable": false,
    "editable": false
   },
   "outputs": [],
   "source": [
    "grader.check(\"q1_1\")"
   ]
  },
  {
   "cell_type": "markdown",
   "id": "105af6a1",
   "metadata": {},
   "source": [
    "**Question 1.2.** Now that we have a function that computes the variance, we want to write a function that computes the standard deviation. Fill in the missing code to complete the function `compute_sd`. It takes as input an *array of numbers* (`data`) and returns the *standard deviation* as a single number. \n",
    "\n",
    "Then, use the `compute_sd` function to compute the standard deviation of scores of the two midterms.\n",
    "\n",
    "_Hint:_ Your implementation of `compute_sd` should only take ***one line***, that involves both the `return` keyword and the function `compute_variance`."
   ]
  },
  {
   "cell_type": "code",
   "execution_count": null,
   "id": "f8ca36b9",
   "metadata": {
    "tags": []
   },
   "outputs": [],
   "source": [
    "def compute_sd(data):\n",
    "    ...\n",
    "\n",
    "cs_midterm_sd = ...\n",
    "print(\"Standard Deviation of CS 1122 midterm: \" + str(cs_midterm_sd))\n",
    "\n",
    "math_midterm_sd = ...\n",
    "print(\"Standard Deviation of MA 1161 midterm: \" + str(math_midterm_sd))"
   ]
  },
  {
   "cell_type": "code",
   "execution_count": null,
   "id": "ddab3753",
   "metadata": {
    "deletable": false,
    "editable": false
   },
   "outputs": [],
   "source": [
    "grader.check(\"q1_2\")"
   ]
  },
  {
   "cell_type": "markdown",
   "id": "e3bc5d03",
   "metadata": {},
   "source": [
    "**Question 1.3.** Now that you can compute the standard deviation, you are equipped to write a function that converts a given score to standard units. Fill in the missing code to complete the function `compute_su`. It takes in a *score* (`score`), the *average score* (`avg`), and the *standard deviation* (`sd`), and returns the score in standard units.\n",
    "\n",
    "Then, use the `compute_su` function to transform the scores earned by each friend into standard units.\n",
    "\n",
    "**Warning**: Be careful with the order of operations!"
   ]
  },
  {
   "cell_type": "code",
   "execution_count": null,
   "id": "2ad65731",
   "metadata": {
    "tags": []
   },
   "outputs": [],
   "source": [
    "def compute_su(score, avg, sd):\n",
    "    standard_units = ...\n",
    "    return standard_units\n",
    "\n",
    "Jasmine_su = ...\n",
    "print(\"Jasmine's Score in Standard Units: \" + str(Jasmine_su))\n",
    "\n",
    "Zelong_su = ...\n",
    "print(\"Zelong's Score in Standard Units: \" + str(Zelong_su))"
   ]
  },
  {
   "cell_type": "code",
   "execution_count": null,
   "id": "15c84aa4",
   "metadata": {
    "deletable": false,
    "editable": false
   },
   "outputs": [],
   "source": [
    "grader.check(\"q1_3\")"
   ]
  },
  {
   "cell_type": "markdown",
   "id": "d18cf44d",
   "metadata": {},
   "source": [
    "**Question 1.4.** Jasmine's score *is* higher than Zelong's score when we convert to standard units, which can be seen as evidence that she did better on her exam relative to her classmates than Zelong did relative to his. \n",
    "\n",
    "Another way to measure their relative performances is to calculate, for both Jasmine and Zelong individually, the proportion of students they scored higher than (or the same as). Comparing Jasmine's proportion to Zelong's proportion will give us another way of measuring who did better relative to their classmates. Calculate Jasmine's proportion and Zelong's proportion below. (This will require looking at both `cs_midterm` and `math_midterm`.)"
   ]
  },
  {
   "cell_type": "code",
   "execution_count": null,
   "id": "65ee1b3e",
   "metadata": {
    "tags": []
   },
   "outputs": [],
   "source": [
    "Jasmine_proportion = ...\n",
    "print(\"Jasmine's Proportion: \" + str(Jasmine_proportion))\n",
    "\n",
    "Zelong_proportion = ...\n",
    "print(\"Zelong's Proportion: \" + str(Zelong_proportion))"
   ]
  },
  {
   "cell_type": "code",
   "execution_count": null,
   "id": "3a474940",
   "metadata": {
    "deletable": false,
    "editable": false
   },
   "outputs": [],
   "source": [
    "grader.check(\"q1_4\")"
   ]
  },
  {
   "cell_type": "markdown",
   "id": "7da897d0",
   "metadata": {},
   "source": [
    "## 2. Chebyshev's Inequality and Normal Curves\n",
    "\n",
    "Lets look at the histograms of the scores of the two midterms again."
   ]
  },
  {
   "cell_type": "code",
   "execution_count": null,
   "id": "7a385103",
   "metadata": {},
   "outputs": [],
   "source": [
    "cs_midterm.hist(\"Score\", bins=range(0, 101, 4))\n",
    "plt.title('CS 1122 Midterm Scores');\n",
    "\n",
    "math_midterm.hist(\"Score\", bins=range(0, 101, 4))\n",
    "plt.title('MA 1161 Midterm Scores');"
   ]
  },
  {
   "cell_type": "markdown",
   "id": "c33b8ae4",
   "metadata": {},
   "source": [
    "**Question 2.1.** Which of the two graphs roughly resembles a normal curve? Assign the variable `q2_1` to either 1, 2, 3, or 4.\n",
    "\n",
    "1. Only the first graph (distribution of CS 1122 midterm scores) is roughly normal.\n",
    "2. Only the lower graph (distribution of MA 1161 midterm scores) is roughly normal.\n",
    "3. Both graphs are roughly normal.\n",
    "4. Neither graph is roughly normal.\n",
    "\n",
    "Remember all normal curves have the following characteristics:\n",
    "\n",
    "* The mean (average) is always in the center of a normal curve.\n",
    "* A normal curve has only one mode (peak)."
   ]
  },
  {
   "cell_type": "code",
   "execution_count": null,
   "id": "d748fbcd",
   "metadata": {
    "tags": []
   },
   "outputs": [],
   "source": [
    "q2_1 = ..."
   ]
  },
  {
   "cell_type": "code",
   "execution_count": null,
   "id": "9428c8c9",
   "metadata": {
    "deletable": false,
    "editable": false
   },
   "outputs": [],
   "source": [
    "grader.check(\"q2_1\")"
   ]
  },
  {
   "cell_type": "markdown",
   "id": "55802f49",
   "metadata": {},
   "source": [
    "**Question 2.2.**\n",
    "By looking at the distribution of MA 1161 midterm scores above, rank the following values in order **from smallest to largest**.\n",
    "\n",
    "1. The mean score.\n",
    "2. The median score.\n",
    "3. The most common score (the mode).\n",
    "\n",
    "Set variable `q2_2` to a list containing the numbers 1, 2, 3 **in the appropriate order**. Don't compute any of these values manually!"
   ]
  },
  {
   "cell_type": "code",
   "execution_count": null,
   "id": "0403964a",
   "metadata": {
    "tags": []
   },
   "outputs": [],
   "source": [
    "q2_2 = ..."
   ]
  },
  {
   "cell_type": "code",
   "execution_count": null,
   "id": "14569c0e",
   "metadata": {
    "deletable": false,
    "editable": false
   },
   "outputs": [],
   "source": [
    "grader.check(\"q2_2\")"
   ]
  },
  {
   "cell_type": "markdown",
   "id": "569049b5",
   "metadata": {},
   "source": [
    "### Recap: Chebyshev's Inequality \n",
    "\n",
    "Chebyshev's Inequality states that *no matter what the shape of the distribution*, the proportion of values in the range \"mean +/- z SDs\" is\n",
    "\n",
    "at least $$1 - \\frac{1}{z^2}$$\n",
    "\n",
    "**It's important to note that these are lower bounds, not approximations:** 75% of the data is guaranteed to lie within plus or minus of 2 standard deviations of the mean, but 100% of the data might also lie within plus or minus 2 standard deviations of the mean. \n",
    "\n",
    "### On the other hand...\n",
    "\n",
    "**If we know that our data forms a normal curve**, the standard deviation is even more informative.\n",
    "\n",
    "|Percent in Range | All Distributions (via Chebyshev's Inequality) | Normal Distributions|\n",
    "|---|---|---|\n",
    "|$\\text{average} \\pm 1 \\ \\text{SD}$ | $\\geq 0\\%$ | $\\approx 68\\%$ |\n",
    "|$\\text{average} \\pm 2\\text{SDs}$ | $\\geq 75\\%$ | $\\approx 95\\%$ |\n",
    "|$\\text{average} \\pm 3\\text{SDs}$ | $\\geq 88\\%$ | $\\approx 99.73\\%$ |\n",
    "\n",
    "**Note that for a normal distribution, the numbers in the last column of the DataFrame above are approximations, not lower bounds.**  \n",
    "* If the distribution is perfectly normal, then 68% of the data (not more, not less) will lie between plus and minus one standard deviation of the mean. \n",
    "* Additionally because a normal curve is symmetric, we know that 34% of the data lies between the average and the average plus one standard deviation. \n"
   ]
  },
  {
   "cell_type": "markdown",
   "id": "46fa69fd",
   "metadata": {},
   "source": [
    "**Question 2.3.**  Jasmine, who is Pre-Med, really wanted to score in the top 5% of the class. But before taking the exam, she did not know if the scores would be normally distributed or not. \n",
    "\n",
    "Without making any assumptions about the distribution of scores, how many standard deviations above the mean would she have needed to score to **guarantee** that she fell in the top 5% of the the class? Set the variable `q2_3` to either 1, 2, 3, or 4, depending on your answer. \n",
    "\n",
    "\n",
    "1. Jasmine would need to score roughly 4.5 standard deviations above the average to guarantee being in the top five percent. Using Chebyshev's inequality, setting $z = \\sqrt{20} \\approx 4.5$  gives that 95% of the data will lie between plus or minus 4.5 SDs. If Jasmine scores above 4.5 SDs, then she is guaranteed to have scored better than 95% of the other students. \n",
    "\n",
    "2. Jasmine would need to score above 2 SDs. Since 95% of the data falls between plus or minus 2 SDs, if Jasmine scores above 2 SDs, she is guaranteed to score above 95% of the class. \n",
    "\n",
    "3. Jasmine would need to score slightly less than 2 SDs. 50% of the class will have scored below the average. Which means that if Jasmine scores 2 standard deviations above the average she'll have scored higher than 50% + (95% / 2) = 97.5%. \n",
    "\n",
    "4. No matter how many standard deviations above the mean Jasmine scores, there is no guarantee that she will score in the top 5% of the class. "
   ]
  },
  {
   "cell_type": "code",
   "execution_count": null,
   "id": "1361e9b9",
   "metadata": {
    "tags": []
   },
   "outputs": [],
   "source": [
    "q2_3 = ..."
   ]
  },
  {
   "cell_type": "code",
   "execution_count": null,
   "id": "f0f2e41f",
   "metadata": {
    "deletable": false,
    "editable": false
   },
   "outputs": [],
   "source": [
    "grader.check(\"q2_3\")"
   ]
  },
  {
   "cell_type": "markdown",
   "id": "a638c404",
   "metadata": {},
   "source": [
    "**Question 2.4.** Now, assuming that the scores for the exam will be normally distributed (as many exams are), what is the minimum number of standard deviations above the mean Jasmine would have needed to score to **guarantee** that she fell in the top 5% of the class? Set variable `q2_4` to either 1, 2, 3, or 4, depending on your answer. \n",
    "\n",
    "\n",
    "1. Jasmine would need to score roughly 4.5 standard deviations above the average to guarantee being in the top five percent. Using Chebyshev's inequality, setting $z = \\sqrt{20} \\approx 4.5$  gives that 95% of the data will lie between plus or minus 4.5 SDs. If Jasmine scores above 4.5 SDs, then she is guaranteed to have scored better than 95% of the other students. \n",
    "\n",
    "2. Jasmine would need to score above 2 SDs. Since 95% of the data falls between plus or minus 2 SDs, if Jasmine scores above 2 SDs, she is guaranteed to score above 95% of the class. \n",
    "\n",
    "3. Jasmine would need to score slightly less than 2 SDs. 50% of the class will have scored below the average. Which means that if Jasmine scores 2 standard deviations above the average she'll have scored higher than 50% + (95% / 2) = 97.5% of the class.\n",
    "\n",
    "4. No matter how many standard deviations above the mean Jasmine scores, there is no guarantee that she will score in the top 5% of the class."
   ]
  },
  {
   "cell_type": "code",
   "execution_count": null,
   "id": "251e6af2",
   "metadata": {
    "tags": []
   },
   "outputs": [],
   "source": [
    "q2_4 = ..."
   ]
  },
  {
   "cell_type": "code",
   "execution_count": null,
   "id": "f86c00ef",
   "metadata": {
    "deletable": false,
    "editable": false
   },
   "outputs": [],
   "source": [
    "grader.check(\"q2_4\")"
   ]
  },
  {
   "cell_type": "markdown",
   "id": "ce9cc784",
   "metadata": {},
   "source": [
    "## 3. Choosing Sample Size\n",
    "\n",
    "A new class is being offered at MTU and the administration wants to know how many students will be taking the class so they know how big of a classroom / number of sections it will need. To take the class, a student must have satisfied the prerequisites first. \n",
    "\n",
    "The administration knows there are 900 students who have completed the prerequisites and are eligible to take the class, but they don't know how many will actually enroll. They don't have the resources to ask each eligible student whether they are going to enroll, so they decide to ask a sample of the students, but they don't know how many students to ask. They want the width of their confidence interval to be **at most 10 students**. \n",
    "\n",
    "For example, if the results of their sample concluded that with 95% confidence between 200 and 210 students would take the class, the administration would be happy with that sample. However if the results of the sample concluded that with 95% confidence between 200 and 300 students would take the class, the sample would not have been informative enough because that range is too wide. We are going to help determine how big of a sample the administration should take. \n",
    "\n",
    "The population parameter we are interested in measuring is the proportion of eligible students who will take the class. We will estimate this using a sample statistic, the proportion of eligible students in the sample who plan to take the class. \n",
    "\n",
    "So **where do we start**?\n",
    "\n",
    "The Central Limit Theorem tells us that regardless of the distribution of our population, the distribution of the sample mean or sum will always be roughly normal. Fortunately, our sample statistic (the proportion of eligible students who will take the class) is also a sample mean, because proportions are just means of 0s and 1s. Let's run a simulation to see this for ourselves. \n",
    "\n",
    "Below is the data for the whole population of eligible students. (If the administration had the resources to ask every student whether they were going to take the class, this is what they would see. `0` means they won't take the class and `1` means they will.)"
   ]
  },
  {
   "cell_type": "code",
   "execution_count": null,
   "id": "52e24105",
   "metadata": {},
   "outputs": [],
   "source": [
    "population = Table.read_table(\"population.csv\")\n",
    "population"
   ]
  },
  {
   "cell_type": "code",
   "execution_count": null,
   "id": "fc5b2e47",
   "metadata": {},
   "outputs": [],
   "source": [
    "population.hist('Planning on taking')"
   ]
  },
  {
   "cell_type": "markdown",
   "id": "897ce69d",
   "metadata": {},
   "source": [
    "**Question 3.1.** Below is partially implemented code to run a simulation. The simulation will repeatedly take samples of size `sample_size` (without replacement) from `population` and calculate the proportion of students who plan on taking the class. Fill in the missing parts. "
   ]
  },
  {
   "cell_type": "code",
   "execution_count": null,
   "id": "f0684d67",
   "metadata": {
    "tags": []
   },
   "outputs": [],
   "source": [
    "def simulation(population, num_iterations, sample_size): \n",
    "    results = make_array()\n",
    "    for i in np.arange(num_iterations):\n",
    "        sampled = ...\n",
    "        proportion_taking_class = ...\n",
    "        results = ...\n",
    "\n",
    "    Table().with_column('Proportion', results).hist('Proportion')"
   ]
  },
  {
   "cell_type": "code",
   "execution_count": null,
   "id": "9f7610c7",
   "metadata": {
    "tags": []
   },
   "outputs": [],
   "source": [
    "simulation(population, 10000, 40)"
   ]
  },
  {
   "cell_type": "code",
   "execution_count": null,
   "id": "8c3aaa7d",
   "metadata": {
    "deletable": false,
    "editable": false
   },
   "outputs": [],
   "source": [
    "grader.check(\"q3_1\")"
   ]
  },
  {
   "cell_type": "markdown",
   "id": "dc2044ec",
   "metadata": {},
   "source": [
    "**Question 3.2.** Does the distribution of the sample proportion look more like a normal curve or more like the population distribution? \n",
    "\n",
    "1. More like a normal curve.\n",
    "\n",
    "2. More like the original population."
   ]
  },
  {
   "cell_type": "code",
   "execution_count": null,
   "id": "ba1a4c54",
   "metadata": {
    "tags": []
   },
   "outputs": [],
   "source": [
    "q3_2 = ..."
   ]
  },
  {
   "cell_type": "code",
   "execution_count": null,
   "id": "be23fcf8",
   "metadata": {
    "deletable": false,
    "editable": false
   },
   "outputs": [],
   "source": [
    "grader.check(\"q3_2\")"
   ]
  },
  {
   "cell_type": "markdown",
   "id": "645da574",
   "metadata": {},
   "source": [
    "We also know that as we increase the sample size, the standard deviation of our sample proportion's distribution will decrease. Again we decide to run a simulation to double check. Run the following cell to see how the distribution of the sample proportion changes as we increase the size of our sample. **It might take a while to run.** "
   ]
  },
  {
   "cell_type": "code",
   "execution_count": null,
   "id": "f11e88bc",
   "metadata": {},
   "outputs": [],
   "source": [
    "simulation(population, 10000, 40)\n",
    "simulation(population, 10000, 120)\n",
    "simulation(population, 10000, 360)"
   ]
  },
  {
   "cell_type": "markdown",
   "id": "49d98b4d",
   "metadata": {},
   "source": [
    "This trend is expressed by the formula\n",
    "$$ \\text{SD of Distribution of Possible Sample Means} = \\frac{\\text{Population SD}}{\\sqrt{\\text{sample size}}}$$\n",
    "\n",
    "Since proportions are means, we can use this formula to find the sample size we need to get a desired standard deviation of the sample proportion, and thus a certain confidence interval for that sample proportion. However, before taking our sample, we don't have any way of knowing the standard deviation of our population. Lecture 23 and  the [CIT](https://inferentialthinking.com/chapters/14/6/Choosing_a_Sample_Size.html) textbook include ways to get around this problem; here we will use the actual population standard deviation. "
   ]
  },
  {
   "cell_type": "markdown",
   "id": "5c9ab77a",
   "metadata": {},
   "source": [
    "**Question 3.3.** The administration wants the confidence interval to have a width of **10 students**, but we have been calculating the proportion of eligible students who are planning on taking the class. Fortunately, there is a relationship between a count and a proportion that will allow us to convert between these.\n",
    "\n",
    "Using the total number of students who are eligible to take the class, determine what proportion of that number equals 10 students, and save the result as `width_as_proportion`. For example, if 500 students are eligible to take the class, then 10 students as a proportion is 0.02."
   ]
  },
  {
   "cell_type": "code",
   "execution_count": null,
   "id": "0e2576f0",
   "metadata": {
    "tags": []
   },
   "outputs": [],
   "source": [
    "num_eligible_students = ...\n",
    "print('Number of eligible students:', num_eligible_students)\n",
    "width_as_proportion = ...\n",
    "print('Desired confidence interval width, as a proportion:', width_as_proportion)"
   ]
  },
  {
   "cell_type": "code",
   "execution_count": null,
   "id": "9f47a1f4",
   "metadata": {
    "deletable": false,
    "editable": false
   },
   "outputs": [],
   "source": [
    "grader.check(\"q3_3\")"
   ]
  },
  {
   "cell_type": "markdown",
   "id": "ea7ea83b",
   "metadata": {},
   "source": [
    "**Question 3.4.** Now let's calculate the standard deviation that our distribution of sample proportions would need to have in order for our 95% confidence interval to have a width of `width_as_proportion`. Set the variable `target_sd` to this value. \n",
    "\n",
    "Remember that for a normal distribution, 95% of the data lies between *plus and minus* 2 SDs of the mean."
   ]
  },
  {
   "cell_type": "code",
   "execution_count": null,
   "id": "4657d2a3",
   "metadata": {
    "tags": []
   },
   "outputs": [],
   "source": [
    "target_sd = ...\n",
    "target_sd"
   ]
  },
  {
   "cell_type": "code",
   "execution_count": null,
   "id": "cf2573b0",
   "metadata": {
    "deletable": false,
    "editable": false
   },
   "outputs": [],
   "source": [
    "grader.check(\"q3_4\")"
   ]
  },
  {
   "cell_type": "markdown",
   "id": "3cccd67e",
   "metadata": {},
   "source": [
    "**Question 3.5.** We also need to calculate the standard deviation of the total population. Calculate this value using the`compute_sd` function that you wrote earlier and store it in the variable `population_sd`."
   ]
  },
  {
   "cell_type": "code",
   "execution_count": null,
   "id": "ee94c3f1",
   "metadata": {
    "tags": []
   },
   "outputs": [],
   "source": [
    "population_sd = ...\n",
    "population_sd"
   ]
  },
  {
   "cell_type": "code",
   "execution_count": null,
   "id": "ba4857ff",
   "metadata": {
    "deletable": false,
    "editable": false
   },
   "outputs": [],
   "source": [
    "grader.check(\"q3_5\")"
   ]
  },
  {
   "cell_type": "markdown",
   "id": "5d229f7d",
   "metadata": {},
   "source": [
    "**Question 3.6.** Now calculate the required **sample size** and store your result as `req_sample_size`. Recall that\n",
    "\n",
    "$$ \\text{SD of Distribution of Possible Sample Means} = \\frac{\\text{Population SD}}{\\sqrt{\\text{sample size}}}$$\n",
    "\n",
    "You have already calculated $\\text{SD of Distribution of Possible Sample Means}$, in Question 3.4, and $\\text{Population SD}$, in Question 3.5."
   ]
  },
  {
   "cell_type": "code",
   "execution_count": null,
   "id": "4b4febf5",
   "metadata": {
    "tags": []
   },
   "outputs": [],
   "source": [
    "req_sample_size = ...\n",
    "req_sample_size"
   ]
  },
  {
   "cell_type": "code",
   "execution_count": null,
   "id": "daf32c62",
   "metadata": {
    "deletable": false,
    "editable": false
   },
   "outputs": [],
   "source": [
    "grader.check(\"q3_6\")"
   ]
  },
  {
   "cell_type": "markdown",
   "id": "cd282d8b",
   "metadata": {},
   "source": [
    "**Question 3.7.** Our required sample size is bigger than our entire population. For each part, say whether it is `True` or `False`.\n",
    "\n",
    "1. The administration will have to settle for a wider interval to get 95% confidence.\n",
    "2. Sampling with replacement will be a feasible way to determine the information the administration needs.\n",
    "3. The administration will have to settle for a lower degree of confidence to get an interval of width 10.\n",
    "4. We should increase the size of the population until the sample size is smaller than the size of the population.\n",
    "\n",
    "Set each variable below to either `True` or `False`."
   ]
  },
  {
   "cell_type": "code",
   "execution_count": null,
   "id": "d49de9f5",
   "metadata": {
    "tags": []
   },
   "outputs": [],
   "source": [
    "statement_1 = ...\n",
    "statement_2 = ...\n",
    "statement_3 = ...\n",
    "statement_4 = ..."
   ]
  },
  {
   "cell_type": "code",
   "execution_count": null,
   "id": "2865c424",
   "metadata": {
    "deletable": false,
    "editable": false
   },
   "outputs": [],
   "source": [
    "grader.check(\"q3_7\")"
   ]
  },
  {
   "cell_type": "markdown",
   "id": "f4943d77",
   "metadata": {},
   "source": [
    "## 4. Submission\n",
    "\n",
    "**Important submission steps:** \n",
    "1. Run the tests and verify that they all pass.\n",
    "2. Choose **Save Notebook** from the **File** menu, then **run the final cell**. \n",
    "3. Click the link to download the zip file.\n",
    "4. Then submit the zip file to the corresponding assignment according to your instructor's directions. \n",
    "\n",
    "**It is your responsibility to make sure your work is saved before running the last cell.**"
   ]
  },
  {
   "cell_type": "markdown",
   "id": "3d5c6331",
   "metadata": {
    "deletable": false,
    "editable": false
   },
   "source": [
    "## Submission\n",
    "\n",
    "Make sure you have run all cells in your notebook in order before running the cell below, so that all images/graphs appear in the output. The cell below will generate a zip file for you to submit. **Please save before exporting!**"
   ]
  },
  {
   "cell_type": "code",
   "execution_count": null,
   "id": "b07d4a87",
   "metadata": {
    "deletable": false,
    "editable": false
   },
   "outputs": [],
   "source": [
    "# Save your notebook first, then run this cell to export your submission.\n",
    "grader.export(pdf=False, run_tests=True)"
   ]
  },
  {
   "cell_type": "markdown",
   "id": "a2955b8a",
   "metadata": {},
   "source": [
    " "
   ]
  }
 ],
 "metadata": {
  "kernelspec": {
   "display_name": "Python [conda env:data1202] *",
   "language": "python",
   "name": "conda-env-data1202-py"
  },
  "language_info": {
   "codemirror_mode": {
    "name": "ipython",
    "version": 3
   },
   "file_extension": ".py",
   "mimetype": "text/x-python",
   "name": "python",
   "nbconvert_exporter": "python",
   "pygments_lexer": "ipython3",
   "version": "3.10.12"
  },
  "otter": {
   "OK_FORMAT": true,
   "tests": {
    "q1_1": {
     "name": "q1_1",
     "points": [
      2,
      2,
      2
     ],
     "suites": [
      {
       "cases": [
        {
         "code": ">>> np.isclose(cs_midterm_var, 173.20529599999983)\nTrue",
         "hidden": false,
         "locked": false
        },
        {
         "code": ">>> np.isclose(math_midterm_var, 84.26559999999982)\nTrue",
         "hidden": false,
         "locked": false
        },
        {
         "code": ">>> np.isclose(compute_variance(make_array(1, 2, 3, 4, 5)), 2.0)\nTrue",
         "hidden": false,
         "locked": false
        }
       ],
       "scored": true,
       "setup": "",
       "teardown": "",
       "type": "doctest"
      }
     ]
    },
    "q1_2": {
     "name": "q1_2",
     "points": [
      2,
      2,
      2
     ],
     "suites": [
      {
       "cases": [
        {
         "code": ">>> np.isclose(cs_midterm_sd, 13.160748306992268)\nTrue",
         "hidden": false,
         "locked": false
        },
        {
         "code": ">>> np.isclose(math_midterm_sd, 9.179629622157956)\nTrue",
         "hidden": false,
         "locked": false
        },
        {
         "code": ">>> np.isclose(compute_sd(make_array(1, 2, 3, 4, 5)), 1.4142135623730951)\nTrue",
         "hidden": false,
         "locked": false
        }
       ],
       "scored": true,
       "setup": "",
       "teardown": "",
       "type": "doctest"
      }
     ]
    },
    "q1_3": {
     "name": "q1_3",
     "points": [
      3,
      3
     ],
     "suites": [
      {
       "cases": [
        {
         "code": ">>> np.isclose(Jasmine_su, 1.6676863266459616)\nTrue",
         "hidden": false,
         "locked": false
        },
        {
         "code": ">>> np.isclose(Zelong_su, 0.38345773684630546)\nTrue",
         "hidden": false,
         "locked": false
        }
       ],
       "scored": true,
       "setup": "",
       "teardown": "",
       "type": "doctest"
      }
     ]
    },
    "q1_4": {
     "name": "q1_4",
     "points": [
      3,
      3
     ],
     "suites": [
      {
       "cases": [
        {
         "code": ">>> Jasmine_proportion == 0.064\nTrue",
         "hidden": false,
         "locked": false
        },
        {
         "code": ">>> Zelong_proportion == 0.472\nTrue",
         "hidden": false,
         "locked": false
        }
       ],
       "scored": true,
       "setup": "",
       "teardown": "",
       "type": "doctest"
      }
     ]
    },
    "q2_1": {
     "name": "q2_1",
     "points": [
      1.5,
      1.5,
      1.5,
      1.5
     ],
     "suites": [
      {
       "cases": [
        {
         "code": ">>> 0 < q2_1 < 5\nTrue",
         "hidden": false,
         "locked": false
        },
        {
         "code": ">>> q2_1 != 2\nTrue",
         "hidden": false,
         "locked": false
        },
        {
         "code": ">>> q2_1 != 3\nTrue",
         "hidden": false,
         "locked": false
        },
        {
         "code": ">>> q2_1 != 4\nTrue",
         "hidden": false,
         "locked": false
        }
       ],
       "scored": true,
       "setup": "",
       "teardown": "",
       "type": "doctest"
      }
     ]
    },
    "q2_2": {
     "name": "q2_2",
     "points": [
      1,
      1,
      1,
      1,
      1,
      1
     ],
     "suites": [
      {
       "cases": [
        {
         "code": ">>> type(q2_2) == np.ndarray\nTrue",
         "hidden": false,
         "locked": false
        },
        {
         "code": ">>> any(q2_2 != [2, 1, 3])\nTrue",
         "hidden": false,
         "locked": false
        },
        {
         "code": ">>> any(q2_2 != [2, 3, 1])\nTrue",
         "hidden": false,
         "locked": false
        },
        {
         "code": ">>> any(q2_2 != [1, 3, 2])\nTrue",
         "hidden": false,
         "locked": false
        },
        {
         "code": ">>> any(q2_2 != [3, 1, 2])\nTrue",
         "hidden": false,
         "locked": false
        },
        {
         "code": ">>> any(q2_2 != [3, 2, 1])\nTrue",
         "hidden": false,
         "locked": false
        }
       ],
       "scored": true,
       "setup": "",
       "teardown": "",
       "type": "doctest"
      }
     ]
    },
    "q2_3": {
     "name": "q2_3",
     "points": [
      1.5,
      1.5,
      1.5,
      1.5
     ],
     "suites": [
      {
       "cases": [
        {
         "code": ">>> 0 < q2_3 < 5\nTrue",
         "hidden": false,
         "locked": false
        },
        {
         "code": ">>> q2_3 != 2\nTrue",
         "hidden": false,
         "locked": false
        },
        {
         "code": ">>> q2_3 != 3\nTrue",
         "hidden": false,
         "locked": false
        },
        {
         "code": ">>> q2_3 != 4\nTrue",
         "hidden": false,
         "locked": false
        }
       ],
       "scored": true,
       "setup": "",
       "teardown": "",
       "type": "doctest"
      }
     ]
    },
    "q2_4": {
     "name": "q2_4",
     "points": [
      2,
      2,
      2,
      2
     ],
     "suites": [
      {
       "cases": [
        {
         "code": ">>> 0 < q2_4 < 5\nTrue",
         "hidden": false,
         "locked": false
        },
        {
         "code": ">>> q2_4 != 2\nTrue",
         "hidden": false,
         "locked": false
        },
        {
         "code": ">>> q2_4 != 1\nTrue",
         "hidden": false,
         "locked": false
        },
        {
         "code": ">>> q2_4 != 4\nTrue",
         "hidden": false,
         "locked": false
        }
       ],
       "scored": true,
       "setup": "",
       "teardown": "",
       "type": "doctest"
      }
     ]
    },
    "q3_1": {
     "name": "q3_1",
     "points": [
      7
     ],
     "suites": [
      {
       "cases": [
        {
         "code": ">>> callable(simulation)\nTrue",
         "hidden": false,
         "locked": false
        }
       ],
       "scored": true,
       "setup": "",
       "teardown": "",
       "type": "doctest"
      }
     ]
    },
    "q3_2": {
     "name": "q3_2",
     "points": [
      4,
      3
     ],
     "suites": [
      {
       "cases": [
        {
         "code": ">>> 0 < q3_2 < 3 \nTrue",
         "hidden": false,
         "locked": false
        },
        {
         "code": ">>> q3_2 != 2\nTrue",
         "hidden": false,
         "locked": false
        }
       ],
       "scored": true,
       "setup": "",
       "teardown": "",
       "type": "doctest"
      }
     ]
    },
    "q3_3": {
     "name": "q3_3",
     "points": [
      7
     ],
     "suites": [
      {
       "cases": [
        {
         "code": ">>> np.isclose(width_as_proportion, 0.011111111111111112)\nTrue",
         "hidden": false,
         "locked": false
        }
       ],
       "scored": true,
       "setup": "",
       "teardown": "",
       "type": "doctest"
      }
     ]
    },
    "q3_4": {
     "name": "q3_4",
     "points": [
      7
     ],
     "suites": [
      {
       "cases": [
        {
         "code": ">>> np.isclose(target_sd, 0.002777777777777778)\nTrue",
         "hidden": false,
         "locked": false
        }
       ],
       "scored": true,
       "setup": "",
       "teardown": "",
       "type": "doctest"
      }
     ]
    },
    "q3_5": {
     "name": "q3_5",
     "points": [
      7
     ],
     "suites": [
      {
       "cases": [
        {
         "code": ">>> np.isclose(population_sd, 0.4582575694955866)\nTrue",
         "hidden": false,
         "locked": false
        }
       ],
       "scored": true,
       "setup": "",
       "teardown": "",
       "type": "doctest"
      }
     ]
    },
    "q3_6": {
     "name": "q3_6",
     "points": [
      7
     ],
     "suites": [
      {
       "cases": [
        {
         "code": ">>> np.isclose(req_sample_size, 27216)\nTrue",
         "hidden": false,
         "locked": false
        }
       ],
       "scored": true,
       "setup": "",
       "teardown": "",
       "type": "doctest"
      }
     ]
    },
    "q3_7": {
     "name": "q3_7",
     "points": [
      2,
      2,
      2,
      2
     ],
     "suites": [
      {
       "cases": [
        {
         "code": ">>> statement_1 == True\nTrue",
         "hidden": false,
         "locked": false
        },
        {
         "code": ">>> statement_2 == False\nTrue",
         "hidden": false,
         "locked": false
        },
        {
         "code": ">>> statement_3 == True\nTrue",
         "hidden": false,
         "locked": false
        },
        {
         "code": ">>> statement_4 == False\nTrue",
         "hidden": false,
         "locked": false
        }
       ],
       "scored": true,
       "setup": "",
       "teardown": "",
       "type": "doctest"
      }
     ]
    }
   }
  }
 },
 "nbformat": 4,
 "nbformat_minor": 5
}
