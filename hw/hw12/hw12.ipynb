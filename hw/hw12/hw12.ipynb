{
 "cells": [
  {
   "cell_type": "code",
   "execution_count": null,
   "id": "1b7025f7",
   "metadata": {
    "deletable": false,
    "editable": false
   },
   "outputs": [],
   "source": [
    "# Initialize Otter\n",
    "import otter\n",
    "grader = otter.Notebook(\"hw12.ipynb\")"
   ]
  },
  {
   "cell_type": "markdown",
   "id": "7f8b1967",
   "metadata": {},
   "source": [
    "# HW 12: Normal Distribution and Variability of Sample Means\n",
    "\n",
    "**Helpful Resource:**\n",
    "\n",
    "- [Python Reference](https://pages.mtu.edu/~lebrown/data1202-s24/reference/index.html): Cheat sheet of helpful array & table methods used in DATA 1202!\n",
    "\n",
    "**Recommended Reading**: \n",
    "\n",
    "* [Normal distribution](https://www.inferentialthinking.com/chapters/14/3/SD_and_the_Normal_Curve.html)\n",
    "* [Central Limit Theorem](https://inferentialthinking.com/chapters/14/4/Central_Limit_Theorem.html)\n",
    "\n",
    "\n",
    "Please complete this notebook by filling in the cells provided. Before you begin, execute the following cell to setup the notebook by importing some helpful libraries. Each time you start your server, you will need to execute this cell again.\n",
    "\n",
    "For all problems that you must write explanations and sentences for, you **must** provide your answer in the designated space. **Moreover, throughout this homework and all future ones, please be sure to not re-assign variables throughout the notebook!** For example, if you use `max_temperature` in your answer to one question, do not reassign it later on. Otherwise, you will fail tests that you thought you were passing previously!\n",
    "\n",
    "\n",
    "**Note: This homework has hidden tests on it. That means even though the tests may say 100% passed, it doesn't mean your final grade will be 100%. We will be running more tests for correctness once everyone turns in the homework.**\n",
    "\n",
    "\n",
    "Directly sharing answers is not okay, but discussing problems with the course staff or with other students is encouraged. \n",
    "\n",
    "You should start early so that you have time to get help if you're stuck."
   ]
  },
  {
   "cell_type": "code",
   "execution_count": null,
   "id": "3eaf301e",
   "metadata": {},
   "outputs": [],
   "source": [
    "# Run this cell, but please don't change it.\n",
    "\n",
    "# These lines import the Numpy and Datascience modules.\n",
    "import numpy as np\n",
    "from datascience import *\n",
    "\n",
    "# These lines do some fancy plotting magic.\n",
    "import matplotlib\n",
    "%matplotlib inline\n",
    "import matplotlib.pyplot as plots\n",
    "plots.style.use('fivethirtyeight')\n",
    "import warnings\n",
    "warnings.simplefilter('ignore')\n",
    "\n",
    "import d8error"
   ]
  },
  {
   "cell_type": "markdown",
   "id": "954bd2de",
   "metadata": {},
   "source": [
    "# 1. Normal Distributions\n",
    "\n",
    "When we visualize the distribution of a sample, we are often interested in the mean and the standard deviation of the sample (for the rest of this lab, we will abbreviate “standard deviation” as “SD”). These two sample statistics can give us a bird’s eye view of the distribution -- by letting us know where the distribution sits on the number line and how spread out it is, respectively. "
   ]
  },
  {
   "cell_type": "markdown",
   "id": "34c1d9a5",
   "metadata": {},
   "source": [
    "We want to check if the data is linearly related, so we should look at the data."
   ]
  },
  {
   "cell_type": "markdown",
   "id": "fa5f2c67",
   "metadata": {},
   "source": [
    "<!-- BEGIN QUESTION -->\n",
    "\n",
    "**Question 1.1.** The next cell loads the table `births` from lecture, which is a large random sample of US births and includes information about mother-child pairs. \n",
    "\n",
    "Plot the distribution of mother’s ages from the table. Don’t change the last line, which will plot the mean of the sample on the distribution itself.\n"
   ]
  },
  {
   "cell_type": "code",
   "execution_count": null,
   "id": "e0a25bfc",
   "metadata": {
    "deletable": false,
    "tags": []
   },
   "outputs": [],
   "source": [
    "births = Table.read_table('baby.csv')\n",
    "...\n",
    "\n",
    "# Do not change anything below this line\n",
    "plots.scatter(np.mean(births.column(\"Maternal Age\")), 0, color='red', zorder=2, s=50);\n",
    "plots.ylim(-0.005, 0.07);"
   ]
  },
  {
   "cell_type": "markdown",
   "id": "c9fac8b8",
   "metadata": {},
   "source": [
    "<!-- END QUESTION -->\n",
    "\n",
    "From the plot above, we can see that the mean is the center of gravity or balance point of the distribution. If you cut the distribution out of cardboard, and then placed your finger at the mean, the distribution would perfectly balance on your finger. Since the distribution above is right skewed (which means it has a long right tail), we know that the mean of the distribution is larger than the median, which is the “halfway” point of the data. Conversely, if the distribution had been left skewed, we know the mean would be smaller than the median."
   ]
  },
  {
   "cell_type": "markdown",
   "id": "750d1866",
   "metadata": {},
   "source": [
    "<br>Run the following cell to compare the mean (red) and median (blue) of the distribution of mothers ages.\n"
   ]
  },
  {
   "cell_type": "code",
   "execution_count": null,
   "id": "3978d969",
   "metadata": {},
   "outputs": [],
   "source": [
    "births.hist(\"Maternal Age\")\n",
    "plots.scatter(np.mean(births.column(\"Maternal Age\")), 0, color='red', zorder=2, s=50, label=\"Mean\")\n",
    "plots.scatter(np.median(births.column(\"Maternal Age\")), 0, color='blue', zorder=2, s=50, label=\"Median\")\n",
    "plots.legend()\n",
    "plots.ylim(-0.005, 0.07);"
   ]
  },
  {
   "cell_type": "markdown",
   "id": "9fb1770f",
   "metadata": {},
   "source": [
    "We are also interested in the standard deviation of mother’s ages. The SD gives us a sense of how variable mothers' ages are around the average mothers' age. If the SD is large, then the mothers' ages should spread over a large range from the mean. If the SD is small, then the mothers' ages should be tightly clustered around the average mother age. \n",
    "\n",
    "**The SD of an array is defined as the root mean square of the deviations where the deviations are the difference between the original elements and their average.**\n",
    "\n",
    "You can read more about Variability and SD in [Chapter 14.2](https://inferentialthinking.com/chapters/14/2/Variability.html). Fun fact! $\\sigma$ (Greek letter sigma) is used to represent the SD and $\\mu$ (Greek letter mu) is used for the mean. "
   ]
  },
  {
   "cell_type": "markdown",
   "id": "480a3aec",
   "metadata": {},
   "source": [
    "**Question 1.2.** Assign `age_mean` to the mean of the maternal ages and `age_sd` to the SD of the maternal ages. Then run the cell below to see the width of one SD (blue) from the sample mean (red) plotted on the histogram of maternal ages.\n"
   ]
  },
  {
   "cell_type": "code",
   "execution_count": null,
   "id": "db31dcc9",
   "metadata": {
    "for_assignment_type": "solution",
    "scrolled": true,
    "tags": []
   },
   "outputs": [],
   "source": [
    "age_mean = ...\n",
    "age_sd = ...\n",
    "births.hist(\"Maternal Age\")\n",
    "\n",
    "plots.scatter(age_mean, 0, color='red', zorder=2, s=50);\n",
    "plots.scatter(age_mean+age_sd, 0, marker='^', color='blue', zorder=2, s=50);\n",
    "plots.scatter(age_mean-age_sd, 0, marker='^', color='blue', zorder=2, s=50);\n",
    "plots.ylim(-0.005, 0.07);"
   ]
  },
  {
   "cell_type": "code",
   "execution_count": null,
   "id": "51b8998e",
   "metadata": {
    "deletable": false,
    "editable": false
   },
   "outputs": [],
   "source": [
    "grader.check(\"q1_2\")"
   ]
  },
  {
   "cell_type": "markdown",
   "id": "09d4d363",
   "metadata": {},
   "source": [
    "In this histogram, the standard deviation is not easy to identify just by looking at the graph.\n",
    "\n",
    "However, the distributions of some variables allow us to easily spot the standard deviation on the plot. For example, if a sample follows a *normal distribution*, the standard deviation is easily spotted at the point of inflection (the point where the curve begins to change the direction of its curvature) of the distribution. "
   ]
  },
  {
   "cell_type": "markdown",
   "id": "b236cd91",
   "metadata": {},
   "source": [
    "**Question 1.3.** Fill in the following code to examine the distribution of maternal heights, which is roughly normally distributed. We’ll plot the standard deviation on the histogram, as before - notice where one standard deviation (blue) away from the mean (red) falls on the plot.\n"
   ]
  },
  {
   "cell_type": "code",
   "execution_count": null,
   "id": "3492aa76",
   "metadata": {
    "scrolled": true,
    "tags": []
   },
   "outputs": [],
   "source": [
    "height_mean = ...\n",
    "height_sd = ...\n",
    "births.hist(\"Maternal Height\", bins=np.arange(55,75,1))\n",
    "\n",
    "plots.scatter((height_mean), 0, color='red', zorder=2, s=50);\n",
    "plots.scatter(height_mean+height_sd, 0, marker='^', color='blue', zorder=2, s=50);\n",
    "plots.scatter(height_mean-height_sd, 0, marker='^', color='blue', zorder=2, s=50);\n",
    "plots.ylim(-0.01, 0.16);"
   ]
  },
  {
   "cell_type": "code",
   "execution_count": null,
   "id": "430e21e9",
   "metadata": {
    "deletable": false,
    "editable": false
   },
   "outputs": [],
   "source": [
    "grader.check(\"q1_3\")"
   ]
  },
  {
   "cell_type": "markdown",
   "id": "5708c76b",
   "metadata": {},
   "source": [
    "We don’t always know how a variable will be distributed, and making assumptions about whether or not a variable will follow a normal distribution is dangerous. However, the **Central Limit Theorem** defines one distribution that always follows a normal distribution. **The distribution of the *sums* and *means* of all large random samples drawn with replacement from a single distribution (regardless of the distribution’s original shape) will be normally distributed.** Remember that the Central Limit Theorem refers to the distribution of a *statistic* calculated from a distribution, not the distribution of the original sample or population. \n",
    "\n",
    "The next section will explore distributions of sample means, and you will see how the standard deviation of these distributions depends on sample sizes."
   ]
  },
  {
   "cell_type": "markdown",
   "id": "3fd5cf23",
   "metadata": {},
   "source": [
    "# 2. Variability of the Sample Mean\n",
    "\n",
    "By the [Central Limit Theorem](https://www.inferentialthinking.com/chapters/14/4/Central_Limit_Theorem.html), the probability distribution of the mean or sum of a large random sample is roughly normal. The bell curve is centered at the population mean. Some of the sample means are higher and some are lower, but the deviations from the population mean are roughly symmetric on either side, as we have seen repeatedly. \n",
    "\n",
    "In our simulations, we also noticed that the means of larger samples tend to be more tightly clustered around the population mean than means of smaller samples. In this section, we will quantify the [variability of the sample mean](https://www.inferentialthinking.com/chapters/14/5/Variability_of_the_Sample_Mean.html) and develop a relation between the variability and the sample size.\n",
    "\n",
    "Let's take a look at the salaries of employees of the City of San Francisco in 2014. The mean salary reported by the city government was about $75,463.92.\n",
    "\n",
    "*Note: If you get stuck on any part of this hw, please refer to [Chapter 14 of the textbook](https://www.inferentialthinking.com/chapters/14/Why_the_Mean_Matters.html).*"
   ]
  },
  {
   "cell_type": "code",
   "execution_count": null,
   "id": "a3896636",
   "metadata": {},
   "outputs": [],
   "source": [
    "salaries = Table.read_table('sf_salaries_2014.csv').select(\"salary\")\n",
    "salaries.show(5)"
   ]
  },
  {
   "cell_type": "code",
   "execution_count": null,
   "id": "a0b47ed6",
   "metadata": {},
   "outputs": [],
   "source": [
    "salary_mean = np.mean(salaries.column('salary'))\n",
    "print('Mean salary of San Francisco city employees in 2014: ', salary_mean.round(2))"
   ]
  },
  {
   "cell_type": "code",
   "execution_count": null,
   "id": "2f663003",
   "metadata": {},
   "outputs": [],
   "source": [
    "salaries.hist('salary', bins=np.arange(0, 250000+10000*2, 10000))\n",
    "plots.scatter(salary_mean, 0, color='red', zorder=2, s=50)\n",
    "plots.title('2014 salaries of city of SF employees')\n",
    "plots.ylim(-0.0000005, 0.000014);"
   ]
  },
  {
   "cell_type": "markdown",
   "id": "0fa337a9",
   "metadata": {},
   "source": [
    "Clearly, the population *does not* follow a normal distribution. Keep that in mind as we progress through these exercises.\n",
    "\n",
    "Let's take random samples **with replacement** and look at the probability distribution of the sample mean. As usual, we will use simulation to get an empirical approximation to this distribution."
   ]
  },
  {
   "cell_type": "markdown",
   "id": "f012e0e3",
   "metadata": {},
   "source": [
    "**Question 2.1.** Define a function `one_sample_mean`. Its arguments should be `table` (the name of a table), `label` (the label of the column containing the variable), and `sample_size`(the number of employees in the sample). It should sample with replacement from the table and\n",
    "return the mean of the `label` column of the sample.\n"
   ]
  },
  {
   "cell_type": "code",
   "execution_count": null,
   "id": "b164791b",
   "metadata": {
    "tags": []
   },
   "outputs": [],
   "source": [
    "def one_sample_mean(table, label, sample_size):\n",
    "    new_sample = ...\n",
    "    new_sample_mean = ...\n",
    "    ..."
   ]
  },
  {
   "cell_type": "code",
   "execution_count": null,
   "id": "9a8103b8",
   "metadata": {
    "deletable": false,
    "editable": false
   },
   "outputs": [],
   "source": [
    "grader.check(\"q2_1\")"
   ]
  },
  {
   "cell_type": "markdown",
   "id": "e015c961",
   "metadata": {},
   "source": [
    "**Question 2.2.** Use `one_sample_mean` to define a function `simulate_sample_mean`. The arguments are the name of the `table`, the `label` of the column containing the variable, the `sample_size`, and the number of simulations (`repetitions`).\n",
    "\n",
    "The function should sample with replacement from the table and calculate the mean of each sample (*Hint, use your function from Q2.1*). It should save the sample means in an array called `means`. The remaining code in the function displays an empirical histogram of the sample means.\n",
    "\n",
    "*Note: We round all values to 2 decimal places because we are working with salaries.*\n"
   ]
  },
  {
   "cell_type": "code",
   "execution_count": null,
   "id": "b226e5e5",
   "metadata": {
    "deletable": false,
    "tags": []
   },
   "outputs": [],
   "source": [
    "\"\"\"Empirical distribution of random sample means\"\"\"\n",
    "\n",
    "def simulate_sample_mean(table, label, sample_size, repetitions, verbose=1):\n",
    "    \n",
    "    means = make_array()\n",
    "\n",
    "    for i in np.arange(repetitions):\n",
    "        new_sample_mean = ...\n",
    "        means = ...\n",
    "\n",
    "    sample_means = Table().with_column('Sample Means', means)\n",
    "    \n",
    "    # Display empirical histogram and print all relevant quantities – don't change this!\n",
    "    sample_means.hist(bins=20)\n",
    "    plots.xlabel('Sample Means')\n",
    "    plots.title('Sample Size {sample_size}; {repetitions} Resamples'.format(sample_size=sample_size, repetitions=repetitions))\n",
    "    if verbose == 1:\n",
    "        print(\"Sample size: \", sample_size)\n",
    "        print(\"Population mean:\", np.mean(table.column(label)).round(2))\n",
    "        print(\"Average of sample means: \", np.mean(means).round(2))\n",
    "        print(\"Population SD:\", np.std(table.column(label)).round(2))\n",
    "        print(\"SD of sample means:\", np.std(means).round(2))\n",
    "    return np.std(means)"
   ]
  },
  {
   "cell_type": "code",
   "execution_count": null,
   "id": "67464a6f",
   "metadata": {
    "deletable": false,
    "editable": false
   },
   "outputs": [],
   "source": [
    "grader.check(\"q2_2\")"
   ]
  },
  {
   "cell_type": "markdown",
   "id": "49268a44",
   "metadata": {},
   "source": [
    "Think very carefully that you've implemented the function above correctly. If you haven't implemented it correctly, the rest of the hw won't work properly, so this step is crucial."
   ]
  },
  {
   "cell_type": "markdown",
   "id": "968ec593",
   "metadata": {},
   "source": [
    " In the following cell, we will create a sample of size 100 from `salaries` and graph it using our new `simulate_sample_mean` function.\n",
    " \n",
    " *Hint: You should see a distribution similar to something we've been talking about. If not, check your function.*"
   ]
  },
  {
   "cell_type": "code",
   "execution_count": null,
   "id": "c09168a0",
   "metadata": {},
   "outputs": [],
   "source": [
    "simulate_sample_mean(salaries, 'salary', 100, 10000, 1) \n",
    "plots.xlim(50000, 100000);"
   ]
  },
  {
   "cell_type": "markdown",
   "id": "21ea7ae9",
   "metadata": {},
   "source": [
    "Notice that our distribution of *sample means* looks approximately normal! \n",
    "\n",
    "Did it matter if our original distribution was normally distributed?"
   ]
  },
  {
   "cell_type": "markdown",
   "id": "fa034d0d",
   "metadata": {},
   "source": [
    "<!-- BEGIN QUESTION -->\n",
    "\n",
    "**Question 2.3.** Simulate two sample means, one for a sample of 400 salaries and one for a sample of 625 salaries. In each case, perform 10,000 repetitions. Don't worry about the `plots.xlim` or `plots.ylim` lines – they just make sure that all of the plots have the same x-axis and y-axis, respectively. \n"
   ]
  },
  {
   "cell_type": "code",
   "execution_count": null,
   "id": "c3d589e2",
   "metadata": {
    "for_assignment_type": "solution",
    "tags": []
   },
   "outputs": [],
   "source": [
    "simulate_sample_mean(..., ..., ..., ...)\n",
    "plots.xlim(50000, 100000)\n",
    "plots.ylim(0, 0.0002)\n",
    "plots.show();\n",
    "print('\\n')\n",
    "simulate_sample_mean(..., ..., ..., ...)\n",
    "plots.xlim(50000, 100000)\n",
    "plots.ylim(0, 0.0002)\n",
    "plots.show();"
   ]
  },
  {
   "cell_type": "markdown",
   "id": "ec124a55",
   "metadata": {},
   "source": [
    "<!-- END QUESTION -->\n",
    "\n",
    "**Question 2.4.** Assign `q2_4` to an array of numbers corresponding to true statement(s) about the plots from 2.3. \n",
    "\n",
    "*Hint*: If a distribution is bell-shaped, what type of curve does it follow? \n",
    "\n",
    "1. We see the Central Limit Theorem (CLT) in action because the distributions of the sample means are bell-shaped.\n",
    "2. We see the Law of Averages in action because the distributions of the sample means look like the distribution of the population.\n",
    "3. One of the conditions for CLT is that we have to draw a small random sample with replacement from the population.\n",
    "4. One of the conditions for CLT is that we have to draw a large random sample with replacement from the population.\n",
    "5. One of the conditions for CLT is that the population must be normally distributed.\n"
   ]
  },
  {
   "cell_type": "code",
   "execution_count": null,
   "id": "1a1c5246",
   "metadata": {
    "for_assignment_type": "solution",
    "tags": []
   },
   "outputs": [],
   "source": [
    "q2_4 = ..."
   ]
  },
  {
   "cell_type": "code",
   "execution_count": null,
   "id": "3ff7c075",
   "metadata": {
    "deletable": false,
    "editable": false
   },
   "outputs": [],
   "source": [
    "grader.check(\"q2_4\")"
   ]
  },
  {
   "cell_type": "markdown",
   "id": "e2352a28",
   "metadata": {},
   "source": [
    "**Question 2.5.** Assign `q2_5` to an array of numbers corresponding to true statement(s) about the plots from 2.3.\n",
    "\n",
    "1. Both plots in 2.3 are roughly centered around the population mean.\n",
    "2. Both plots in 2.3 are roughly centered around the mean of a particular sample.\n",
    "3. The distribution of sample means for sample size 625 has less variability than the distribution of sample means for sample size 400.\n",
    "4. The distribution of sample means for sample size 625 has more variability than the distribution of sample means for sample size 400.\n"
   ]
  },
  {
   "cell_type": "code",
   "execution_count": null,
   "id": "271e67de",
   "metadata": {
    "tags": []
   },
   "outputs": [],
   "source": [
    "q2_5 = ..."
   ]
  },
  {
   "cell_type": "code",
   "execution_count": null,
   "id": "aada7f9e",
   "metadata": {
    "deletable": false,
    "editable": false
   },
   "outputs": [],
   "source": [
    "grader.check(\"q2_5\")"
   ]
  },
  {
   "cell_type": "markdown",
   "id": "f3742073",
   "metadata": {},
   "source": [
    "Below, we'll look at what happens when we take an **increasing number of resamples of a fixed sample size.** Notice what number in the code changes, and what stays the same. How does the distribution of the resampled means change?"
   ]
  },
  {
   "cell_type": "code",
   "execution_count": null,
   "id": "9d159ffe",
   "metadata": {},
   "outputs": [],
   "source": [
    "simulate_sample_mean(salaries, 'salary', 100, 500, 1)\n",
    "plots.xlim(50000, 100000)\n",
    "plots.ylim(0, 0.00009);"
   ]
  },
  {
   "cell_type": "code",
   "execution_count": null,
   "id": "215a0445",
   "metadata": {},
   "outputs": [],
   "source": [
    "simulate_sample_mean(salaries, 'salary', 100, 1000, 1)\n",
    "plots.xlim(50000, 100000);\n",
    "plots.ylim(0, 0.00009);"
   ]
  },
  {
   "cell_type": "code",
   "execution_count": null,
   "id": "ac8f6baf",
   "metadata": {},
   "outputs": [],
   "source": [
    "simulate_sample_mean(salaries, 'salary', 100, 5000, 1)\n",
    "plots.xlim(50000, 100000);\n",
    "plots.ylim(0, 0.00009);"
   ]
  },
  {
   "cell_type": "code",
   "execution_count": null,
   "id": "2bccb0ae",
   "metadata": {},
   "outputs": [],
   "source": [
    "simulate_sample_mean(salaries, 'salary', 100, 10000, 1)\n",
    "plots.xlim(50000, 100000);\n",
    "plots.ylim(0, 0.00009);"
   ]
  },
  {
   "cell_type": "markdown",
   "id": "f33509e8",
   "metadata": {},
   "source": [
    "What did you notice about the distributions of sample means in the four histograms above? "
   ]
  },
  {
   "cell_type": "markdown",
   "id": "ef93a8db",
   "metadata": {},
   "source": [
    "**Question 2.6.** Assign the variable `SD_of_sample_means` to the integer corresponding to your answer to the following question:\n",
    "\n",
    "When I increase the number of *resamples* that I take, for a *fixed* sample size, the SD of my sample means will...\n",
    "\n",
    "1. Increase\n",
    "2. Decrease\n",
    "3. Stay about the same\n",
    "4. Vary widely\n"
   ]
  },
  {
   "cell_type": "code",
   "execution_count": null,
   "id": "3ab57b89",
   "metadata": {
    "deletable": false,
    "tags": []
   },
   "outputs": [],
   "source": [
    "SD_of_sample_means = ..."
   ]
  },
  {
   "cell_type": "code",
   "execution_count": null,
   "id": "12756728",
   "metadata": {
    "deletable": false,
    "editable": false
   },
   "outputs": [],
   "source": [
    "grader.check(\"q2_6\")"
   ]
  },
  {
   "cell_type": "markdown",
   "id": "176806d2",
   "metadata": {},
   "source": [
    "**Question 2.7.** Let's think about how the relationships between population SD, sample SD, and SD of sample means change with varying sample size. Which of the following is true? Assign the variable `pop_vs_sample` to an array of integer(s) that correspond to true statement(s).\n",
    "\n",
    "*Hint 1:* The sample SD is different from the SD of sample means. \n",
    "\n",
    "1. Sample SD gets smaller with increasing sample size.\n",
    "2. Sample SD gets larger with increasing sample size.\n",
    "3. Sample SD becomes more consistent with population SD with increasing sample size.\n",
    "4. SD of sample means gets smaller with increasing sample size.\n",
    "5. SD of sample means gets larger with increasing sample size.\n",
    "6. SD of sample means stays the same with increasing sample size.\n"
   ]
  },
  {
   "cell_type": "code",
   "execution_count": null,
   "id": "a3962e67",
   "metadata": {
    "deletable": false,
    "tags": []
   },
   "outputs": [],
   "source": [
    "pop_vs_sample = ..."
   ]
  },
  {
   "cell_type": "code",
   "execution_count": null,
   "id": "6441a21d",
   "metadata": {
    "deletable": false,
    "editable": false
   },
   "outputs": [],
   "source": [
    "grader.check(\"q2_7\")"
   ]
  },
  {
   "cell_type": "markdown",
   "id": "54a8da92",
   "metadata": {},
   "source": [
    "## 3. Key Concepts \n",
    "\n",
    "Let's review some key concepts from this past week. \n"
   ]
  },
  {
   "cell_type": "markdown",
   "id": "e1316b4b",
   "metadata": {},
   "source": [
    "**Question 3.1** How do we convert the value 34 to standard units if it comes from a dataset where the mean is 20 and the standard deviation is 3? Assign `q3_1` to either 1, 2, 3, or 4.\n",
    "\n",
    "1. $\\displaystyle \\frac{20 - 34}{3}$\n",
    "2. $\\displaystyle \\frac{34 - 20}{3}$\n",
    "3. $\\displaystyle \\frac{34 - 20}{\\sqrt{3}}$\n",
    "4. $\\displaystyle \\frac{(20-34)^2}{3}$  \n"
   ]
  },
  {
   "cell_type": "code",
   "execution_count": null,
   "id": "1d9917f3",
   "metadata": {
    "tags": []
   },
   "outputs": [],
   "source": [
    "q3_1 = ..."
   ]
  },
  {
   "cell_type": "code",
   "execution_count": null,
   "id": "8c3920af",
   "metadata": {
    "deletable": false,
    "editable": false
   },
   "outputs": [],
   "source": [
    "grader.check(\"q3_1\")"
   ]
  },
  {
   "cell_type": "markdown",
   "id": "ec983809",
   "metadata": {},
   "source": [
    "**Question 3.2** According to Chebyshev's inequality, for any dataset, at least half of the data falls within how many standard deviations of the mean? Assign the **smallest** correct answer to `q3_2`.\n",
    "\n",
    "1. 1.35\n",
    "2. 1.40\n",
    "3. 1.45\n",
    "4. 1.50\n"
   ]
  },
  {
   "cell_type": "code",
   "execution_count": null,
   "id": "94bc0c1c",
   "metadata": {},
   "outputs": [],
   "source": [
    "q3_2 = 3  # SOLUTION"
   ]
  },
  {
   "cell_type": "code",
   "execution_count": null,
   "id": "f1881ab5",
   "metadata": {
    "deletable": false,
    "editable": false
   },
   "outputs": [],
   "source": [
    "grader.check(\"q3_2\")"
   ]
  },
  {
   "cell_type": "markdown",
   "id": "777a79f4",
   "metadata": {},
   "source": [
    "**Question 3.3** Assign `q3_3` to a **list** of all statements below that are **always** true.\n",
    "\n",
    "1. An empirical histogram of the sample mean of a large random sample drawn with replacement from a population will be roughly normal.\n",
    "2. If we know the mean and SD of any distribution, we can calculate a 68% confidence interval by stepping out one standard deviation from the mean in both directions.\n",
    "3. For any distribution, 95% of the data falls within two standard deviations of the mean.\n",
    "4. For any distribution, at least 95% of the data falls within five standard deviations of the mean."
   ]
  },
  {
   "cell_type": "code",
   "execution_count": null,
   "id": "ec1759a3",
   "metadata": {
    "tags": []
   },
   "outputs": [],
   "source": [
    "q3_3 = ..."
   ]
  },
  {
   "cell_type": "code",
   "execution_count": null,
   "id": "b8012fed",
   "metadata": {
    "deletable": false,
    "editable": false
   },
   "outputs": [],
   "source": [
    "grader.check(\"q3_3\")"
   ]
  },
  {
   "cell_type": "markdown",
   "id": "4948b46c",
   "metadata": {},
   "source": [
    "## 4. Submission\n",
    "\n",
    "\n",
    "**Important submission steps:** \n",
    "1. Run the tests and verify that they all pass.\n",
    "2. Choose **Save Notebook** from the **File** menu, then **run the final cell**. \n",
    "3. Click the link to download the zip file.\n",
    "4. Then submit the zip file to the corresponding assignment according to your instructor's directions. \n",
    "\n",
    "**It is your responsibility to make sure your work is saved before running the last cell.**"
   ]
  },
  {
   "cell_type": "markdown",
   "id": "27c3f970",
   "metadata": {
    "deletable": false,
    "editable": false
   },
   "source": [
    "## Submission\n",
    "\n",
    "Make sure you have run all cells in your notebook in order before running the cell below, so that all images/graphs appear in the output. The cell below will generate a zip file for you to submit. **Please save before exporting!**"
   ]
  },
  {
   "cell_type": "code",
   "execution_count": null,
   "id": "4d74ed38",
   "metadata": {
    "deletable": false,
    "editable": false
   },
   "outputs": [],
   "source": [
    "# Save your notebook first, then run this cell to export your submission.\n",
    "grader.export(pdf=False, run_tests=True)"
   ]
  },
  {
   "cell_type": "markdown",
   "id": "d777ba65",
   "metadata": {},
   "source": [
    " "
   ]
  }
 ],
 "metadata": {
  "kernelspec": {
   "display_name": "Python [conda env:data1202] *",
   "language": "python",
   "name": "conda-env-data1202-py"
  },
  "language_info": {
   "codemirror_mode": {
    "name": "ipython",
    "version": 3
   },
   "file_extension": ".py",
   "mimetype": "text/x-python",
   "name": "python",
   "nbconvert_exporter": "python",
   "pygments_lexer": "ipython3",
   "version": "3.10.12"
  },
  "otter": {
   "OK_FORMAT": true,
   "tests": {
    "q1_2": {
     "name": "q1_2",
     "points": [
      1,
      1,
      2
     ],
     "suites": [
      {
       "cases": [
        {
         "code": ">>> type(age_mean) == np.float64\nTrue",
         "hidden": false,
         "locked": false
        },
        {
         "code": ">>> type(age_sd) == np.float64\nTrue",
         "hidden": false,
         "locked": false
        },
        {
         "code": ">>> round(age_mean, 3) == 27.228\nTrue",
         "hidden": false,
         "locked": false
        }
       ],
       "scored": true,
       "setup": "",
       "teardown": "",
       "type": "doctest"
      }
     ]
    },
    "q1_3": {
     "name": "q1_3",
     "points": [
      1,
      1,
      2,
      2
     ],
     "suites": [
      {
       "cases": [
        {
         "code": ">>> type(height_mean) == np.float64\nTrue",
         "hidden": false,
         "locked": false
        },
        {
         "code": ">>> type(height_sd) == np.float64\nTrue",
         "hidden": false,
         "locked": false
        },
        {
         "code": ">>> round(height_mean, 3) == 64.049\nTrue",
         "hidden": false,
         "locked": false
        },
        {
         "code": ">>> round(height_sd, 3) == 2.525\nTrue",
         "hidden": false,
         "locked": false
        }
       ],
       "scored": true,
       "setup": "",
       "teardown": "",
       "type": "doctest"
      }
     ]
    },
    "q2_1": {
     "name": "q2_1",
     "points": [
      4
     ],
     "suites": [
      {
       "cases": [
        {
         "code": ">>> np.random.seed(8)\n>>> np.round(one_sample_mean(salaries, 'salary', 100), 3) == 76699.829\nTrue",
         "hidden": false,
         "locked": false
        }
       ],
       "scored": true,
       "setup": "",
       "teardown": "",
       "type": "doctest"
      }
     ]
    },
    "q2_2": {
     "name": "q2_2",
     "points": [
      4
     ],
     "suites": [
      {
       "cases": [
        {
         "code": ">>> np.random.seed(8)\n>>> val = simulate_sample_mean(salaries, 'salary', 100, 10, 0)\n>>> plots.close(\"all\")\n>>> np.isclose(val, 4288.67990)\nTrue",
         "hidden": false,
         "locked": false
        }
       ],
       "scored": true,
       "setup": "",
       "teardown": "",
       "type": "doctest"
      }
     ]
    },
    "q2_4": {
     "name": "q2_4",
     "points": [
      0
     ],
     "suites": [
      {
       "cases": [
        {
         "code": ">>> type(q2_4) == np.ndarray\nTrue",
         "hidden": false,
         "locked": false
        }
       ],
       "scored": true,
       "setup": "",
       "teardown": "",
       "type": "doctest"
      }
     ]
    },
    "q2_5": {
     "name": "q2_5",
     "points": [
      0
     ],
     "suites": [
      {
       "cases": [
        {
         "code": ">>> type(q2_5) == np.ndarray\nTrue",
         "hidden": false,
         "locked": false
        }
       ],
       "scored": true,
       "setup": "",
       "teardown": "",
       "type": "doctest"
      }
     ]
    },
    "q2_6": {
     "name": "q2_6",
     "points": [
      0
     ],
     "suites": [
      {
       "cases": [
        {
         "code": ">>> type(SD_of_sample_means) == int\nTrue",
         "hidden": false,
         "locked": false
        }
       ],
       "scored": true,
       "setup": "",
       "teardown": "",
       "type": "doctest"
      }
     ]
    },
    "q2_7": {
     "name": "q2_7",
     "points": [
      0
     ],
     "suites": [
      {
       "cases": [
        {
         "code": ">>> type(pop_vs_sample) == np.ndarray\nTrue",
         "hidden": false,
         "locked": false
        }
       ],
       "scored": true,
       "setup": "",
       "teardown": "",
       "type": "doctest"
      }
     ]
    },
    "q3_1": {
     "name": "q3_1",
     "points": [
      0,
      8
     ],
     "suites": [
      {
       "cases": [
        {
         "code": ">>> q3_1 in [1, 2, 3, 4]\nTrue",
         "hidden": false,
         "locked": false
        },
        {
         "code": ">>> q3_1 == 2\nTrue",
         "hidden": false,
         "locked": false
        }
       ],
       "scored": true,
       "setup": "",
       "teardown": "",
       "type": "doctest"
      }
     ]
    },
    "q3_2": {
     "name": "q3_2",
     "points": [
      0
     ],
     "suites": [
      {
       "cases": [
        {
         "code": ">>> q3_2 in [1, 2, 3, 4]\nTrue",
         "hidden": false,
         "locked": false
        }
       ],
       "scored": true,
       "setup": "",
       "teardown": "",
       "type": "doctest"
      }
     ]
    },
    "q3_3": {
     "name": "q3_3",
     "points": [
      0
     ],
     "suites": [
      {
       "cases": [
        {
         "code": ">>> type(q3_3) == np.ndarray\nTrue",
         "hidden": false,
         "locked": false
        }
       ],
       "scored": true,
       "setup": "",
       "teardown": "",
       "type": "doctest"
      }
     ]
    }
   }
  }
 },
 "nbformat": 4,
 "nbformat_minor": 5
}
